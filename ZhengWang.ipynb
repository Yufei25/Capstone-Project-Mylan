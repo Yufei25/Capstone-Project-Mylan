{
 "cells": [
  {
   "cell_type": "code",
   "execution_count": null,
   "metadata": {
    "collapsed": true
   },
   "outputs": [],
   "source": [
    "def matchStyle(p, keyword):\n",
    "    paras_toPrint = []\n",
    "    if keyword in p.text.lower(): # Append to the list if change of control is in the list\n",
    "        for run in p.runs:\n",
    "            if run.bold:\n",
    "                print run.text,'bold'\n",
    "                paras_toPrint.append(p)\n",
    "            if run.italic:\n",
    "                print run.text,'italic'\n",
    "                paras_toPrint.append(p)\n",
    "            if run.underline:\n",
    "                print run.text,'underline'\n",
    "                paras_toPrint.append(p)                \n",
    "    if len(paras_toPrint) == 0:\n",
    "        return False\n",
    "    else:\n",
    "        return True\n"
   ]
  }
 ],
 "metadata": {
  "kernelspec": {
   "display_name": "Python 2",
   "language": "python",
   "name": "python2"
  },
  "language_info": {
   "codemirror_mode": {
    "name": "ipython",
    "version": 2
   },
   "file_extension": ".py",
   "mimetype": "text/x-python",
   "name": "python",
   "nbconvert_exporter": "python",
   "pygments_lexer": "ipython2",
   "version": "2.7.14"
  }
 },
 "nbformat": 4,
 "nbformat_minor": 2
}
