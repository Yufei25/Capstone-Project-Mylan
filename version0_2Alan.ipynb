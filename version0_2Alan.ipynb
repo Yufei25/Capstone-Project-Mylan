{
 "cells": [
  {
   "cell_type": "code",
   "execution_count": 1,
   "metadata": {
    "collapsed": true
   },
   "outputs": [],
   "source": [
    "from docx import Document\n",
    "import os\n",
    "import re\n",
    "import csv\n",
    "import sys"
   ]
  },
  {
   "cell_type": "code",
   "execution_count": 2,
   "metadata": {
    "collapsed": true
   },
   "outputs": [],
   "source": [
    "# Yufei\n",
    "def indent(para):\n",
    "    return para.paragraph_format.first_line_indent"
   ]
  },
  {
   "cell_type": "markdown",
   "metadata": {},
   "source": [
    "### indent(para) Example\n",
    "&nbsp;&nbsp;&nbsp;&nbsp;&nbsp;&nbsp; Change of control means that (a) any Person or group (within the meaning of Rule13d-5 of the SEC under the Exchange Act) shall become the Beneficial Owner of 20% or more of the Voting Equity Interests of the Borrower, or (b) a majority of the members of the Board of Directors of the Borrower shall cease to be Continuing Members.\n",
    "\n",
    "&nbsp;&nbsp;&nbsp;&nbsp;&nbsp;&nbsp; Code shall mean the Internal Revenue Code of 1986, as the same may be amended or supplemented from time to time, and any successor statute of similar import, and the rules and regulations thereunder, as from time to time in effect."
   ]
  },
  {
   "cell_type": "code",
   "execution_count": 3,
   "metadata": {
    "collapsed": true
   },
   "outputs": [],
   "source": [
    "# Yufei\n",
    "def is_indent(paras, indent):\n",
    "    if paras.paragraph_format.first_line_indent == indent:\n",
    "        return True\n",
    "    else:\n",
    "        return False"
   ]
  },
  {
   "cell_type": "markdown",
   "metadata": {},
   "source": [
    "### indent() Example\n",
    "&nbsp;&nbsp;&nbsp;&nbsp;&nbsp;&nbsp; Change of control means that (a) any Person or group (within the meaning of Rule13d-5 of the SEC under the Exchange Act) shall become the Beneficial Owner of 20% or more of the Voting Equity Interests of the Borrower, or (b) a majority of the members of the Board of Directors of the Borrower shall cease to be Continuing Members."
   ]
  },
  {
   "cell_type": "code",
   "execution_count": 4,
   "metadata": {
    "collapsed": true
   },
   "outputs": [],
   "source": [
    "# Alan\n",
    "# paras: list of paragraph\n",
    "# start: index of the paragraph containes the keywords\n",
    "def isListPara(para):\n",
    "    paraFormat = para.style.name\n",
    "    if paraFormat == 'List Paragraph':\n",
    "        return True\n",
    "    return False"
   ]
  },
  {
   "cell_type": "markdown",
   "metadata": {},
   "source": [
    "### isListPara(para) Example\n",
    "1. any Person or group (within the meaning of Rule13d-5 of the SEC under the Exchange Act) shall become the Beneficial Owner of 20% or more of the Voting Equity Interests of the Borrower, or \n",
    "2. a majority of the members of the Board of Directors of the Borrower shall cease to be Continuing Members."
   ]
  },
  {
   "cell_type": "code",
   "execution_count": 5,
   "metadata": {
    "collapsed": true
   },
   "outputs": [],
   "source": [
    "def isNormalFollowingListPara(paras, curIndex):\n",
    "    targetFormat = paras[curIndex].style.name\n",
    "    nextFormat = paras[curIndex+1].style.name\n",
    "    if nextFormat == 'List Paragraph' and targetFormat == 'Normal':\n",
    "        return True\n",
    "    return False"
   ]
  },
  {
   "cell_type": "markdown",
   "metadata": {},
   "source": [
    "### isNormalFollwingListPara(paras, curIndex) Example\n",
    "Change of control means that \n",
    "1. any Person or group (within the meaning of Rule13d-5 of the SEC under the Exchange Act) shall become the Beneficial Owner of 20% or more of the Voting Equity Interests of the Borrower, or \n",
    "2. a majority of the members of the Board of Directors of the Borrower shall cease to be Continuing Members."
   ]
  },
  {
   "cell_type": "code",
   "execution_count": 6,
   "metadata": {
    "collapsed": true
   },
   "outputs": [],
   "source": [
    "def isNormal(para):\n",
    "    paraFormat = para.style.name\n",
    "    if paraFormat == 'List Paragraph':\n",
    "        return True\n",
    "    return False"
   ]
  },
  {
   "cell_type": "code",
   "execution_count": 7,
   "metadata": {
    "collapsed": true
   },
   "outputs": [],
   "source": [
    "# Zheng\n",
    "def bold(para):\n",
    "    paras_toPrint = []\n",
    "    for run in para.runs:\n",
    "        if run.bold:\n",
    "            #print run.text,'bold'\n",
    "            paras_toPrint.append(run.text)              \n",
    "    if len(paras_toPrint) == 0:\n",
    "        return False\n",
    "    else:\n",
    "        return True"
   ]
  },
  {
   "cell_type": "markdown",
   "metadata": {},
   "source": [
    "### bold(para) Example\n",
    "**Change of control** means that (a) any Person or group (within the meaning of Rule13d-5 of the SEC under the Exchange Act) shall become the Beneficial Owner of 20% or more of the Voting Equity Interests of the Borrower, or (b) a majority of the members of the Board of Directors of the Borrower shall cease to be Continuing Members.\n",
    "\n",
    "**Code** shall mean the Internal Revenue Code of 1986, as the same may be amended or supplemented from time to time, and any successor statute of similar import, and the rules and regulations thereunder, as from time to time in effect."
   ]
  },
  {
   "cell_type": "code",
   "execution_count": 8,
   "metadata": {
    "collapsed": true
   },
   "outputs": [],
   "source": [
    "# Zheng\n",
    "def is_bold(para, keywords):\n",
    "    paras_toPrint = []\n",
    "    if keyword in para.text.lower(): \n",
    "        for run in para.runs:\n",
    "            if run.bold:\n",
    "                #print run.text,'bold'\n",
    "                paras_toPrint.append(run.text)           \n",
    "    if len(paras_toPrint) == 0:\n",
    "        return False\n",
    "    else:\n",
    "        return True"
   ]
  },
  {
   "cell_type": "markdown",
   "metadata": {},
   "source": [
    "### is_bold(para, keywords) Example\n",
    "**Change of control** means that (a) any Person or group (within the meaning of Rule13d-5 of the SEC under the Exchange Act) shall become the Beneficial Owner of 20% or more of the Voting Equity Interests of the Borrower, or (b) a majority of the members of the Board of Directors of the Borrower shall cease to be Continuing Members."
   ]
  },
  {
   "cell_type": "code",
   "execution_count": 9,
   "metadata": {
    "collapsed": true
   },
   "outputs": [],
   "source": [
    "# Zheng\n",
    "def italic(para):\n",
    "    paras_toPrint = []\n",
    "    for run in para.runs:\n",
    "        if run.italic:\n",
    "            #print run.text,'italic'\n",
    "            paras_toPrint.append(run.text)\n",
    "        return False\n",
    "    else:\n",
    "        return True  "
   ]
  },
  {
   "cell_type": "markdown",
   "metadata": {},
   "source": [
    "### italic(para) Example\n",
    "_Change of control_ means that (a) any Person or group (within the meaning of Rule13d-5 of the SEC under the Exchange Act) shall become the Beneficial Owner of 20% or more of the Voting Equity Interests of the Borrower, or (b) a majority of the members of the Board of Directors of the Borrower shall cease to be Continuing Members.\n",
    "\n",
    "_Code_ shall mean the Internal Revenue Code of 1986, as the same may be amended or supplemented from time to time, and any successor statute of similar import, and the rules and regulations thereunder, as from time to time in effect."
   ]
  },
  {
   "cell_type": "code",
   "execution_count": 10,
   "metadata": {
    "collapsed": true
   },
   "outputs": [],
   "source": [
    "# Zheng\n",
    "def is_italic(para, keywords):\n",
    "    paras_toPrint = []\n",
    "    if keyword in para.text.lower():\n",
    "        for run in para.runs:\n",
    "            if run.italic:\n",
    "                #print run.text,'italic'\n",
    "                paras_toPrint.append(run.text)           \n",
    "    if len(paras_toPrint) == 0:\n",
    "        return False\n",
    "    else:\n",
    "        return True"
   ]
  },
  {
   "cell_type": "markdown",
   "metadata": {},
   "source": [
    "### italic(para, keywords) Example\n",
    "_Change of control_ means that (a) any Person or group (within the meaning of Rule13d-5 of the SEC under the Exchange Act) shall become the Beneficial Owner of 20% or more of the Voting Equity Interests of the Borrower, or (b) a majority of the members of the Board of Directors of the Borrower shall cease to be Continuing Members.\n"
   ]
  },
  {
   "cell_type": "code",
   "execution_count": 11,
   "metadata": {
    "collapsed": true
   },
   "outputs": [],
   "source": [
    "# Zheng\n",
    "def underline(para):\n",
    "    paras_toPrint = []\n",
    "    for run in para.runs:\n",
    "        if run.underline:\n",
    "            return True\n",
    "            #print run.text,'underline'\n",
    "            paras_toPrint.append(run.text)\n",
    "    return False"
   ]
  },
  {
   "cell_type": "markdown",
   "metadata": {},
   "source": [
    "### underline(para) Example\n",
    "Change of control means that (a) any Person or group (within the meaning of Rule13d-5 of the SEC under the Exchange Act) shall become the Beneficial Owner of 20% or more of the Voting Equity Interests of the Borrower, or (b) a majority of the members of the Board of Directors of the Borrower shall cease to be Continuing Members.\n",
    "\n",
    "Code shall mean the Internal Revenue Code of 1986, as the same may be amended or supplemented from time to time, and any successor statute of similar import, and the rules and regulations thereunder, as from time to time in effect."
   ]
  },
  {
   "cell_type": "code",
   "execution_count": 12,
   "metadata": {
    "collapsed": true
   },
   "outputs": [],
   "source": [
    "# Zheng\n",
    "def is_underline(para, keywords):\n",
    "    paras_toPrint = []    \n",
    "    if keywords.lower() in para.text.lower():\n",
    "        for run in para.runs:\n",
    "            if run.underline:\n",
    "                #print run.text,'underline'\n",
    "                paras_toPrint.append(run.text)\n",
    "    if len(paras_toPrint) == 0:\n",
    "        return False\n",
    "    else:\n",
    "        return True"
   ]
  },
  {
   "cell_type": "markdown",
   "metadata": {},
   "source": [
    "### is_underline(para, keywords) Example\n",
    "Change of control means that (a) any Person or group (within the meaning of Rule13d-5 of the SEC under the Exchange Act) shall become the Beneficial Owner of 20% or more of the Voting Equity Interests of the Borrower, or (b) a majority of the members of the Board of Directors of the Borrower shall cease to be Continuing Members."
   ]
  },
  {
   "cell_type": "code",
   "execution_count": 13,
   "metadata": {
    "collapsed": true
   },
   "outputs": [],
   "source": [
    "# Zoe\n",
    "def double_quotes(para):\n",
    "    \"\"\"\n",
    "        Find if paragraph starts with double quotes\n",
    "        \n",
    "        return: True or False\n",
    "    \"\"\"\n",
    "    words = re.findall(r'(\\\".+?\\\")', para.text)\n",
    "    if not words:\n",
    "        return False\n",
    "    if para.text.startswith(words[0]):\n",
    "        return True       \n",
    "    else:\n",
    "        return False"
   ]
  },
  {
   "cell_type": "markdown",
   "metadata": {},
   "source": [
    "### double_quotes(para) Example:\n",
    "\"Change of control\" means that (a) any Person or group (within the meaning of Rule13d-5 of the SEC under the Exchange Act) shall become the Beneficial Owner of 20% or more of the Voting Equity Interests of the Borrower, or (b) a majority of the members of the Board of Directors of the Borrower shall cease to be Continuing Members.\n",
    "\n",
    "\"Code\" shall mean the Internal Revenue Code of 1986, as the same may be amended or supplemented from time to time, and any successor statute of similar import, and the rules and regulations thereunder, as from time to time in effect.\n"
   ]
  },
  {
   "cell_type": "code",
   "execution_count": 14,
   "metadata": {
    "collapsed": true
   },
   "outputs": [],
   "source": [
    "# Zoe\n",
    "def is_double_quotes(para, keywords):\n",
    "    words = re.findall(r'\\\"(.+?)\\\"', para.text)\n",
    "    if not words:\n",
    "        return False\n",
    "    if para.text.startswith(\"\\\"\" + words[0] + \"\\\"\"):   #and words[0].lower() == keyword.lower():\n",
    "        return True       \n",
    "    else:\n",
    "        return False"
   ]
  },
  {
   "cell_type": "markdown",
   "metadata": {},
   "source": [
    "### is_double_quotes(para, keywords) Example:\n",
    "\"Change of control\" means that (a) any Person or group (within the meaning of Rule13d-5 of the SEC under the Exchange Act) shall become the Beneficial Owner of 20% or more of the Voting Equity Interests of the Borrower, or (b) a majority of the members of the Board of Directors of the Borrower shall cease to be Continuing Members."
   ]
  },
  {
   "cell_type": "code",
   "execution_count": 15,
   "metadata": {
    "collapsed": true
   },
   "outputs": [],
   "source": [
    "# Zoe\n",
    "def single_quotes(para):\n",
    "    words = re.findall(r'(\\'.+?\\')\\s',para.text)\n",
    "    if not words:\n",
    "        return False\n",
    "    if para.text.startswith(words[0]):\n",
    "        return True\n",
    "    else:\n",
    "        return False"
   ]
  },
  {
   "cell_type": "markdown",
   "metadata": {},
   "source": [
    "### single_quotes(para) Example:\n",
    "'Change of control' means that (a) any Person or group (within the meaning of Rule13d-5 of the SEC under the Exchange Act) shall become the Beneficial Owner of 20% or more of the Voting Equity Interests of the Borrower, or (b) a majority of the members of the Board of Directors of the Borrower shall cease to be Continuing Members.\n",
    "\n",
    "'Code' shall mean the Internal Revenue Code of 1986, as the same may be amended or supplemented from time to time, and any successor statute of similar import, and the rules and regulations thereunder, as from time to time in effect.\n"
   ]
  },
  {
   "cell_type": "code",
   "execution_count": 16,
   "metadata": {
    "collapsed": true
   },
   "outputs": [],
   "source": [
    "# Zoe\n",
    "def is_single_quotes(para, keywords):\n",
    "    words = re.findall(r'\\'(.+?)\\'\\s',para.text)\n",
    "    if not words:\n",
    "        return False\n",
    "    if para.text.startswith(\"\\'\"+ words[0] + \"\\'\"): # and words[0].lower() == keyword.lower():\n",
    "        return True\n",
    "    else:\n",
    "        return False"
   ]
  },
  {
   "cell_type": "markdown",
   "metadata": {},
   "source": [
    "### is_single_quotes(para, keywords) Example:\n",
    "'Change of control' means that (a) any Person or group (within the meaning of Rule13d-5 of the SEC under the Exchange Act) shall become the Beneficial Owner of 20% or more of the Voting Equity Interests of the Borrower, or (b) a majority of the members of the Board of Directors of the Borrower shall cease to be Continuing Members.\n"
   ]
  },
  {
   "cell_type": "code",
   "execution_count": 17,
   "metadata": {
    "collapsed": true
   },
   "outputs": [],
   "source": [
    "# Zoe\n",
    "def upper_case(para):\n",
    "    words = re.findall(r'([A-Z]+?)\\s',para.text)\n",
    "    if not words:\n",
    "        return False\n",
    "    if para.text.startswith(words[0]):\n",
    "        return True\n",
    "    else:\n",
    "        return False"
   ]
  },
  {
   "cell_type": "markdown",
   "metadata": {},
   "source": [
    "### upper_case(para) Example:\n",
    "Change of Control means that (a) any Person or group (within the meaning of Rule13d-5 of the SEC under the Exchange Act) shall become the Beneficial Owner of 20% or more of the Voting Equity Interests of the Borrower, or (b) a majority of the members of the Board of Directors of the Borrower shall cease to be Continuing Members.\n",
    "\n",
    "Code shall mean the Internal Revenue Code of 1986, as the same may be amended or supplemented from time to time, and any successor statute of similar import, and the rules and regulations thereunder, as from time to time in effect.\n"
   ]
  },
  {
   "cell_type": "code",
   "execution_count": 18,
   "metadata": {
    "collapsed": true
   },
   "outputs": [],
   "source": [
    "# Zoe\n",
    "def is_upper_case(para, keywords):\n",
    "    words = re.findall(r'([A-Z]+?)\\s',para.text)\n",
    "    if not words:\n",
    "        return False\n",
    "    if para.text.startswith(words[0]): # and words[0].lower() == keyword.lower():\n",
    "        return True\n",
    "    else:\n",
    "        return False"
   ]
  },
  {
   "cell_type": "markdown",
   "metadata": {},
   "source": [
    "### is_upper_case(para, keywords) Example:\n",
    "Code shall mean the Internal Revenue Code of 1986, as the same may be amended or supplemented from time to time, and any successor statute of similar import, and the rules and regulations thereunder, as from time to time in effect.\n"
   ]
  },
  {
   "cell_type": "code",
   "execution_count": 19,
   "metadata": {
    "collapsed": true
   },
   "outputs": [],
   "source": [
    "# Zoe\n",
    "from nltk.corpus import stopwords\n",
    "def remove_stopwords(keywords):\n",
    "    \n",
    "    \"\"\"\n",
    "        Remove the stopwords such as articles, prep and so on from keywords\n",
    "        \n",
    "    \"\"\"\n",
    "    \n",
    "    word_list = re.split(r'\\s',keywords)\n",
    "    filtered_words = [word for word in word_list if word not in stopwords.words('english')]\n",
    "    words = \" \".join(filtered_words)\n",
    "    return words"
   ]
  },
  {
   "cell_type": "markdown",
   "metadata": {},
   "source": [
    "#### Remove_Stopwords Test"
   ]
  },
  {
   "cell_type": "code",
   "execution_count": 20,
   "metadata": {},
   "outputs": [
    {
     "name": "stdout",
     "output_type": "stream",
     "text": [
      "Change Control\n"
     ]
    }
   ],
   "source": [
    "keyword = \"Change of Control\"\n",
    "print remove_stopwords(keyword)"
   ]
  },
  {
   "cell_type": "code",
   "execution_count": 21,
   "metadata": {
    "collapsed": true
   },
   "outputs": [],
   "source": [
    "# Zoe\n",
    "def upper_camel_case(para):\n",
    "    words_list = re.split(\" \", para.text)\n",
    "    new_para = remove_stopwords(para.text)\n",
    "    new_para_list = re.split(\" \", new_para)\n",
    "    new_words_list = re.findall(r'([A-Z][a-z0-9\\']+)[^A-Z]?\\s', new_para)\n",
    "    last_word = \"\"\n",
    "    for i in range(len(new_words_list)):\n",
    "        if new_words_list[i] == new_para_list[i]:\n",
    "            last_word = new_words_list[i]\n",
    "        else:\n",
    "            break\n",
    "    result = []\n",
    "    for j in range(len(words_list)):\n",
    "        if last_word == words_list[j]:\n",
    "            result.append(last_word)\n",
    "            break\n",
    "        else:\n",
    "            result.append(words_list[j])\n",
    "    if len(result) > 1:\n",
    "        return True\n",
    "    else:\n",
    "        return False"
   ]
  },
  {
   "cell_type": "markdown",
   "metadata": {},
   "source": [
    "### upper_camel_case(para, keywords) Example:\n",
    "Capitalized Lease Obligations means, with respect to any Person, all outstanding obligations of such Person in respect of Capital Leases, taken at the capitalized amount thereof accounted for as indebtedness in accordance with GAAP.\n",
    "\n",
    "Change in Law shall mean the occurrence, after the date of this Agreement, of any of the following: (a) the adoption or taking effect of any Law, (b) any change in any Law or in the administration, interpretation or application thereof by any Official Body or (c) the making or issuance of any request, guideline or directive (whether or not having the force of Law) by any Official Body.\n",
    "\n",
    "Change of Control means that (a) any Person or group (within the meaning of Rule13d-5 of the SEC under the Exchange Act) shall become the Beneficial Owner of 20% or more of the Voting Equity Interests of the Borrower, or (b) a majority of the members of the Board of Directors of the Borrower shall cease to be Continuing Members.\n",
    "\n",
    "Code shall mean the Internal Revenue Code of 1986, as the same may be amended or supplemented from time to time, and any successor statute of similar import, and the rules and regulations thereunder, as from time to time in effect."
   ]
  },
  {
   "cell_type": "code",
   "execution_count": 22,
   "metadata": {
    "collapsed": true
   },
   "outputs": [],
   "source": [
    "# Zoe\n",
    "def is_upper_camel_case(paragraph, keyword):\n",
    "    words_list = re.compile('\\w+').findall(paragraph.text)\n",
    "    new_paragraph = remove_stopwords(paragraph.text)\n",
    "    new_paragraph_list = re.compile('\\w+').findall(new_paragraph)\n",
    "    new_words_list = re.findall(r'([A-Z][a-z0-9\\']+)[^A-Z]?\\s', new_paragraph)\n",
    "\n",
    "    last_word = \"\"\n",
    "    for i in range(len(new_words_list)):\n",
    "        if new_words_list[i] == new_paragraph_list[i]:\n",
    "            last_word = new_words_list[i]\n",
    "        else:\n",
    "            break\n",
    "    result = []\n",
    "    for j in range(len(words_list)):\n",
    "        if last_word == words_list[j]:\n",
    "            result.append(last_word)\n",
    "            break\n",
    "        else:\n",
    "            result.append(words_list[j])\n",
    "    results = \" \".join(result)\n",
    "    if results.lower() == keyword.lower():\n",
    "        return True\n",
    "    else:\n",
    "        return False"
   ]
  },
  {
   "cell_type": "code",
   "execution_count": 23,
   "metadata": {
    "collapsed": true
   },
   "outputs": [],
   "source": [
    "# s = is_upper_camel_case('''\"Change of Control\" means Other Connection Taxes that are imposed on or measured by net income (however denominated) or that are franchise Taxes or branch profits Taxes.\n",
    "# ''', 'change of control')\n",
    "# print s"
   ]
  },
  {
   "cell_type": "markdown",
   "metadata": {},
   "source": [
    "### is_upper_camel_case() Example:\n",
    "Change of Control means that (a) any Person or group (within the meaning of Rule13d-5 of the SEC under the Exchange Act) shall become the Beneficial Owner of 20% or more of the Voting Equity Interests of the Borrower, or (b) a majority of the members of the Board of Directors of the Borrower shall cease to be Continuing Members.\n"
   ]
  },
  {
   "cell_type": "code",
   "execution_count": 24,
   "metadata": {
    "collapsed": true
   },
   "outputs": [],
   "source": [
    "# Yufei\n",
    "def search(paras, keywords):\n",
    "    index = []\n",
    "    i = 0\n",
    "    while (i<len(paras)):\n",
    "    #for p in paras:    # Traversing through each of the paragraphs\n",
    "        p = paras[i]\n",
    "        if keywords.lower() in p.text.lower():\n",
    "            index.append(i)\n",
    "        i = i+1\n",
    "    return index"
   ]
  },
  {
   "cell_type": "code",
   "execution_count": 25,
   "metadata": {
    "collapsed": true
   },
   "outputs": [],
   "source": [
    "# Yufei\n",
    "def find_patterns(paras, index, keyword):\n",
    "    paragraph = paras[index]\n",
    "    patterns = []\n",
    "    patterns.append(is_bold(paragraph, keyword))\n",
    "    patterns.append(is_italic(paragraph, keyword))\n",
    "    patterns.append(is_underline(paragraph, keyword))\n",
    "    patterns.append(is_double_quotes(paragraph, keyword))\n",
    "    patterns.append(is_single_quotes(paragraph, keyword))\n",
    "    patterns.append(is_upper_case(paragraph, keyword))\n",
    "    patterns.append(is_upper_camel_case(paragraph, keyword))\n",
    "    patterns.append(indent(paragraph))\n",
    "    patterns.append(isListPara(paragraph))\n",
    "    patterns.append(isNormalFollowingListPara(paras, index))\n",
    "    return patterns"
   ]
  },
  {
   "cell_type": "code",
   "execution_count": 26,
   "metadata": {
    "collapsed": true
   },
   "outputs": [],
   "source": [
    "# Yufei\n",
    "# pattern : [bold, italic, underline, double_quotes, single_quotes, upper case, camel upper case, indent]\n",
    "# indent is a number, others are bool\n",
    "def match(paras, targetPatterns, startIndex):\n",
    "    \n",
    "    i = startIndex + 1\n",
    "    match = []\n",
    "#     patterns = []\n",
    "    print ('Target  Patterns: ', targetPatterns)\n",
    "    \n",
    "    while (i<len(paras)):\n",
    "        patterns = []\n",
    "        #print(i)\n",
    "        p = paras[i]\n",
    "        print('Next Para: ', p.text)\n",
    "        #result = []\n",
    "\n",
    "        patterns.append(bold(p))\n",
    "        patterns.append(italic(p))\n",
    "        patterns.append(underline(p))\n",
    "        patterns.append(double_quotes(p))\n",
    "        patterns.append(single_quotes(p))\n",
    "        patterns.append(upper_case(p))\n",
    "        patterns.append(upper_camel_case(p))\n",
    "        patterns.append(indent(p))\n",
    "        patterns.append(isListPara(p))\n",
    "        patterns.append(isNormal(p))\n",
    "        \n",
    "        print('Next Para Patterns: ', patterns)\n",
    "        \n",
    "        if patterns == targetPatterns:\n",
    "            print 'Bingo !!!!!'\n",
    "            break\n",
    "        i = i + 1\n",
    "    for x in range(startIndex, i):\n",
    "        match.append(paras[x].text)\n",
    "        \n",
    "    return match"
   ]
  },
  {
   "cell_type": "code",
   "execution_count": 27,
   "metadata": {},
   "outputs": [
    {
     "name": "stdout",
     "output_type": "stream",
     "text": [
      "upper_camel_case+underline+after_list_paragraph.docx\n",
      "('keywordIndex:', [0, 3])\n",
      "0\n",
      "('Target  Patterns: ', [False, False, True, False, False, False, True, 266700, False, False])\n",
      "('Next Para: ', u'Contractual Obligation means, as to any Person, any provision of any security issued by such Person or of any agreement, instrument or other undertaking to which such Person is a party or by which it or any of its property is bound.')\n",
      "('Next Para Patterns: ', [False, False, True, False, False, False, True, 266700, False, False])\n",
      "Bingo !!!!!\n",
      "3\n",
      "('Target  Patterns: ', [False, False, True, False, False, False, True, 266700, False, True])\n",
      "('Next Para: ', u'any \\u201cperson\\u201d or \\u201cgroup\\u201d (as such terms are used in Sections 13(d) and 14(d) of the Exchange Act, but excluding any employee benefit plan of such person or its subsidiaries, and any person or entity acting in its capacity as trustee, agent or other fiduciary or administrator of any such plan and any Initial Shareholder) becomes the \\u201cbeneficial owner\\u201d (as defined in Rules 13d-3 and 13d-5 under the Exchange Act, except that a person or group shall be deemed to have \\u201cbeneficial ownership\\u201d of all securities that such person or group has the right to acquire, whether such right is exercisable immediately or only after the passage of time (such right, an \\u201coption right\\u201d)), directly or indirectly, of 35% or more of the equity securities of Holdings entitled to vote for members of the board of directors or equivalent governing body of Holdings on a fully-diluted basis (and taking into account all such securities that such person or group has the right to acquire pursuant to any option right);')\n",
      "('Next Para Patterns: ', [False, False, True, False, False, False, True, None, True, True])\n",
      "('Next Para: ', u'during any period of 24 consecutive months, a majority of the members of the board of directors or other equivalent governing body of Holdings cease to be composed of individuals (i) who were members of that board or equivalent governing body on the first day of such period, (ii) whose election or nomination to that board or equivalent governing body was approved by individuals referred to in clause (i) above constituting at the time of such election or nomination at least a majority of that board or equivalent governing body or (iii) whose election or nomination to that board or other equivalent governing body was approved by individuals referred to in clauses (i) and (ii) above constituting at the time of such election or nomination at least a majority of that board or equivalent governing body;')\n",
      "('Next Para Patterns: ', [False, False, True, False, False, False, True, None, True, True])\n",
      "('Next Para: ', u'any Person or two or more Persons acting in concert shall have acquired by contract or otherwise, or shall have entered into a contract or arrangement that, upon consummation thereof, will result in its or their acquisition of the power to exercise, directly or indirectly, a controlling influence over the management or policies of Holdings, or control over the equity securities of Holdings entitled to vote for members of the board of directors or equivalent governing body of Holdings on a fully-diluted basis (and taking into account all such securities that such Person or group has the right to acquire pursuant to any option right) representing 35% or more of the combined voting power of such securities.')\n",
      "('Next Para Patterns: ', [False, False, False, False, False, False, True, None, True, True])\n",
      "('Next Para: ', u'\\u201cCredit Agreement\\u201d means this Agreement, including the Schedules and Exhibits attached hereto.')\n",
      "('Next Para Patterns: ', [False, False, False, False, False, False, True, 266700, False, False])\n",
      "('Next Para: ', u'')\n",
      "('Next Para Patterns: ', [False, True, False, False, False, False, False, None, False, False])\n",
      "after_list_paragraph.docx\n",
      "('keywordIndex:', [0])\n",
      "0\n",
      "('Target  Patterns: ', [False, False, True, False, False, False, True, 266700, False, True])\n",
      "('Next Para: ', u'any \\u201cperson\\u201d or \\u201cgroup\\u201d (as such terms are used in Sections 13(d) and 14(d) of the Exchange Act, but excluding any employee benefit plan of such person or its subsidiaries, and any person or entity acting in its capacity as trustee, agent or other fiduciary or administrator of any such plan and any Initial Shareholder) becomes the \\u201cbeneficial owner\\u201d (as defined in Rules 13d-3 and 13d-5 under the Exchange Act, except that a person or group shall be deemed to have \\u201cbeneficial ownership\\u201d of all securities that such person or group has the right to acquire, whether such right is exercisable immediately or only after the passage of time (such right, an \\u201coption right\\u201d)), directly or indirectly, of 35% or more of the equity securities of Holdings entitled to vote for members of the board of directors or equivalent governing body of Holdings on a fully-diluted basis (and taking into account all such securities that such person or group has the right to acquire pursuant to any option right);')\n",
      "('Next Para Patterns: ', [False, False, True, False, False, False, True, None, True, True])\n",
      "('Next Para: ', u'during any period of 24 consecutive months, a majority of the members of the board of directors or other equivalent governing body of Holdings cease to be composed of individuals (i) who were members of that board or equivalent governing body on the first day of such period, (ii) whose election or nomination to that board or equivalent governing body was approved by individuals referred to in clause (i) above constituting at the time of such election or nomination at least a majority of that board or equivalent governing body or (iii) whose election or nomination to that board or other equivalent governing body was approved by individuals referred to in clauses (i) and (ii) above constituting at the time of such election or nomination at least a majority of that board or equivalent governing body;')\n",
      "('Next Para Patterns: ', [False, False, True, False, False, False, True, None, True, True])\n",
      "('Next Para: ', u'any Person or two or more Persons acting in concert shall have acquired by contract or otherwise, or shall have entered into a contract or arrangement that, upon consummation thereof, will result in its or their acquisition of the power to exercise, directly or indirectly, a controlling influence over the management or policies of Holdings, or control over the equity securities of Holdings entitled to vote for members of the board of directors or equivalent governing body of Holdings on a fully-diluted basis (and taking into account all such securities that such Person or group has the right to acquire pursuant to any option right) representing 35% or more of the combined voting power of such securities.')\n",
      "('Next Para Patterns: ', [False, False, False, False, False, False, True, None, True, True])\n",
      "before_list_paragraph.docx\n",
      "('keywordIndex:', [5])\n",
      "5\n",
      "('Target  Patterns: ', [False, False, True, False, False, False, True, None, True, False])\n",
      "('Next Para: ', u'Business Expenses. Upon presentation of vouchers and similar receipts, the Executive shall be entitled to receive reimbursement in accordance with the policies and procedures of the Company maintained from time to time for all reasonable business expenses actually incurred in the performance of the Executive Duties, and as more fully detailed in the Employee Manual.')\n",
      "('Next Para Patterns: ', [False, False, True, False, False, False, False, None, True, True])\n",
      "('Next Para: ', u'')\n",
      "('Next Para Patterns: ', [False, True, False, False, False, False, False, None, False, False])\n",
      "bold+italic+single_quotes.docx\n",
      "('keywordIndex:', [2])\n",
      "2\n",
      "('Target  Patterns: ', [False, False, False, False, False, False, False, 171450, False, False])\n",
      "('Next Para: ', u'')\n",
      "('Next Para Patterns: ', [False, True, False, False, False, False, False, 171450, False, False])\n",
      "('Next Para: ', u'\\u2018Benefits\\u2019. The Executive shall be entitled to participate in such employment benefits, including but not limited to a Section 401(k) retirement plan, health, dental, life insurance, and long term disability plans as are established by the Company and as in effect from time to time applicable to executives of the Company. The Company shall provide health and dental insurance plans or, if the Company is unable to provide such plans, the Company will reimburse the Executive for his health and dental insurance costs. The Company shall not be required to establish, continue or maintain any other specific benefits or benefit plans other than health and dental insurance.')\n",
      "('Next Para Patterns: ', [True, False, False, False, False, False, True, 171450, False, False])\n",
      "upper_camel+underline+double_quotes.docx\n",
      "('keywordIndex:', [1])\n",
      "1\n",
      "('Target  Patterns: ', [False, False, True, False, False, False, True, 914400, False, False])\n",
      "('Next Para: ', u'\\u201cContractual Obligation\\u201d means, as to any Person, any provision of any security issued by such Person or of any agreement, instrument or other undertaking to which such Person is a party or by which it or any of its property is bound.')\n",
      "('Next Para Patterns: ', [False, False, True, False, False, False, True, 914400, False, False])\n",
      "Bingo !!!!!\n",
      "end\n"
     ]
    }
   ],
   "source": [
    "# Abhay\n",
    "'''\n",
    "Open the output file in append mode and pull related language from the files in the input folder\n",
    "'''\n",
    "\n",
    "########################################################################\n",
    "out_filepath = '/Users/lihuilian/Desktop/Output/'\n",
    "out_filename = 'Output_search.csv'\n",
    "out_path = out_filepath + out_filename\n",
    "########################################################################\n",
    "\n",
    "\n",
    "header = ['File Name', 'Keywords', 'Change of Control'] # Column names in output file \n",
    "\n",
    "with open(out_path, 'wb') as f:\n",
    "    wr = csv.writer(f)\n",
    "    wr.writerow(header)\n",
    "\n",
    "with open(out_path, 'ab') as f:\n",
    "    # Input folder path\n",
    "    directory_path = '/Users/lihuilian/Desktop/input_f' \n",
    "    \n",
    "    # Parse through each file in the input folder path\n",
    "    for fileName in os.listdir(directory_path):\n",
    "        print fileName\n",
    "        \n",
    "        # Create a Document object of each of the files\n",
    "        document = Document(directory_path + \"/\" +fileName)\n",
    "        #testFile = '/Users/shenglan/Documents/Capstone/Code/Input Search files/Test1.docx'\n",
    "        #document = Document(testFile)\n",
    "        \n",
    "        # A list to add all the paragraphs in the document\n",
    "        paras = []\n",
    "        \n",
    "        '''\n",
    "        The following for loop is used to add all the paragraphs in the document to the paras list object\n",
    "        '''\n",
    "        for p in document.paragraphs:        \n",
    "            paras.append(p)\n",
    "            \n",
    "        paras_number = len(paras) # Find the number of paragraphs in the document\n",
    "        \n",
    "        paras_toPrint = [] # A list to add all the paragraphs relevant to 'Change of Control' language in this case\n",
    "        \n",
    "        keyword = \"Change of Control\"\n",
    "        keywordindex = search(paras, keyword)\n",
    "        \n",
    "        print('keywordIndex:', keywordindex)\n",
    "        \n",
    "        results = []\n",
    "        result = \"\"\n",
    "        for index in keywordindex:\n",
    "            print index\n",
    "            target = find_patterns(paras, index, keyword)\n",
    "            #print ('Target Pattern: ', target)\n",
    "            \n",
    "            if index == paras_number - 1:\n",
    "                result = paras[index]\n",
    "            else:\n",
    "                result = match(paras, target, index)\n",
    "            \n",
    "            results.append(result)\n",
    "\n",
    "        wr = csv.writer(f)\n",
    "#         wr.writerow(['Test1', 'Change of Control', results])\n",
    "        wr.writerow([fileName, keyword, results])\n",
    "        \n",
    "print(\"end\")\n",
    "f.close()"
   ]
  },
  {
   "cell_type": "code",
   "execution_count": null,
   "metadata": {
    "collapsed": true
   },
   "outputs": [],
   "source": []
  },
  {
   "cell_type": "code",
   "execution_count": 28,
   "metadata": {
    "collapsed": true
   },
   "outputs": [],
   "source": [
    "a = [True, False, 10102]\n",
    "b = [True, False, 10102]"
   ]
  },
  {
   "cell_type": "code",
   "execution_count": 29,
   "metadata": {},
   "outputs": [
    {
     "data": {
      "text/plain": [
       "False"
      ]
     },
     "execution_count": 29,
     "metadata": {},
     "output_type": "execute_result"
    }
   ],
   "source": [
    "a is b"
   ]
  },
  {
   "cell_type": "code",
   "execution_count": 30,
   "metadata": {},
   "outputs": [
    {
     "name": "stdout",
     "output_type": "stream",
     "text": [
      "['upper_camel_case+underline+after_list_paragraph.docx', 'after_list_paragraph.docx', 'before_list_paragraph.docx', 'bold+italic+single_quotes.docx', 'upper_camel+underline+double_quotes.docx']\n"
     ]
    }
   ],
   "source": [
    "print os.listdir(directory_path)"
   ]
  },
  {
   "cell_type": "code",
   "execution_count": null,
   "metadata": {
    "collapsed": true
   },
   "outputs": [],
   "source": []
  }
 ],
 "metadata": {
  "kernelspec": {
   "display_name": "Python 2",
   "language": "python",
   "name": "python2"
  },
  "language_info": {
   "codemirror_mode": {
    "name": "ipython",
    "version": 2
   },
   "file_extension": ".py",
   "mimetype": "text/x-python",
   "name": "python",
   "nbconvert_exporter": "python",
   "pygments_lexer": "ipython2",
   "version": "2.7.14"
  }
 },
 "nbformat": 4,
 "nbformat_minor": 1
}
