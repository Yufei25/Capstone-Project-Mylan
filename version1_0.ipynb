{
 "cells": [
  {
   "cell_type": "code",
   "execution_count": 519,
   "metadata": {
    "collapsed": true
   },
   "outputs": [],
   "source": [
    "from docx import Document\n",
    "import os\n",
    "import re\n",
    "import csv\n",
    "import sys"
   ]
  },
  {
   "cell_type": "markdown",
   "metadata": {},
   "source": [
    "### indent(para) Example\n",
    "&nbsp;&nbsp;&nbsp;&nbsp;&nbsp;&nbsp; Change of control means that (a) any Person or group (within the meaning of Rule13d-5 of the SEC under the Exchange Act) shall become the Beneficial Owner of 20% or more of the Voting Equity Interests of the Borrower, or (b) a majority of the members of the Board of Directors of the Borrower shall cease to be Continuing Members.\n",
    "\n",
    "&nbsp;&nbsp;&nbsp;&nbsp;&nbsp;&nbsp; Code shall mean the Internal Revenue Code of 1986, as the same may be amended or supplemented from time to time, and any successor statute of similar import, and the rules and regulations thereunder, as from time to time in effect."
   ]
  },
  {
   "cell_type": "code",
   "execution_count": 520,
   "metadata": {
    "collapsed": true
   },
   "outputs": [],
   "source": [
    "'''\n",
    "Author: Yufei\n",
    "\n",
    "Get the indent space of the paragraph, used in find_patterns and match function\n",
    "\n",
    "-para = paragraph\n",
    "\n",
    "return a num means the indent space or null if no indent\n",
    "'''\n",
    "def indent(para):\n",
    "    return para.paragraph_format.first_line_indent"
   ]
  },
  {
   "cell_type": "markdown",
   "metadata": {},
   "source": [
    "### bullet_list(para) Example\n",
    "Change of control means that \n",
    "\n",
    "&nbsp;&nbsp;&nbsp;&nbsp;(a) any Person or group (within the meaning of Rule13d-5 of the SEC under the Exchange Act) shall become the Beneficial Owner of 20% or more of the Voting Equity Interests of the Borrower, or \n",
    "\n",
    "&nbsp;&nbsp;&nbsp;&nbsp;(b) a majority of the members of the Board of Directors of the Borrower shall cease to be Continuing Members.\n"
   ]
  },
  {
   "cell_type": "code",
   "execution_count": 521,
   "metadata": {
    "collapsed": true
   },
   "outputs": [],
   "source": [
    "'''\n",
    "Author: Eden\n",
    "\n",
    "Check if the paragraph is bullet ordered list, used in find_patterns and match function\n",
    "\n",
    "-para = paragraph\n",
    "\n",
    "return the regex pattern of this paragraph or None\n",
    "'''\n",
    "def bullet_list(para):\n",
    "    pattern = None\n",
    "    flag1 = re.match(\"\\([A-Z]+\\)\", para.text.lstrip()[:10])\n",
    "    flag2 = re.match(\"\\([a-z]+\\)\", para.text.lstrip()[:10])\n",
    "    flag3 = re.match(\"\\([0-9]+\\)\", para.text.lstrip()[:10])\n",
    "              \n",
    "    if flag1:\n",
    "        pattern = \"\\([A-Z]+\\)\"\n",
    "    elif flag2:\n",
    "        pattern = \"\\([a-z]+\\)\"\n",
    "    elif flag3:\n",
    "        pattern = \"\\([0-9]+\\)\"\n",
    "    else:\n",
    "        pattern = None\n",
    "    return pattern"
   ]
  },
  {
   "cell_type": "code",
   "execution_count": 522,
   "metadata": {},
   "outputs": [
    {
     "name": "stdout",
     "output_type": "stream",
     "text": [
      "\\([0-9]+\\)\n",
      "\\([a-z]+\\)\n",
      "None\n",
      "None\n"
     ]
    }
   ],
   "source": [
    "'''\n",
    "Testing Function\n",
    "'''\n",
    "with open(out_path, 'ab') as f:\n",
    "    # Input folder path\n",
    "    directory_path = '/Users/yangyi/Desktop' \n",
    "    fileName = 'test.docx'\n",
    "    document = Document(directory_path + \"/\" +fileName)\n",
    "    \n",
    "    for p in document.paragraphs:   \n",
    "        pattern = bullet_list(p)\n",
    "        print pattern\n",
    "f.close()"
   ]
  },
  {
   "cell_type": "markdown",
   "metadata": {},
   "source": [
    "### isListPara(para) Example\n",
    "1. any Person or group (within the meaning of Rule13d-5 of the SEC under the Exchange Act) shall become the Beneficial Owner of 20% or more of the Voting Equity Interests of the Borrower, or \n",
    "2. a majority of the members of the Board of Directors of the Borrower shall cease to be Continuing Members."
   ]
  },
  {
   "cell_type": "code",
   "execution_count": 523,
   "metadata": {
    "collapsed": true
   },
   "outputs": [],
   "source": [
    "'''\n",
    "Author: Alan\n",
    "\n",
    "Check if the paragraph is list paragraph rather than normal paragraph, used in find_patterns and match function\n",
    "\n",
    "-para = paragraph\n",
    "\n",
    "return True/False\n",
    "'''\n",
    "def isListPara(para):\n",
    "    paraFormat = para.style.name\n",
    "    if paraFormat == 'List Paragraph':\n",
    "        return True\n",
    "    return False"
   ]
  },
  {
   "cell_type": "markdown",
   "metadata": {},
   "source": [
    "### isNormal(para) Example\n",
    "any Person or group (within the meaning of Rule13d-5 of the SEC under the Exchange Act) shall become the Beneficial Owner of 20% or more of the Voting Equity Interests of the Borrower, or "
   ]
  },
  {
   "cell_type": "code",
   "execution_count": 524,
   "metadata": {
    "collapsed": true
   },
   "outputs": [],
   "source": [
    "'''\n",
    "Author: Alan\n",
    "\n",
    "Check if the paragraph is Normal rather than list paragraph，used in match function\n",
    "\n",
    "-para = paragraph\n",
    "\n",
    "return True/False\n",
    "'''\n",
    "def isNormal(para):\n",
    "    paraFormat = para.style.name\n",
    "    if paraFormat == 'Normal':\n",
    "        return True\n",
    "    return False"
   ]
  },
  {
   "cell_type": "markdown",
   "metadata": {},
   "source": [
    "### isNormalFollwingListPara(paras, curIndex) Example\n",
    "Change of control means that \n",
    "1. any Person or group (within the meaning of Rule13d-5 of the SEC under the Exchange Act) shall become the Beneficial Owner of 20% or more of the Voting Equity Interests of the Borrower, or \n",
    "2. a majority of the members of the Board of Directors of the Borrower shall cease to be Continuing Members."
   ]
  },
  {
   "cell_type": "code",
   "execution_count": 525,
   "metadata": {
    "collapsed": true
   },
   "outputs": [],
   "source": [
    "'''\n",
    "Author: Alan\n",
    "\n",
    "Check if the paragraph followed by list paragraph, used in find_patterns function\n",
    "\n",
    "-paras = all the paragraph\n",
    "-curIndex = the index of current paragraph\n",
    "\n",
    "return True/False\n",
    "'''\n",
    "def isNormalFollowingListPara(paras, curIndex):\n",
    "    targetFormat = paras[curIndex].style.name\n",
    "    if curIndex == len(paras) - 1:\n",
    "        return False\n",
    "    nextFormat = paras[curIndex+1].style.name\n",
    "    if nextFormat == 'List Paragraph' and targetFormat == 'Normal':\n",
    "        return True\n",
    "    return False"
   ]
  },
  {
   "cell_type": "markdown",
   "metadata": {},
   "source": [
    "### bold(para) Example\n",
    "**Change of control** means that (a) any Person or group (within the meaning of Rule13d-5 of the SEC under the Exchange Act) shall become the Beneficial Owner of 20% or more of the Voting Equity Interests of the Borrower, or (b) a majority of the members of the Board of Directors of the Borrower shall cease to be Continuing Members.\n",
    "\n",
    "**Code** shall mean the Internal Revenue Code of 1986, as the same may be amended or supplemented from time to time, and any successor statute of similar import, and the rules and regulations thereunder, as from time to time in effect."
   ]
  },
  {
   "cell_type": "code",
   "execution_count": 526,
   "metadata": {
    "collapsed": true
   },
   "outputs": [],
   "source": [
    "'''\n",
    "Author: Zheng\n",
    "\n",
    "Check if the bold font in the paragraph, used in match function\n",
    "\n",
    "-para = paragraph\n",
    "\n",
    "return True/False\n",
    "'''\n",
    "def bold(para):\n",
    "    paras_toPrint = []\n",
    "    for run in para.runs:\n",
    "        if run.bold:\n",
    "            #print run.text,'bold'\n",
    "            paras_toPrint.append(run.text)              \n",
    "    if len(paras_toPrint) == 0:\n",
    "        return False\n",
    "    else:\n",
    "        return True"
   ]
  },
  {
   "cell_type": "markdown",
   "metadata": {},
   "source": [
    "### is_bold(para, keywords) Example\n",
    "**Change of control** means that (a) any Person or group (within the meaning of Rule13d-5 of the SEC under the Exchange Act) shall become the Beneficial Owner of 20% or more of the Voting Equity Interests of the Borrower, or (b) a majority of the members of the Board of Directors of the Borrower shall cease to be Continuing Members."
   ]
  },
  {
   "cell_type": "code",
   "execution_count": 527,
   "metadata": {
    "collapsed": true
   },
   "outputs": [],
   "source": [
    "'''\n",
    "Author: Zheng\n",
    "\n",
    "Check if the bold font and keyword in the paragraph, used in find_patterns function\n",
    "\n",
    "-para = paragraph\n",
    "-keywords = search words\n",
    "\n",
    "return True/False\n",
    "'''\n",
    "def is_bold(para, keywords):\n",
    "    paras_toPrint = []\n",
    "    if keyword.lower() in para.text.lower(): \n",
    "        for run in para.runs:\n",
    "            if run.bold:\n",
    "                #print run.text,'bold'\n",
    "                paras_toPrint.append(run.text)\n",
    "                return True\n",
    "    return False"
   ]
  },
  {
   "cell_type": "markdown",
   "metadata": {},
   "source": [
    "### is_italic(para, keywords) Example\n",
    "_Change of control_ means that (a) any Person or group (within the meaning of Rule13d-5 of the SEC under the Exchange Act) shall become the Beneficial Owner of 20% or more of the Voting Equity Interests of the Borrower, or (b) a majority of the members of the Board of Directors of the Borrower shall cease to be Continuing Members."
   ]
  },
  {
   "cell_type": "code",
   "execution_count": 528,
   "metadata": {
    "collapsed": true
   },
   "outputs": [],
   "source": [
    "'''\n",
    "Author: Zheng\n",
    "\n",
    "Check if the italic font and keywords in the paragraph, used in match function\n",
    "\n",
    "-para = paragraph\n",
    "\n",
    "return True/False\n",
    "'''\n",
    "def is_italic(para, keywords):\n",
    "    paras_toPrint = []\n",
    "    if keywords.lower() in para.text.lower():\n",
    "        for run in para.runs:\n",
    "            if run.italic:\n",
    "                paras_toPrint.append(run.text)\n",
    "                return True\n",
    "    return False"
   ]
  },
  {
   "cell_type": "markdown",
   "metadata": {},
   "source": [
    "### italic(para) Example\n",
    "_Code_ shall mean the Internal Revenue Code of 1986, as the same may be amended or supplemented from time to time, and any successor statute of similar import, and the rules and regulations thereunder, as from time to time in effect."
   ]
  },
  {
   "cell_type": "code",
   "execution_count": 529,
   "metadata": {
    "collapsed": true
   },
   "outputs": [],
   "source": [
    "'''\n",
    "Author: Zheng\n",
    "\n",
    "Check if the italic font in the paragraph, used in match function\n",
    "\n",
    "-para = paragraph\n",
    "\n",
    "return True/False\n",
    "'''\n",
    "def italic(para):\n",
    "    paras_toPrint = []\n",
    "    for run in para.runs:\n",
    "        if run.italic:\n",
    "            #print run.text,'italic'\n",
    "            return True\n",
    "            paras_toPrint.append(run.text)\n",
    "    return False"
   ]
  },
  {
   "cell_type": "markdown",
   "metadata": {},
   "source": [
    "### is_underline(para, keywords) Example\n",
    "Change of control(Underline) means that (a) any Person or group (within the meaning of Rule13d-5 of the SEC under the Exchange Act) shall become the Beneficial Owner of 20% or more of the Voting Equity Interests of the Borrower, or (b) a majority of the members of the Board of Directors of the Borrower shall cease to be Continuing Members."
   ]
  },
  {
   "cell_type": "code",
   "execution_count": 530,
   "metadata": {
    "collapsed": true
   },
   "outputs": [],
   "source": [
    "# Zheng\n",
    "def is_underline(para, keywords):\n",
    "    paras_toPrint = []    \n",
    "    if keywords.lower() in para.text.lower():\n",
    "        for run in para.runs:\n",
    "            if run.underline:\n",
    "                #print run.text,'underline'\n",
    "                paras_toPrint.append(run.text)\n",
    "    if len(paras_toPrint) == 0:\n",
    "        return False\n",
    "    else:\n",
    "        return True"
   ]
  },
  {
   "cell_type": "markdown",
   "metadata": {},
   "source": [
    "### underline(para) Example\n",
    "\n",
    "Code(Underline) shall mean the Internal Revenue Code of 1986, as the same may be amended or supplemented from time to time, and any successor statute of similar import, and the rules and regulations thereunder, as from time to time in effect."
   ]
  },
  {
   "cell_type": "code",
   "execution_count": 531,
   "metadata": {
    "collapsed": true
   },
   "outputs": [],
   "source": [
    "'''\n",
    "Author: Zheng\n",
    "\n",
    "Check if the underline in the paragraph, used in match function\n",
    "\n",
    "-para = paragraph\n",
    "\n",
    "return True/False\n",
    "'''\n",
    "def underline(para):\n",
    "    paras_toPrint = []\n",
    "    for run in para.runs:\n",
    "        if run.underline:\n",
    "            return True\n",
    "            #print run.text,'underline'\n",
    "            paras_toPrint.append(run.text)\n",
    "    return False"
   ]
  },
  {
   "cell_type": "markdown",
   "metadata": {},
   "source": [
    "### is_double_quotes(para, keywords) Example:\n",
    "\"Change of control\" means that (a) any Person or group (within the meaning of Rule13d-5 of the SEC under the Exchange Act) shall become the Beneficial Owner of 20% or more of the Voting Equity Interests of the Borrower, or (b) a majority of the members of the Board of Directors of the Borrower shall cease to be Continuing Members."
   ]
  },
  {
   "cell_type": "code",
   "execution_count": 532,
   "metadata": {
    "collapsed": true
   },
   "outputs": [],
   "source": [
    "'''\n",
    "Author: Zoe\n",
    "\n",
    "Check if the keyword is double quoted in the paragraph, used in find_patterns function\n",
    "\n",
    "-para = paragraph\n",
    "\n",
    "return True/False\n",
    "'''\n",
    "def is_double_quotes(para, keywords):\n",
    "    words = re.findall(r'\\\"(.+?)\\\"', para.text)\n",
    "#     print '\\tIS Double Quotes', words\n",
    "    if not words:\n",
    "        return False\n",
    "    if para.text.startswith(\"\\\"\" + words[0] + \"\\\"\"):   #and words[0].lower() == keyword.lower():\n",
    "        return True       \n",
    "    else:\n",
    "        return False"
   ]
  },
  {
   "cell_type": "markdown",
   "metadata": {},
   "source": [
    "### double_quotes(para) Example:\n",
    "\n",
    "\"Code\" shall mean the Internal Revenue Code of 1986, as the same may be amended or supplemented from time to time, and any successor statute of similar import, and the rules and regulations thereunder, as from time to time in effect.\n"
   ]
  },
  {
   "cell_type": "code",
   "execution_count": 533,
   "metadata": {
    "collapsed": true
   },
   "outputs": [],
   "source": [
    "'''\n",
    "Author: Zoe\n",
    "\n",
    "Check if the double quotes in the paragraph, used in match function\n",
    "\n",
    "-para = paragraph\n",
    "\n",
    "return True/False\n",
    "'''\n",
    "def double_quotes(para):\n",
    "    \"\"\"\n",
    "        Find if paragraph starts with double quotes\n",
    "        \n",
    "        return: True or False\n",
    "    \"\"\"\n",
    "    words = re.findall(r'(\\\".+?\\\")', para.text)\n",
    "    if not words:\n",
    "        return False\n",
    "    if para.text.startswith(words[0]):\n",
    "        return True       \n",
    "    else:\n",
    "        return False"
   ]
  },
  {
   "cell_type": "markdown",
   "metadata": {},
   "source": [
    "### is_single_quotes(para, keywords) Example:\n",
    "'Change of control' means that (a) any Person or group (within the meaning of Rule13d-5 of the SEC under the Exchange Act) shall become the Beneficial Owner of 20% or more of the Voting Equity Interests of the Borrower, or (b) a majority of the members of the Board of Directors of the Borrower shall cease to be Continuing Members.\n"
   ]
  },
  {
   "cell_type": "code",
   "execution_count": 534,
   "metadata": {
    "collapsed": true
   },
   "outputs": [],
   "source": [
    "'''\n",
    "Author: Zoe\n",
    "\n",
    "Check if the keyword is single quoted in the paragraph, used in find_patterns function\n",
    "\n",
    "-para = paragraph\n",
    "\n",
    "return True/False\n",
    "'''\n",
    "def is_single_quotes(para, keywords):\n",
    "    words = re.findall(r'\\'(.+?)\\'\\s',para.text)\n",
    "    if not words:\n",
    "        return False\n",
    "    if para.text.startswith(\"\\'\"+ words[0] + \"\\'\"): # and words[0].lower() == keyword.lower():\n",
    "        return True\n",
    "    else:\n",
    "        return False"
   ]
  },
  {
   "cell_type": "markdown",
   "metadata": {},
   "source": [
    "### single_quotes(para) Example:\n",
    "\n",
    "'Code' shall mean the Internal Revenue Code of 1986, as the same may be amended or supplemented from time to time, and any successor statute of similar import, and the rules and regulations thereunder, as from time to time in effect.\n"
   ]
  },
  {
   "cell_type": "code",
   "execution_count": 535,
   "metadata": {
    "collapsed": true
   },
   "outputs": [],
   "source": [
    "'''\n",
    "Author: Zoe\n",
    "\n",
    "Check if single quotes in the paragraph, used in match function\n",
    "\n",
    "-para = paragraph\n",
    "\n",
    "return True/False\n",
    "'''\n",
    "def single_quotes(para):\n",
    "    words = re.findall(r'(\\'.+?\\')\\s',para.text)\n",
    "    if not words:\n",
    "        return False\n",
    "    if para.text.startswith(words[0]):\n",
    "        return True\n",
    "    else:\n",
    "        return False"
   ]
  },
  {
   "cell_type": "markdown",
   "metadata": {},
   "source": [
    "### is_upper_case(para, keywords) Example:\n",
    "CHANGE OF CONTROL shall mean the Internal Revenue Code of 1986, as the same may be amended or supplemented from time to time, and any successor statute of similar import, and the rules and regulations thereunder, as from time to time in effect.\n"
   ]
  },
  {
   "cell_type": "code",
   "execution_count": 536,
   "metadata": {
    "collapsed": true
   },
   "outputs": [],
   "source": [
    "'''\n",
    "Author: Zoe\n",
    "\n",
    "Check if the keyword is upper case in the paragraph, used in find_patterns function\n",
    "\n",
    "-para = paragraph\n",
    "\n",
    "return True/False\n",
    "'''\n",
    "def is_upper_case(para, keywords):\n",
    "    words = re.findall(r'([A-Z]+?)\\s',para.text)\n",
    "    if not words:\n",
    "        return False\n",
    "    if para.text.startswith(words[0]): # and words[0].lower() == keyword.lower():\n",
    "        return True\n",
    "    else:\n",
    "        return False"
   ]
  },
  {
   "cell_type": "markdown",
   "metadata": {},
   "source": [
    "### upper_case(para) Example:\n",
    "\n",
    "UPPERCASE shall mean the Internal Revenue Code of 1986, as the same may be amended or supplemented from time to time, and any successor statute of similar import, and the rules and regulations thereunder, as from time to time in effect.\n"
   ]
  },
  {
   "cell_type": "code",
   "execution_count": 537,
   "metadata": {
    "collapsed": true
   },
   "outputs": [],
   "source": [
    "'''\n",
    "Author: Zoe\n",
    "\n",
    "Check if upper case word in the paragraph, used in match function\n",
    "\n",
    "-para = paragraph\n",
    "\n",
    "return True/False\n",
    "'''\n",
    "def upper_case(para):\n",
    "    words = re.findall(r'([A-Z]+?)\\s',para.text)\n",
    "    if not words:\n",
    "        return False\n",
    "    if para.text.startswith(words[0]):\n",
    "        return True\n",
    "    else:\n",
    "        return False"
   ]
  },
  {
   "cell_type": "markdown",
   "metadata": {},
   "source": [
    "#### Remove_Stopwords Test"
   ]
  },
  {
   "cell_type": "code",
   "execution_count": 538,
   "metadata": {
    "collapsed": true
   },
   "outputs": [],
   "source": [
    "'''\n",
    "Author: Eden\n",
    "\n",
    "Read stopwords from files and return a stopwords set.\n",
    "\n",
    "-filename = file name\n",
    "\n",
    "return the set of stopwords\n",
    "'''\n",
    "def read_stop_words(filename):\n",
    "    vector = []\n",
    "    with open(filename, 'r') as f:\n",
    "        input = f.read().splitlines()\n",
    "\n",
    "    [vector.append(input[i]) for i in range(len(input))]   \n",
    "    return set(vector)"
   ]
  },
  {
   "cell_type": "code",
   "execution_count": 539,
   "metadata": {},
   "outputs": [],
   "source": [
    "'''\n",
    "Author: Zoe\n",
    "\n",
    "Remove the stopwords such as articles, prep and so on from keywords\n",
    "\n",
    "-keywords = search word\n",
    "\n",
    "return the string without stopwords\n",
    "'''\n",
    "\n",
    "def remove_stopwords(keywords, stop_set):\n",
    "    word_list = re.split(r'\\s',keywords)\n",
    "    filtered_words = [word for word in word_list if word not in stop_set]\n",
    "    words = \" \".join(filtered_words)\n",
    "    return words"
   ]
  },
  {
   "cell_type": "code",
   "execution_count": 507,
   "metadata": {},
   "outputs": [
    {
     "name": "stdout",
     "output_type": "stream",
     "text": [
      "Change Control\n"
     ]
    }
   ],
   "source": [
    "'''\n",
    "Testing Function\n",
    "'''\n",
    "directory_path = '/Users/yangyi/Desktop' \n",
    "fileName = 'stop_words.txt'\n",
    "stop_set = read_stop_words(directory_path + '/' +  fileName)\n",
    "keyword = \"Change of Control\"\n",
    "print remove_stopwords(keyword, stop_set)"
   ]
  },
  {
   "cell_type": "code",
   "execution_count": 540,
   "metadata": {
    "collapsed": true
   },
   "outputs": [],
   "source": [
    "'''\n",
    "Author: Eden\n",
    "\n",
    "Traversing through each of the paragraphs and find the paragraph containing the keywords\n",
    "\n",
    "-paras = all paragraphs\n",
    "-keywords = search words\n",
    "\n",
    "return a list of paragraph index \n",
    "'''\n",
    "def search_2(paras, keyword):\n",
    "    index = []\n",
    "    i = 0\n",
    "    target = remove_stopwords(keyword.lower(), stop_set)\n",
    "    while (i<len(paras)):\n",
    "        p = paras[i]\n",
    "        if contains_sliding_window(p.text.lower(), target, 2 * len(keyword)):\n",
    "            print 'test3'\n",
    "            index.append(i)\n",
    "        i = i+1\n",
    "    return index"
   ]
  },
  {
   "cell_type": "code",
   "execution_count": 541,
   "metadata": {},
   "outputs": [],
   "source": [
    "'''\n",
    "Author: Eden\n",
    "\n",
    "Find the keywords by sliding windows so that even the order of keywords change, we can still fetch the results\n",
    "\n",
    "-text = all paragraphs\n",
    "-keywords = search words\n",
    "-win_len = the length of sliding window\n",
    "\n",
    "return True if the keyword is in text within a sliding window by random orders.\n",
    "'''\n",
    "def contains_sliding_window(text, keyword, win_len):\n",
    "    target_words = re.split('[\\s]', keyword)\n",
    "    probe = target_words[0]\n",
    "#     print probe\n",
    "#     print text\n",
    "    \n",
    "    flag = False\n",
    "    i = 0\n",
    "    while (True):\n",
    "        text = text[i:]\n",
    "        if probe in text:\n",
    "            i = text.index(probe)\n",
    "            l_pointer = max(0,i - win_len)\n",
    "            r_pointer = min(len(text),i + win_len)\n",
    "            window_str = text[l_pointer:r_pointer]\n",
    "            flag = True\n",
    "            for target_word in target_words:\n",
    "                if target_word not in window_str:\n",
    "                    flag = False\n",
    "            if flag:\n",
    "                return True\n",
    "        else:\n",
    "            break"
   ]
  },
  {
   "cell_type": "code",
   "execution_count": 542,
   "metadata": {},
   "outputs": [
    {
     "name": "stdout",
     "output_type": "stream",
     "text": [
      "aaChange of Control means an event or series of events by which:1\n"
     ]
    }
   ],
   "source": [
    "'''\n",
    "Testing Function\n",
    "'''\n",
    "text = 'aaChange of Control means an event or series of events by which:'\n",
    "if contains_sliding_window(text.lower(), 'change control', 2 * len(keyword)):\n",
    "    print text + '1'"
   ]
  },
  {
   "cell_type": "markdown",
   "metadata": {},
   "source": [
    "### upper_camel_case(para, keywords) Example:\n",
    "Capitalized Lease Obligations means, with respect to any Person, all outstanding obligations of such Person in respect of Capital Leases, taken at the capitalized amount thereof accounted for as indebtedness in accordance with GAAP.\n",
    "\n",
    "Change of Control means that (a) any Person or group (within the meaning of Rule13d-5 of the SEC under the Exchange Act) shall become the Beneficial Owner of 20% or more of the Voting Equity Interests of the Borrower, or (b) a majority of the members of the Board of Directors of the Borrower shall cease to be Continuing Members.\n",
    "\n",
    "Code shall mean the Internal Revenue Code of 1986, as the same may be amended or supplemented from time to time, and any successor statute of similar import, and the rules and regulations thereunder, as from time to time in effect."
   ]
  },
  {
   "cell_type": "code",
   "execution_count": 543,
   "metadata": {
    "collapsed": true
   },
   "outputs": [],
   "source": [
    "'''\n",
    "Author: Zoe\n",
    "\n",
    "Still Testing\n",
    "'''\n",
    "def upper_camel_case(para, stop_set):\n",
    "    words_list = re.split(\" \", para.text)\n",
    "    new_para = remove_stopwords(para.text, stop_set)\n",
    "    new_para_list = re.split(\" \", new_para)\n",
    "    new_words_list = re.findall(r'([A-Z][a-z0-9\\']+)[^A-Z]?\\s', new_para)\n",
    "    last_word = \"\"\n",
    "    for i in range(len(new_words_list)):\n",
    "        if new_words_list[i] == new_para_list[i]:\n",
    "            last_word = new_words_list[i]\n",
    "        else:\n",
    "            break\n",
    "    result = []\n",
    "    for j in range(len(words_list)):\n",
    "        if last_word == words_list[j]:\n",
    "            result.append(last_word)\n",
    "            break\n",
    "        else:\n",
    "            result.append(words_list[j])\n",
    "    if len(result) > 1:\n",
    "        return True\n",
    "    else:\n",
    "        return False"
   ]
  },
  {
   "cell_type": "markdown",
   "metadata": {},
   "source": [
    "### is_upper_camel_case() Example:\n",
    "Change of Control means that (a) any Person or group (within the meaning of Rule13d-5 of the SEC under the Exchange Act) shall become the Beneficial Owner of 20% or more of the Voting Equity Interests of the Borrower, or (b) a majority of the members of the Board of Directors of the Borrower shall cease to be Continuing Members.\n"
   ]
  },
  {
   "cell_type": "code",
   "execution_count": 554,
   "metadata": {
    "collapsed": true
   },
   "outputs": [],
   "source": [
    "'''\n",
    "Author: Zoe\n",
    "\n",
    "Still Testing\n",
    "'''\n",
    "def is_upper_camel_case(paragraph, keyword, stop_set):\n",
    "    words_list = re.compile('\\w+').findall(paragraph.text)\n",
    "    new_paragraph = remove_stopwords(paragraph.text, stop_set)\n",
    "    new_paragraph_list = re.compile('\\w+').findall(new_paragraph)\n",
    "    new_words_list = re.findall(r'([A-Z][a-z0-9\\']+)[^A-Z]?\\s', new_paragraph)\n",
    "\n",
    "    last_word = \"\"\n",
    "    for i in range(len(new_words_list)):\n",
    "        if new_words_list[i] == new_paragraph_list[i]:\n",
    "            last_word = new_words_list[i]\n",
    "        else:\n",
    "            break\n",
    "    result = []\n",
    "    for j in range(len(words_list)):\n",
    "        if last_word == words_list[j]:\n",
    "            result.append(last_word)\n",
    "            break\n",
    "        else:\n",
    "            result.append(words_list[j])\n",
    "    results = \" \".join(result)\n",
    "    if results.lower() == keyword.lower():\n",
    "        return True\n",
    "    else:\n",
    "        return False"
   ]
  },
  {
   "cell_type": "code",
   "execution_count": 545,
   "metadata": {
    "collapsed": true
   },
   "outputs": [],
   "source": [
    "# s = is_upper_camel_case('''\"Change of Control\" means Other Connection Taxes that are imposed on or measured by net income (however denominated) or that are franchise Taxes or branch profits Taxes.\n",
    "# ''', 'change of control')\n",
    "# print s"
   ]
  },
  {
   "cell_type": "code",
   "execution_count": 546,
   "metadata": {
    "collapsed": true
   },
   "outputs": [],
   "source": [
    "'''\n",
    "Author: Yufei\n",
    "\n",
    "Traversing through each of the paragraphs and find the paragraph containing the keywords\n",
    "\n",
    "-paras = all paragraphs\n",
    "-keywords = search words\n",
    "\n",
    "return a list of paragraph index \n",
    "'''\n",
    "def search(paras, keywords):\n",
    "    index = []\n",
    "    i = 0\n",
    "    while (i<len(paras)):\n",
    "        p = paras[i]\n",
    "        if keywords.lower() in p.text.lower():\n",
    "            index.append(i)\n",
    "        i = i+1\n",
    "    return index"
   ]
  },
  {
   "cell_type": "code",
   "execution_count": 547,
   "metadata": {
    "collapsed": true
   },
   "outputs": [],
   "source": [
    "'''\n",
    "Author: Yufei\n",
    "\n",
    "Find the pattern of the paragraph containing the keywords by call the is_* function\n",
    "\n",
    "-paras = all paragraphs\n",
    "-index = paragraph index\n",
    "-keyword = search words\n",
    "\n",
    "return True/False list, \n",
    "[bold, italic, underline, double_quotes, single_quotes, upper case, (upper camel case), indent space, list paragraph, normal following list paragraph, bullet list]\n",
    "\n",
    "'''\n",
    "def find_patterns(paras, index, keyword, stop_set):\n",
    "    paragraph = paras[index]\n",
    "    patterns = []\n",
    "    patterns.append(is_bold(paragraph, keyword))\n",
    "    patterns.append(is_italic(paragraph, keyword))\n",
    "    patterns.append(is_underline(paragraph, keyword))\n",
    "    patterns.append(is_double_quotes(paragraph, keyword))\n",
    "    patterns.append(is_single_quotes(paragraph, keyword))\n",
    "    patterns.append(is_upper_case(paragraph, keyword))\n",
    "    patterns.append(is_upper_camel_case(paragraph, keyword, stop_set))\n",
    "    patterns.append(indent(paragraph))\n",
    "    patterns.append(isListPara(paragraph))\n",
    "    patterns.append(isNormalFollowingListPara(paras, index))\n",
    "    patterns.append(bullet_list(paragraph))\n",
    "    return patterns"
   ]
  },
  {
   "cell_type": "code",
   "execution_count": 548,
   "metadata": {},
   "outputs": [],
   "source": [
    "'''\n",
    "Author: Yufei\n",
    "\n",
    "Find the pattern of the paragraph containing the keywords by call the is_* function\n",
    "\n",
    "-paras = all paragraphs\n",
    "-targetPatterns = the target pattern\n",
    "-startIndex = paragraph index\n",
    "\n",
    "return content\n",
    "'''\n",
    "def match(paras, targetPatterns, startIndex):\n",
    "    \n",
    "    i = startIndex + 1\n",
    "    match = []\n",
    "    \n",
    "    print '\\tTarget Patterns: ' + str(parttern_translate(targetPatterns))\n",
    "    \n",
    "    while (i<len(paras)):\n",
    "        patterns = []\n",
    "        p = paras[i]\n",
    "        \n",
    "\n",
    "        patterns.append(bold(p))\n",
    "        patterns.append(italic(p))\n",
    "        patterns.append(underline(p))\n",
    "        patterns.append(double_quotes(p))\n",
    "        patterns.append(single_quotes(p))\n",
    "        patterns.append(upper_case(p))\n",
    "        patterns.append(upper_camel_case(p, stop_set))\n",
    "        patterns.append(indent(p))\n",
    "        patterns.append(isListPara(p))\n",
    "        patterns.append(isNormalFollowingListPara(paras, i))\n",
    "        patterns.append(bullet_list(p))\n",
    "        \n",
    "        print '\\n\\tNext Paragraph:\\t{0}\\n\\n\\t\\t{1}'.format(str(parttern_translate(patterns)), p.text.encode(\"utf-8\"))\n",
    "        \n",
    "        if patterns == targetPatterns:\n",
    "            print 'Bingo Bingo Bingo Bingo'\n",
    "            break\n",
    "        i = i + 1\n",
    "    for x in range(startIndex, i):\n",
    "        match.append(paras[x])\n",
    "        \n",
    "    return match"
   ]
  },
  {
   "cell_type": "code",
   "execution_count": 549,
   "metadata": {
    "collapsed": true
   },
   "outputs": [],
   "source": [
    "'''\n",
    "Author: Eden\n",
    "\n",
    "return the list of patterns' name\n",
    "\n",
    "-pattern = the pattern list with true/false\n",
    "\n",
    "return list of patterns name\n",
    "'''\n",
    "def parttern_translate(pattern):\n",
    "    list = []\n",
    "    if pattern[0]:\n",
    "        list.append('blod')\n",
    "    if pattern[1]:\n",
    "        list.append('italic')\n",
    "    if pattern[2]:\n",
    "        list.append('underline')\n",
    "    if pattern[3]:\n",
    "        list.append('double_quotes')\n",
    "    if pattern[4]:\n",
    "        list.append('single_quotes')\n",
    "    if pattern[5]:\n",
    "        list.append('upper_case')\n",
    "    if pattern[6]:\n",
    "        list.append('upper_camel_case')\n",
    "    if pattern[7]:\n",
    "        list.append('indent_space')\n",
    "    if pattern[8]:\n",
    "        list.append('list_paragraph')\n",
    "    if pattern[9]:\n",
    "        list.append('normal_following_list_paragraph')\n",
    "    if pattern[10]:\n",
    "        list.append('bullet_list')\n",
    "    return list\n",
    "    "
   ]
  },
  {
   "cell_type": "code",
   "execution_count": 556,
   "metadata": {},
   "outputs": [
    {
     "name": "stdout",
     "output_type": "stream",
     "text": [
      "Keyword: Change of Control\n",
      "\n",
      "-------------------------------------------------------------------------\n",
      "File name: after_list_paragraph.docx\n",
      "\n",
      "\tTarget Paragraph: [0]\n",
      "\t\t“Change of Control” means an event or series of events by which:\n",
      "\n",
      "\tTarget Patterns: ['underline', 'upper_camel_case', 'indent_space', 'normal_following_list_paragraph']\n",
      "\n",
      "\tNext Paragraph:\t['underline', 'upper_camel_case', 'list_paragraph']\n",
      "\n",
      "\t\tany “person” or “group” (as such terms are used in Sections 13(d) and 14(d) of the Exchange Act, but excluding any employee benefit plan of such person or its subsidiaries, and any person or entity acting in its capacity as trustee, agent or other fiduciary or administrator of any such plan and any Initial Shareholder) becomes the “beneficial owner” (as defined in Rules 13d-3 and 13d-5 under the Exchange Act, except that a person or group shall be deemed to have “beneficial ownership” of all securities that such person or group has the right to acquire, whether such right is exercisable immediately or only after the passage of time (such right, an “option right”)), directly or indirectly, of 35% or more of the equity securities of Holdings entitled to vote for members of the board of directors or equivalent governing body of Holdings on a fully-diluted basis (and taking into account all such securities that such person or group has the right to acquire pursuant to any option right);\n",
      "\n",
      "\tNext Paragraph:\t['underline', 'upper_camel_case', 'list_paragraph']\n",
      "\n",
      "\t\tduring any period of 24 consecutive months, a majority of the members of the board of directors or other equivalent governing body of Holdings cease to be composed of individuals (i) who were members of that board or equivalent governing body on the first day of such period, (ii) whose election or nomination to that board or equivalent governing body was approved by individuals referred to in clause (i) above constituting at the time of such election or nomination at least a majority of that board or equivalent governing body or (iii) whose election or nomination to that board or other equivalent governing body was approved by individuals referred to in clauses (i) and (ii) above constituting at the time of such election or nomination at least a majority of that board or equivalent governing body;\n",
      "\n",
      "\tNext Paragraph:\t['upper_camel_case', 'list_paragraph']\n",
      "\n",
      "\t\tany Person or two or more Persons acting in concert shall have acquired by contract or otherwise, or shall have entered into a contract or arrangement that, upon consummation thereof, will result in its or their acquisition of the power to exercise, directly or indirectly, a controlling influence over the management or policies of Holdings, or control over the equity securities of Holdings entitled to vote for members of the board of directors or equivalent governing body of Holdings on a fully-diluted basis (and taking into account all such securities that such Person or group has the right to acquire pursuant to any option right) representing 35% or more of the combined voting power of such securities.\n",
      "\n",
      "\n",
      "-------------------------------------------------------------------------\n",
      "File name: after_list_paragraph_2.docx\n",
      "\n",
      "\tTarget Paragraph: [0]\n",
      "\t\t“Change of Control” means an event or series of events by which:\n",
      "\n",
      "\tTarget Patterns: ['underline', 'upper_camel_case']\n",
      "\n",
      "\tNext Paragraph:\t['underline', 'upper_camel_case', 'bullet_list']\n",
      "\n",
      "\t\t(a)any “person” or “group” (as such terms are used in Sections 13(d) and 14(d) of the Exchange Act, but excluding any employee benefit plan of such person or its subsidiaries, and any person or entity acting in its capacity as trustee, agent or other fiduciary or administrator of any such plan and any Initial Shareholder) becomes the “beneficial owner” (as defined in Rules 13d-3 and 13d-5 under the Exchange Act, except that a person or group shall be deemed to have “beneficial ownership” of all securities that such person or group has the right to acquire, whether such right is exercisable immediately or only after the passage of time (such right, an “option right”)), directly or indirectly, of 35% or more of the equity securities of Holdings entitled to vote for members of the board of directors or equivalent governing body of Holdings on a fully-diluted basis (and taking into account all such securities that such person or group has the right to acquire pursuant to any option right);\n",
      "\n",
      "\tNext Paragraph:\t['underline', 'upper_camel_case', 'bullet_list']\n",
      "\n",
      "\t\t(b)during any period of 24 consecutive months, a majority of the members of the board of directors or other equivalent governing body of Holdings cease to be composed of individuals (i) who were members of that board or equivalent governing body on the first day of such period, (ii) whose election or nomination to that board or equivalent governing body was approved by individuals referred to in clause (i) above constituting at the time of such election or nomination at least a majority of that board or equivalent governing body or (iii) whose election or nomination to that board or other equivalent governing body was approved by individuals referred to in clauses (i) and (ii) above constituting at the time of such election or nomination at least a majority of that board or equivalent governing body;\n",
      "\n",
      "\tNext Paragraph:\t['upper_camel_case', 'bullet_list']\n",
      "\n",
      "\t\t(c)any Person or two or more Persons acting in concert shall have acquired by contract or otherwise, or shall have entered into a contract or arrangement that, upon consummation thereof, will result in its or their acquisition of the power to exercise, directly or indirectly, a controlling influence over the management or policies of Holdings, or control over the equity securities of Holdings entitled to vote for members of the board of directors or equivalent governing body of Holdings on a fully-diluted basis (and taking into account all such securities that such Person or group has the right to acquire pursuant to any option right) representing 35% or more of the combined voting power of such securities.\n",
      "\n",
      "\n",
      "-------------------------------------------------------------------------\n",
      "File name: before_list_paragraph.docx\n",
      "\n",
      "\tTarget Paragraph: [5]\n",
      "\t\tChange of Control. “Change of Control” means the first to occur of any of the following: (i) The sale, transfer, conveyance or other disposition by the Company, in one or a series of related transactions, whereby an independent third party(s) becomes the beneficial owner of a majority of the voting securities of the Company; (ii) any merger, consolidation or similar transaction involving the Company, other than a transaction in which the stockholders of the Company immediately prior to the transaction hold immediately thereafter in the same proportion as immediately prior to the transaction not less than 50% of the combined voting power of the then voting securities with respect to the election of the Board of Directors of the resulting entity; or (iii) any sale of all or substantially all of the assets of the Company. Notwithstanding the foregoing, no change in ACCBT Corp., ACC International Holdings Ltd. or their affiliates’ ownership of the Company shall be deemed a Change of Control under this Agreement, and none of the following shall, either together or alone, constitute a Change of Control: (A) the subscription for, or issuance of Company securities (whether or not constituting more than 50% of the Company’s issued and outstanding securities (unless such subscription or issuance would result in a Change of Control under clause (i) above)); (B) the issuance or exercise of Board appointment or nomination rights of any kind (whether or not relating to a majority of Board members); (C) preemptive rights to purchase securities of the Company, or the exercise of such rights; (D) the right to consent to Company corporate actions; or (E) the exercise of warrants or options.\n",
      "\n",
      "\tTarget Patterns: ['blod', 'underline', 'upper_camel_case', 'list_paragraph']\n",
      "\n",
      "\tNext Paragraph:\t['underline', 'list_paragraph']\n",
      "\n",
      "\t\tBusiness Expenses. Upon presentation of vouchers and similar receipts, the Executive shall be entitled to receive reimbursement in accordance with the policies and procedures of the Company maintained from time to time for all reasonable business expenses actually incurred in the performance of the Executive Duties, and as more fully detailed in the Employee Manual.\n",
      "\n",
      "\tNext Paragraph:\t[]\n",
      "\n",
      "\t\t\n",
      "\n",
      "\n",
      "-------------------------------------------------------------------------\n",
      "File name: bold+italic+single_quotes.docx\n",
      "\n",
      "\tTarget Paragraph: [2]\n",
      "\t\t‘Change of Control’. “Change of Control” means the first to occur of any of the following: (i) The sale, transfer, conveyance or other disposition by the Company, in one or a series of related transactions, whereby an independent third party(s) becomes the beneficial owner of a majority of the voting securities of the Company; (ii) any merger, consolidation or similar transaction involving the Company, other than a transaction in which the stockholders of the Company immediately prior to the transaction hold immediately thereafter in the same proportion as immediately prior to the transaction not less than 50% of the combined voting power of the then voting securities with respect to the election of the Board of Directors of the resulting entity; or (iii) any sale of all or substantially all of the assets of the Company. Notwithstanding the foregoing, no change in ACCBT Corp., ACC International Holdings Ltd. or their affiliates’ ownership of the Company shall be deemed a Change of Control under this Agreement, and none of the following shall, either together or alone, constitute a Change of Control: (A) the subscription for, or issuance of Company securities (whether or not constituting more than 50% of the Company’s issued and outstanding securities (unless such subscription or issuance would result in a Change of Control under clause (i) above)); (B) the issuance or exercise of Board appointment or nomination rights of any kind (whether or not relating to a majority of Board members); (C) preemptive rights to purchase securities of the Company, or the exercise of such rights; (D) the right to consent to Company corporate actions; or (E) the exercise of warrants or options.\n",
      "\n",
      "\tTarget Patterns: ['blod', 'italic', 'indent_space']\n",
      "\n",
      "\tNext Paragraph:\t['indent_space']\n",
      "\n",
      "\t\t\n",
      "\n",
      "\tNext Paragraph:\t['blod', 'italic', 'upper_camel_case', 'indent_space']\n",
      "\n",
      "\t\t‘Benefits’. The Executive shall be entitled to participate in such employment benefits, including but not limited to a Section 401(k) retirement plan, health, dental, life insurance, and long term disability plans as are established by the Company and as in effect from time to time applicable to executives of the Company. The Company shall provide health and dental insurance plans or, if the Company is unable to provide such plans, the Company will reimburse the Executive for his health and dental insurance costs. The Company shall not be required to establish, continue or maintain any other specific benefits or benefit plans other than health and dental insurance.\n",
      "\n",
      "\n",
      "-------------------------------------------------------------------------\n",
      "File name: upper_camel+underline+double_quotes.docx\n",
      "\n",
      "\tTarget Paragraph: [1]\n",
      "\t\t“Change of Control” means Other Connection Taxes that are imposed on or measured by net income (however denominated) or that are franchise Taxes or branch profits Taxes.\n",
      "\n",
      "\tTarget Patterns: ['underline', 'upper_camel_case', 'indent_space']\n",
      "\n",
      "\tNext Paragraph:\t['underline', 'upper_camel_case', 'indent_space']\n",
      "\n",
      "\t\t“Contractual Obligation” means, as to any Person, any provision of any security issued by such Person or of any agreement, instrument or other undertaking to which such Person is a party or by which it or any of its property is bound.\n",
      "Bingo Bingo Bingo Bingo\n",
      "\n",
      "\n",
      "-------------------------------------------------------------------------\n",
      "File name: upper_camel_case+underline+after_list_paragraph.docx\n",
      "\n",
      "\tTarget Paragraph: [0]\n",
      "\t\tChange of Control means Other Connection Taxes that are imposed on or measured by net income (however denominated) or that are franchise Taxes or branch profits Taxes.\n",
      "\n",
      "\tTarget Patterns: ['underline', 'upper_camel_case', 'indent_space']\n",
      "\n",
      "\tNext Paragraph:\t['underline', 'upper_camel_case', 'indent_space']\n",
      "\n",
      "\t\tContractual Obligation means, as to any Person, any provision of any security issued by such Person or of any agreement, instrument or other undertaking to which such Person is a party or by which it or any of its property is bound.\n",
      "Bingo Bingo Bingo Bingo\n",
      "\tTarget Paragraph: [3]\n",
      "\t\t“Change of Control” means an event or series of events by which:\n",
      "\n",
      "\tTarget Patterns: ['underline', 'upper_camel_case', 'indent_space', 'normal_following_list_paragraph']\n",
      "\n",
      "\tNext Paragraph:\t['underline', 'upper_camel_case', 'list_paragraph']\n",
      "\n",
      "\t\tany “person” or “group” (as such terms are used in Sections 13(d) and 14(d) of the Exchange Act, but excluding any employee benefit plan of such person or its subsidiaries, and any person or entity acting in its capacity as trustee, agent or other fiduciary or administrator of any such plan and any Initial Shareholder) becomes the “beneficial owner” (as defined in Rules 13d-3 and 13d-5 under the Exchange Act, except that a person or group shall be deemed to have “beneficial ownership” of all securities that such person or group has the right to acquire, whether such right is exercisable immediately or only after the passage of time (such right, an “option right”)), directly or indirectly, of 35% or more of the equity securities of Holdings entitled to vote for members of the board of directors or equivalent governing body of Holdings on a fully-diluted basis (and taking into account all such securities that such person or group has the right to acquire pursuant to any option right);\n",
      "\n",
      "\tNext Paragraph:\t['underline', 'upper_camel_case', 'list_paragraph']\n",
      "\n",
      "\t\tduring any period of 24 consecutive months, a majority of the members of the board of directors or other equivalent governing body of Holdings cease to be composed of individuals (i) who were members of that board or equivalent governing body on the first day of such period, (ii) whose election or nomination to that board or equivalent governing body was approved by individuals referred to in clause (i) above constituting at the time of such election or nomination at least a majority of that board or equivalent governing body or (iii) whose election or nomination to that board or other equivalent governing body was approved by individuals referred to in clauses (i) and (ii) above constituting at the time of such election or nomination at least a majority of that board or equivalent governing body;\n",
      "\n",
      "\tNext Paragraph:\t['upper_camel_case', 'list_paragraph']\n",
      "\n",
      "\t\tany Person or two or more Persons acting in concert shall have acquired by contract or otherwise, or shall have entered into a contract or arrangement that, upon consummation thereof, will result in its or their acquisition of the power to exercise, directly or indirectly, a controlling influence over the management or policies of Holdings, or control over the equity securities of Holdings entitled to vote for members of the board of directors or equivalent governing body of Holdings on a fully-diluted basis (and taking into account all such securities that such Person or group has the right to acquire pursuant to any option right) representing 35% or more of the combined voting power of such securities.\n",
      "\n",
      "\tNext Paragraph:\t['upper_camel_case', 'indent_space']\n",
      "\n",
      "\t\t“Credit Agreement” means this Agreement, including the Schedules and Exhibits attached hereto.\n",
      "\n",
      "\tNext Paragraph:\t[]\n",
      "\n",
      "\t\t\n",
      "\n",
      "\n",
      "end\n"
     ]
    }
   ],
   "source": [
    "\n",
    "'''\n",
    "Main Function.\n",
    "\n",
    "02/17/2018 Eden\n",
    "1. Modified the System output to make programmers easier to debug.\n",
    "2. Modified the output format in .csv files\n",
    "3. encode all output string to be utf-8\n",
    "4. Added one function to output the patterns name rather than simple true/false\n",
    "'''\n",
    "\n",
    "########################################################################\n",
    "out_filepath = '/Users/yangyi/Documents/CMU-S18/capstone/Capstone-Project-Mylan/output/'\n",
    "out_filename = 'Output_search.csv'\n",
    "out_path = out_filepath + out_filename\n",
    "########################################################################\n",
    "\n",
    "\n",
    "header = ['File Name', 'Keywords', 'Content'] # Column names in output file \n",
    "\n",
    "with open(out_path, 'wb') as f:\n",
    "    wr = csv.writer(f)\n",
    "    wr.writerow(header)\n",
    "    \n",
    "with open(out_path, 'ab') as f:\n",
    "    # Input folder path\n",
    "    directory_path = '/Users/yangyi/Documents/CMU-S18/capstone/Capstone-Project-Mylan/input' \n",
    "    \n",
    "    stop_set = read_stop_words('/Users/yangyi/Documents/CMU-S18/capstone/Capstone-Project-Mylan/res/stop_words.txt')    \n",
    "    \n",
    "    # Parse through each file in the input folder path\n",
    "    print 'Keyword: ' + 'Change of Control' + '\\n'\n",
    "    for fileName in os.listdir(directory_path):\n",
    "        print '-------------------------------------------------------------------------'\n",
    "        print 'File name: ' + fileName + '\\n'\n",
    "        \n",
    "        # Create a Document object of each of the files\n",
    "        document = Document(directory_path + \"/\" +fileName)\n",
    "        # document = Document('/upper_camel_case+underline+after_list_paragraph.docx')\n",
    "        \n",
    "        \n",
    "        # A list to add all the paragraphs in the document\n",
    "        paras = []\n",
    "        \n",
    "        '''\n",
    "        The following for loop is used to add all the paragraphs in the document to the paras list object\n",
    "        '''\n",
    "        for p in document.paragraphs:        \n",
    "            paras.append(p)\n",
    "            \n",
    "        paras_number = len(paras) # Find the number of paragraphs in the document\n",
    "        \n",
    "        paras_toPrint = [] # A list to add all the paragraphs relevant to 'Change of Control' language in this case\n",
    "        \n",
    "        keyword = \"Change of Control\"\n",
    "        keywordindex = search(paras, keyword)\n",
    "        \n",
    "#         print '\\tkeywordIndex: ' + str(keywordindex)\n",
    "#         print\n",
    "        \n",
    "        results = []\n",
    "        result = \"\"\n",
    "        for index in keywordindex:\n",
    "            print '\\tTarget Paragraph: [{0}]\\n\\t\\t{1}\\n'.format(index, paras[index].text.encode(\"utf-8\"))\n",
    "            target = find_patterns(paras, index, keyword, stop_set)\n",
    "            \n",
    "            if index == paras_number - 1:\n",
    "                result = paras[index]\n",
    "            else:\n",
    "                result = match(paras, target, index)\n",
    "            \n",
    "            results.extend(result)\n",
    "\n",
    "        wr = csv.writer(f)\n",
    "        # Created a single list of all instances of 'Change of Control'\n",
    "        # Ignored unrecognized ascii characters that throw an encoding error. Need improvement\n",
    "        text =  [paras.text.encode('ascii','ignore') for paras in results]\n",
    "        res = \"\\n\".join(text)\n",
    "        \n",
    "        wr.writerow([fileName, keyword, res])\n",
    "        \n",
    "        print '\\n'\n",
    "print(\"end\")\n",
    "f.close()"
   ]
  },
  {
   "cell_type": "code",
   "execution_count": 349,
   "metadata": {},
   "outputs": [
    {
     "data": {
      "text/plain": [
       "'/Users/yangyi'"
      ]
     },
     "execution_count": 349,
     "metadata": {},
     "output_type": "execute_result"
    }
   ],
   "source": [
    "os.getcwd()"
   ]
  },
  {
   "cell_type": "code",
   "execution_count": null,
   "metadata": {
    "collapsed": true
   },
   "outputs": [],
   "source": []
  },
  {
   "cell_type": "code",
   "execution_count": null,
   "metadata": {
    "collapsed": true
   },
   "outputs": [],
   "source": []
  },
  {
   "cell_type": "code",
   "execution_count": null,
   "metadata": {
    "collapsed": true
   },
   "outputs": [],
   "source": []
  },
  {
   "cell_type": "code",
   "execution_count": null,
   "metadata": {
    "collapsed": true
   },
   "outputs": [],
   "source": []
  },
  {
   "cell_type": "code",
   "execution_count": null,
   "metadata": {
    "collapsed": true
   },
   "outputs": [],
   "source": []
  },
  {
   "cell_type": "code",
   "execution_count": null,
   "metadata": {
    "collapsed": true
   },
   "outputs": [],
   "source": []
  },
  {
   "cell_type": "code",
   "execution_count": 49,
   "metadata": {},
   "outputs": [
    {
     "ename": "IOError",
     "evalue": "[Errno 2] No such file or directory: 'Output/Output_search.csv'",
     "output_type": "error",
     "traceback": [
      "\u001b[0;31m---------------------------------------------------------------------------\u001b[0m",
      "\u001b[0;31mIOError\u001b[0m                                   Traceback (most recent call last)",
      "\u001b[0;32m<ipython-input-49-ced7bab0d3d9>\u001b[0m in \u001b[0;36m<module>\u001b[0;34m()\u001b[0m\n\u001b[1;32m     13\u001b[0m \u001b[0mheader\u001b[0m \u001b[0;34m=\u001b[0m \u001b[0;34m[\u001b[0m\u001b[0;34m'File Name'\u001b[0m\u001b[0;34m,\u001b[0m \u001b[0;34m'Keywords'\u001b[0m\u001b[0;34m,\u001b[0m \u001b[0;34m'Change of Control'\u001b[0m\u001b[0;34m]\u001b[0m \u001b[0;31m# Column names in output file\u001b[0m\u001b[0;34m\u001b[0m\u001b[0m\n\u001b[1;32m     14\u001b[0m \u001b[0;34m\u001b[0m\u001b[0m\n\u001b[0;32m---> 15\u001b[0;31m \u001b[0;32mwith\u001b[0m \u001b[0mopen\u001b[0m\u001b[0;34m(\u001b[0m\u001b[0mout_path\u001b[0m\u001b[0;34m,\u001b[0m \u001b[0;34m'wb'\u001b[0m\u001b[0;34m)\u001b[0m \u001b[0;32mas\u001b[0m \u001b[0mf\u001b[0m\u001b[0;34m:\u001b[0m\u001b[0;34m\u001b[0m\u001b[0m\n\u001b[0m\u001b[1;32m     16\u001b[0m     \u001b[0mwr\u001b[0m \u001b[0;34m=\u001b[0m \u001b[0mcsv\u001b[0m\u001b[0;34m.\u001b[0m\u001b[0mwriter\u001b[0m\u001b[0;34m(\u001b[0m\u001b[0mf\u001b[0m\u001b[0;34m)\u001b[0m\u001b[0;34m\u001b[0m\u001b[0m\n\u001b[1;32m     17\u001b[0m     \u001b[0mwr\u001b[0m\u001b[0;34m.\u001b[0m\u001b[0mwriterow\u001b[0m\u001b[0;34m(\u001b[0m\u001b[0mheader\u001b[0m\u001b[0;34m)\u001b[0m\u001b[0;34m\u001b[0m\u001b[0m\n",
      "\u001b[0;31mIOError\u001b[0m: [Errno 2] No such file or directory: 'Output/Output_search.csv'"
     ]
    }
   ],
   "source": [
    "# Abhay\n",
    "'''\n",
    "Open the output file in append mode and pull related language from the files in the input folder\n",
    "'''\n",
    "\n",
    "########################################################################\n",
    "out_filepath = 'Output/'\n",
    "out_filename = 'Output_search.csv'\n",
    "out_path = out_filepath + out_filename\n",
    "########################################################################\n",
    "\n",
    "\n",
    "header = ['File Name', 'Keywords', 'Change of Control'] # Column names in output file \n",
    "\n",
    "with open(out_path, 'wb') as f:\n",
    "    wr = csv.writer(f)\n",
    "    wr.writerow(header)\n",
    "\n",
    "with open(out_path, 'ab') as f:\n",
    "    # Input folder path\n",
    "    directory_path = 'input' \n",
    "    \n",
    "    # Parse through each file in the input folder path\n",
    "    for fileName in os.listdir(directory_path):\n",
    "        print fileName\n",
    "        \n",
    "        # Create a Document object of each of the files\n",
    "        #document = Document(directory_path + \"/\" +fileName)\n",
    "        document = Document('input/upper_camel_case+underline+after_list_paragraph.docx')\n",
    "        \n",
    "        \n",
    "        # A list to add all the paragraphs in the document\n",
    "        paras = []\n",
    "        \n",
    "        '''\n",
    "        The following for loop is used to add all the paragraphs in the document to the paras list object\n",
    "        '''\n",
    "        for p in document.paragraphs:        \n",
    "            paras.append(p)\n",
    "            \n",
    "        paras_number = len(paras) # Find the number of paragraphs in the document\n",
    "        \n",
    "        paras_toPrint = [] # A list to add all the paragraphs relevant to 'Change of Control' language in this case\n",
    "        \n",
    "        keyword = \"Change of Control\"\n",
    "        keywordindex = search(paras, keyword)\n",
    "        \n",
    "        print('keywordIndex:', keywordindex)\n",
    "        \n",
    "        results = []\n",
    "        result = \"\"\n",
    "        for index in keywordindex:\n",
    "            print 'Target Para', paras[index].text\n",
    "            target = find_patterns(paras, index, keyword)\n",
    "            \n",
    "            if index == paras_number - 1:\n",
    "                result = paras[index]\n",
    "            else:\n",
    "                result = match(paras, target, index)\n",
    "            \n",
    "            results.append(result)\n",
    "\n",
    "        wr = csv.writer(f)\n",
    "        wr.writerow([fileName, keyword, results])\n",
    "        \n",
    "print(\"end\")\n",
    "f.close()"
   ]
  }
 ],
 "metadata": {
  "kernelspec": {
   "display_name": "Python 2",
   "language": "python",
   "name": "python2"
  },
  "language_info": {
   "codemirror_mode": {
    "name": "ipython",
    "version": 2
   },
   "file_extension": ".py",
   "mimetype": "text/x-python",
   "name": "python",
   "nbconvert_exporter": "python",
   "pygments_lexer": "ipython2",
   "version": "2.7.14"
  }
 },
 "nbformat": 4,
 "nbformat_minor": 1
}
