{
 "cells": [
  {
   "cell_type": "code",
   "execution_count": 1,
   "metadata": {
    "collapsed": true
   },
   "outputs": [],
   "source": [
    "from docx import Document\n",
    "import os\n",
    "import re\n",
    "import csv\n",
    "import sys"
   ]
  },
  {
   "cell_type": "code",
   "execution_count": 2,
   "metadata": {
    "collapsed": true
   },
   "outputs": [],
   "source": [
    "'''\n",
    "Author: Eden\n",
    "\n",
    "Read stopwords from files and return a stopwords set.\n",
    "\n",
    "-filename = file name\n",
    "\n",
    "return the set of stopwords\n",
    "'''\n",
    "def read_stop_words(filename):\n",
    "    vector = []\n",
    "    with open(filename, 'r') as f:\n",
    "        input = f.read().splitlines()\n",
    "\n",
    "    [vector.append(input[i]) for i in range(len(input))]   \n",
    "    return set(vector)"
   ]
  },
  {
   "cell_type": "code",
   "execution_count": 3,
   "metadata": {
    "collapsed": true
   },
   "outputs": [],
   "source": [
    "'''\n",
    "Author: Zoe\n",
    "\n",
    "Remove the stopwords such as articles, prep and so on from keywords\n",
    "\n",
    "-keywords = search word\n",
    "\n",
    "return the string without stopwords\n",
    "'''\n",
    "\n",
    "def remove_stopwords(keywords, stop_set):\n",
    "    word_list = re.split(r'\\s',keywords)\n",
    "    filtered_words = [word for word in word_list if word not in stop_set]\n",
    "    words = \" \".join(filtered_words)\n",
    "    return words"
   ]
  },
  {
   "cell_type": "markdown",
   "metadata": {},
   "source": [
    "### indent(para) Example\n",
    "&nbsp;&nbsp;&nbsp;&nbsp;&nbsp;&nbsp; Change of control means that (a) any Person or group (within the meaning of Rule13d-5 of the SEC under the Exchange Act) shall become the Beneficial Owner of 20% or more of the Voting Equity Interests of the Borrower, or (b) a majority of the members of the Board of Directors of the Borrower shall cease to be Continuing Members.\n",
    "\n",
    "&nbsp;&nbsp;&nbsp;&nbsp;&nbsp;&nbsp; Code shall mean the Internal Revenue Code of 1986, as the same may be amended or supplemented from time to time, and any successor statute of similar import, and the rules and regulations thereunder, as from time to time in effect."
   ]
  },
  {
   "cell_type": "code",
   "execution_count": 4,
   "metadata": {
    "collapsed": true
   },
   "outputs": [],
   "source": [
    "'''\n",
    "Author: Yufei\n",
    "\n",
    "Get the indent space of the paragraph, used in find_patterns and match function\n",
    "\n",
    "-para = paragraph\n",
    "\n",
    "return a num means the indent space or null if no indent\n",
    "'''\n",
    "def indent(para):\n",
    "    if para.paragraph_format.first_line_indent:\n",
    "        return para.paragraph_format.first_line_indent.pt\n",
    "    else:\n",
    "        return None"
   ]
  },
  {
   "cell_type": "markdown",
   "metadata": {},
   "source": [
    "### bullet_list(para) Example\n",
    "Change of control means that \n",
    "\n",
    "&nbsp;&nbsp;&nbsp;&nbsp;(a) any Person or group (within the meaning of Rule13d-5 of the SEC under the Exchange Act) shall become the Beneficial Owner of 20% or more of the Voting Equity Interests of the Borrower, or \n",
    "\n",
    "&nbsp;&nbsp;&nbsp;&nbsp;(b) a majority of the members of the Board of Directors of the Borrower shall cease to be Continuing Members.\n"
   ]
  },
  {
   "cell_type": "code",
   "execution_count": 5,
   "metadata": {
    "collapsed": true
   },
   "outputs": [],
   "source": [
    "'''\n",
    "Author: Eden\n",
    "\n",
    "Check if the paragraph is bullet ordered list, used in find_patterns and match function\n",
    "\n",
    "-para = paragraph\n",
    "\n",
    "return the regex pattern of this paragraph or None\n",
    "'''\n",
    "def bullet_list(para):\n",
    "    pattern = '[A-Z]+\\)'\n",
    "    flag = re.match(pattern, para.text.lstrip()[:10])\n",
    "              \n",
    "    if flag:\n",
    "        return pattern\n",
    "    \n",
    "    pattern = '[a-z]+\\)'\n",
    "    flag = re.match(pattern, para.text.lstrip()[:10])\n",
    "    \n",
    "    if flag:\n",
    "        return pattern\n",
    "    \n",
    "    pattern = '\\d+\\)'\n",
    "    flag = re.match(pattern, para.text.lstrip()[:10])\n",
    "    if flag:\n",
    "        return pattern\n",
    "    \n",
    "    pattern = '\\d+\\.[^\\d]+'\n",
    "    flag = re.match(pattern, para.text.lstrip()[:10])\n",
    "    if flag:\n",
    "        return pattern\n",
    "    \n",
    "    pattern = '[a-z]+\\.'\n",
    "    flag = re.match(pattern, para.text.lstrip()[:10])\n",
    "    if flag:\n",
    "        return pattern\n",
    "    \n",
    "    pattern = '[A-Z]+\\.'\n",
    "    flag = re.match(pattern, para.text.lstrip()[:10])\n",
    "    if flag:\n",
    "        return pattern\n",
    "    \n",
    "    \n",
    "    pattern = '\\d+\\.\\d+[^\\d]+'\n",
    "    flag = re.match(pattern, para.text.lstrip()[:10])\n",
    "    if flag:\n",
    "        return pattern\n",
    "    \n",
    "    pattern = '\\d+\\.\\d+\\.\\d+[^\\d]+'\n",
    "    flag = re.match(pattern, para.text.lstrip()[:10])\n",
    "    if flag:\n",
    "        return pattern\n",
    "    \n",
    "    pattern = '\\d+\\.\\d+\\.\\d+\\.\\d+[^\\d]+'\n",
    "    flag = re.match(pattern, para.text.lstrip()[:10])\n",
    "    if flag:\n",
    "        return pattern\n",
    "    \n",
    "    pattern = '[\\(]?([vx]|i{1,3}|i[vx]|[vx]i{1,3})(\\.|\\))'\n",
    "    flag = re.match(pattern, para.text.lstrip()[:10])\n",
    "    if flag:\n",
    "        return pattern\n",
    "    \n",
    "    return None"
   ]
  },
  {
   "cell_type": "code",
   "execution_count": 6,
   "metadata": {},
   "outputs": [
    {
     "name": "stdout",
     "output_type": "stream",
     "text": [
      "\\d+\\.[^\\d]+\n",
      "1. Employment.\n",
      "\\d+\\.[^\\d]+\n",
      "2. Term.\n",
      "\\d+\\.[^\\d]+\n",
      "3. Duties.\n",
      "\\d+\\.[^\\d]+\n",
      "4. Compensation, Benefits, Reimbursement and Bonus.\n",
      "[a-z]+\\.\n",
      "a. Base Salary. In consideration for all services rendered by Executive during the term of this Agreement, Employer shall pay Executive an annual base salary (before all customary and proper payroll deductions) of $200,000, as adjusted from time to time (“Base Salary”). The Board of Directors of the Employer shall review Executive’s salary each year, in a manner consistent with that used for all management employees of the Employer, and in its sole discretion may adjust such salary commensurate with the Executive’s performance under this Agreement.\n",
      "[a-z]+\\.\n",
      "b. Incentive Compensation. Under the Employer’s Executive Incentive Compensation Plan, Executive shall be eligible to receive an annual bonus based on performance as defined by the Board of Directors. Executive’s annual target bonus will equal 30% of Base Salary. This is the amount payable for ambitious, but expected, results as determined by the Board of Directors. Executive’s bonus may be more or less than this amount at the Board of Directors discretion but may not exceed 40% of Base Salary.\n",
      "[a-z]+\\.\n",
      "c. Stock Options. Executive shall be eligible for stock option grants under the Employer’s Stock Incentive Plan. The timing and size of awards will be at the discretion of the Board of Directors.\n",
      "[a-z]+\\.\n",
      "d. SERP and Deferred Compensation. Executive shall also be entitled to receive an annual contribution equal to 25% of annual Base Salary in accordance with the Employer’s Supplemental Executive Retirement Plan, as may be adjusted at the discretion of the Board of Directors from time to time. The Executive may also participate in the Employer’s Deferred Compensation Plan.\n",
      "[a-z]+\\.\n",
      "e. Other Benefits. Throughout the term of this Agreement, Employer shall provide Executive with reasonable health insurance, disability and other employee benefits. Executive shall participate in all employee benefit plans and programs of Employer on a basis at least as favorable as that accorded to any other officer of Employer.\n",
      "[a-z]+\\.\n",
      "f. Expenses. Employer shall reimburse Executive for his reasonable expenses (including, without limitation, travel, entertainment, and similar expenses) incurred in performing and promoting the business of Employer. Executive shall present from time to time itemized accounts of any such expenses as required by Employer, subject to any limits of company policy and the rules and regulations of the Internal Revenue Service.\n",
      "[a-z]+\\.\n",
      "g. Automobile Allowance. Executive shall receive a SEVEN HUNDRED DOLLAR ($700.00) monthly automobile allowance for his automobile, fuel and maintenance expenses for Bank business. No other expense reimbursement will be provided for use of his vehicle.\n",
      "\\d+\\.[^\\d]+\n",
      "5. Termination of Agreement.\n",
      "[a-z]+\\.\n",
      "a. Termination Due to a Change in Control. If (A) Employer (either Northrim BanCorp, Inc. or Northrim Bank) is subjected to a Change of Control (as defined in Section 5(f)(i)), and (B) either Employer or its assigns terminates Executive’s employment without Cause (either during the annual term of this Agreement or by refusing to extend this Agreement when the annual termination occurs every December 31) or Executive terminates his employment for Good Reason within 730 days of such Change of Control, then Employer shall pay Executive in a lump sum: (i) all Base Salary earned and all reimbursable expenses incurred under this Agreement through such termination date; (ii) an amount equal to two (2) times Executive’s highest Base Salary over the prior three (3) years; and (iii) benefits described in Sections 5(b)(I) and (II) below. The amounts described in Section 5(a)(i) herein shall be paid no later than 45 days after the day on which employment is terminated. The amount described in Section 5(a)(ii) herein shall be paid on the first day of the month following a period of six (6) months after the termination of employment, provided that the payment may be made sooner if either (i) the amount does not exceed two times the lesser of (a) the Executive’s annual compensation for the year prior to the year in which employment is terminated; or (b) the maximum amount that may be taken into account under a qualified plan pursuant to Internal Revenue Code Section 401(a)(17) for such year (the “IRC Safe Harbor”) or (ii) at the Executive’s election, the amount described in Section 5(a)(ii) is reduced to fit within the IRC Safe Harbor. No payment will be made pursuant to Section 5(a)(ii) until the Executive has signed an agreement, in a form acceptable to Employer, that releases and holds Employer harmless from all known and unknown claims and liabilities arising out of Executive’s employment with Employer or the performance of this Agreement (“Release Agreement”).\n",
      "[a-z]+\\.\n",
      "b. Termination by Employer Without Cause or by Executive for Good Reason. If Employer terminates Executive’s employment without Cause, or if Executive terminates his employment for Good Reason, Employer shall pay Executive in a lump sum: (i) all Base Salary earned and all reimbursable expenses incurred under this Agreement through such termination date; and (ii) an amount equal to one (1) times Executive’s highest Base Salary over the prior three (3) years. The amount described in 5(b)(i) herein shall be paid no later than 45 days after the day on which employment is terminated. The amount described in 5(b)(ii) herein shall be paid on the first day of the month following a period of six (6) months after the termination of employment, provided that the payment may be made sooner if either (i) the amount does not exceed the IRC Safe Harbor or (ii) at the Executive’s election, the amount described in Section 5(a)(ii) is reduced to fit within the IRC Safe Harbor. No payment will be made pursuant to Section 5(a)(ii) unless the Executive has signed a Release Agreement.\n",
      "[a-z]+\\.\n",
      "c. Termination by Employer for Cause or by Executive Without Good Reason. If Employer terminates Executive’s employment for Cause or if Executive terminates his employment without Good Reason, Employer shall pay Executive upon the effective date of such termination only such Base Salary earned and expenses reimbursable under this Agreement incurred through such termination date. In such case, Executive shall have no right to receive compensation or other benefits for any period after termination under this Agreement.\n",
      "[a-z]+\\.\n",
      "d. Termination Due to Disability. If Employer terminates Executive’s employment on account of any mental or physical Disability that prevents Executive from discharging his duties under this Agreement, even with reasonable accommodation, Executive shall be entitled to: (i) all Base Salary earned and reimbursement for expenses incurred under this Agreement through the termination date, (ii) full Base Salary for the year following the termination date (less the amount of any payments received by Executive during such one (1) year period under any Employer-sponsored disability plan), and (iii) health and dental insurance benefits for a period of one (1) year following the termination date, which benefits will be provided at Employer’s expense, but such period shall count towards the Employer’s continuation of coverage obligation under Section 4980B of Code (commonly referred to as “COBRA”). All such compensation shall be paid Executive in one lump sum the first day of the month following a period of six (6) months after Executive’s employment was terminated, provided that Executive has signed a Release Agreement in a form acceptable to Employer.\n",
      "[a-z]+\\.\n",
      "e. Termination Upon Death of Executive. Executive’s employment under this Agreement shall be terminated upon the death of Executive. In such case, the Employer shall be obligated to pay to the surviving spouse of Executive, or if there is none, to the Executive’s estate: (i) that portion of Executive’s Base Salary that would otherwise have been paid to him for the month in which his death occurred, and (ii) any amounts due him pursuant to the Employer’s pension plan, any supplemental deferred compensation plan, and any other death, insurance, employee benefit plan or stock benefit plan provided to Executive by the Employer, according to the terms of the respective plans.\n",
      "[a-z]+\\.\n",
      "f. Termination Definitions.\n",
      "[\\(]?([vx]|i{1,3}|i[vx]|[vx]i{1,3})(\\.|\\))\n",
      "(i) “Change of Control.” For purposes of this Agreement, the term “Change of Control” shall mean the occurrence of one or more of the following events: (A) One person or entity acquiring or otherwise becoming the owner of twenty-five percent or more of Employer’s outstanding common stock; (B) Replacement of a majority of the incumbent directors of Northrim BanCorp, Inc. or Northrim Bank by directors whose elections have not been supported by a majority of the Board of either company, as appropriate; (C) Dissolution or sale of fifty percent or more in value of the assets, of either Northrim BanCorp, Inc. or Northrim Bank; or (D) A change “in the ownership or effective control” or “in the ownership of a substantial portion of the assets” of Employer, within the meaning of Section 280G of the Internal Revenue Code.\n",
      "[\\(]?([vx]|i{1,3}|i[vx]|[vx]i{1,3})(\\.|\\))\n",
      "(ii) “Cause.” For purposes of this Agreement, termination for “Cause” shall include termination because Executive (A) continually fails to substantially perform his duties with the Employer, (B) is adjudged guilty of a felony, any crime involving dishonesty or breach of trust or any crime involving a breach of his fiduciary duties to the Employer, (C) is willfully and continually failing to comply with any law, rule, or regulation (other than traffic violations or similar offenses) or final cease and desist order of a regulatory agency having jurisdiction over Employer, (D)  commits a material act of dishonesty or disloyalty related to the business of the Employer, or (E) is unable to substantially perform his duties with the Employer due to drug addiction or chronic alcoholism. Notwithstanding the foregoing, Executive shall not be deemed to have been terminated for Cause unless and until there shall have been delivered to him a copy of a resolution duly adopted by the affirmative vote of not less than three-quarters (3/4) of the entire membership of the Employer’s Board of Directors at a meeting of the Board called for such purpose (after reasonable notice to Executive and an opportunity for him, together with his counsel, to be heard before the Board), finding that in the good faith opinion of the Board, he was guilty of conduct that constitutes Cause (as defined above) and specifying the conduct in detail.\n",
      "[\\(]?([vx]|i{1,3}|i[vx]|[vx]i{1,3})(\\.|\\))\n",
      "(iii) “Disability.” For purposes of this Agreement, “Disability” shall mean a medically diagnosed physical or mental impairment that may be expected to result in death, or to be of long, continued duration, and that renders Executive incapable of performing the essential duties required under this Agreement even with reasonable accommodation. Employer’s Board of Directors, acting in good faith, shall make the final determination of whether Executive is suffering under any Disability (as herein defined) and, for purposes of making such determination, may require Executive to submit himself to a physical examination by a physician mutually agreed upon by the Executive and Employer’s Board of Directors at Employer’s expense.\n",
      "[\\(]?([vx]|i{1,3}|i[vx]|[vx]i{1,3})(\\.|\\))\n",
      "(iv) “Good Reason.” For purposes of this Agreement, termination for “Good Reason” shall mean termination by Executive as a result of any material breach of this Agreement by Employer. Good Reason shall include, but not be limited to: (A) a material reduction in Executive’s compensation defined as a reduction equal to or greater than five percent (5%) of Executive’s then annual base salary, (B) a material reduction in Executive’s duties and responsibilities, but not merely a change in title, or (C) relocation of Executive’s primary workplace by more than fifty (50) miles. “Good Reason” will only be deemed to occur if, within ninety (90) days after a material reduction or change described above first occurs, the Executive provides notice to the Employer of the existence of Good Reason and of the Executive’s intended termination of employment due to Good Reason, and the Employer does not remove Good Reason condition within ninety (90) days after receiving such notice from the Executive. The Executive’s written notice must explain the basis on which the Executive believes Good Reason exists, the cure period, and the date on which the Executive intends to terminate employment, which must be no later than six (6) months after the existence of the Good Reason. The provisions of Section 5(f)(iv) are intended to comply with the Good Reason safe harbor provisions of Code Section 409A and applicable regulations.\n",
      "[\\(]?([vx]|i{1,3}|i[vx]|[vx]i{1,3})(\\.|\\))\n",
      "(v) Termination from employment. A termination from employment under this Agreement shall mean a “Separation from Service” as interpreted in accordance with Code Section 409A and generally meaning the date on which the Executive is no longer performing services for the Employer. The Executive shall not have a Separation from Service while on military leave, sick leave, or other bona fide leave of absence if the period of such leave does not exceed six (6) months, or if longer, so long as the Executive retains a right to reemployment under an applicable statute or contract. A leave of absence constitutes a bona fide leave of absence only if there is a reasonable expectation that the Executive will return to perform services.\n",
      "\\d+\\.[^\\d]+\n",
      "6. Limit on Severance Payment for Change of Control.\n",
      "\\d+\\.[^\\d]+\n",
      "7. Covenant Not To Compete.\n",
      "[a-z]+\\.\n",
      "a. Executive agrees that for the term of this Agreement and for a period of two (2) years after this Agreement is terminated pursuant to Section 5(a) or (b) (with the understanding that the two (2) year period will be shortened to one (1) year upon the completion of a transaction constituting a Change of Control, as defined in Section 5(f)(i)), Executive will not directly or indirectly be employed by, own, manage, operate, support, join, or benefit in any way from any business activity that is competitive with Employer’s business or reasonably anticipated business of which Executive has knowledge. For purposes of the foregoing, Executive will be deemed to be connected with such business if the business is carried on by: (i) a partnership in which Executive is a general or limited partner; or (ii) a corporation of which Executive is a shareholder (other than a shareholder owning less than 5% of the total outstanding shares of the corporation), officer, director, employee or consultant, whether paid or unpaid.\n",
      "[a-z]+\\.\n",
      "b. The parties agree that if a trial judge with jurisdiction over a dispute related to this Agreement should determine that the restrictive covenant set forth above is unreasonably broad, the parties authorize such trial judge to narrow the covenant so as to make it reasonable, given all relevant circumstances, and to enforce such covenant. The provisions of this paragraph shall survive termination of this Agreement.\n",
      "\\d+\\.[^\\d]+\n",
      "8. Nondisclosure of Confidential Information.\n",
      "[a-z]+\\.\n",
      "a. During the term of Executive’s employment and thereafter, Executive agrees to hold Employer’s Confidential Information in strict confidence, and not disclose or use it at any time except as authorized by Employer and for Employer’s benefit. If anyone tries to compel Executive to disclose any Confidential Information, by subpoena or otherwise, Executive agrees immediately to notify Employer so that Employer may take any actions it deems necessary to protect its interests. Executive’s agreement to protect Employer’s Confidential Information applies both during the term of this Agreement and after employment ends, regardless of the reason it ends.\n",
      "[a-z]+\\.\n",
      "b. “Confidential Information” includes, without limitation, any information in whatever form that Employer considers to be confidential, proprietary, information and that is not publicly or generally available relating to Employer’s: trade secrets (as defined by the Uniform Trade Secrets Act); know-how; concepts; methods; research and development; product, content and technology development plans; marketing plans; databases; inventions; research data and mechanisms; software (including functional specifications, source code and object code); procedures; engineering; purchasing; accounting; marketing; sales; customers; advertisers; joint venture partners; suppliers; financial status; contracts or employees. Confidential Information includes information developed by Executive, alone or with others, or entrusted to Employer by its customers or others.\n",
      "\\d+\\.[^\\d]+\n",
      "9. Nonsolicitation.\n",
      "\\d+\\.[^\\d]+\n",
      "10. Non-Disparagement.\n",
      "\\d+\\.[^\\d]+\n",
      "11. Mutual Agreement to Arbitrate.\n",
      "[a-z]+\\.\n",
      "a. In the event of a dispute or claim between Executive and Employer related to Employee’s employment or termination of employment, all such disputes or claims will be resolved exclusively by confidential arbitration in accordance with the National Rules for the Resolution of Employment Disputes of the American Arbitration Association (“AAA”). This means that the parties agree to waive their rights to have such disputes or claims decided in court by a jury. Instead, such disputes or claims will be resolved by an impartial AAA arbitrator whose decision will be final.\n",
      "[a-z]+\\.\n",
      "b. The only disputes or claims that are not subject to arbitration are any claims by Executive for workers’ compensation or unemployment benefits, and any claim by Executive for benefits under an employee benefit plan that provides its own arbitration procedure. Also, Executive and Employer may seek injunctive relief in court in appropriate circumstances.\n",
      "[a-z]+\\.\n",
      "c. The arbitration procedure will afford Executive and Employer the full range of statutory remedies. Employer will pay all costs that are unique to arbitration, except that the party who initiates arbitration will pay the filing fee charged by AAA. Executive and Employer shall be entitled to discovery sufficient to adequately arbitrate their claims, including access to essential documents and witnesses, as determined by the arbitrator and subject to limited judicial review. In order for any judicial review of the arbitrator’s decision to be successfully accomplished, the arbitrator will issue a written decision that will decide all issues submitted and will reveal the essential findings and conclusions on which the award is based.\n",
      "\\d+\\.[^\\d]+\n",
      "12. Miscellaneous.\n",
      "[a-z]+\\.\n",
      "a. This Agreement contains the entire agreement between the parties with respect to Executive’s employment with Employer, and is subject to modification or amendment only upon agreement in writing signed by both parties.\n",
      "[a-z]+\\.\n",
      "b. This Agreement shall bind and inure to the benefit of the heirs, legal representatives, successors and assigns of the parties, except that Employer’s rights and obligations may not be assigned.\n",
      "[a-z]+\\.\n",
      "c. If any provision of this Agreement is invalid or otherwise unenforceable, in whole or in part, then such provision shall be modified so as to be enforceable to the maximum extent permitted by law. If such provision cannot be modified to be enforceable, the provision shall be severed from the Agreement to the extent it is unenforceable. All other provisions and any partially enforceable provisions shall remain unaffected and shall remain in full force and effect.\n",
      "[a-z]+\\.\n",
      "d. In the event of any claim or dispute arising out of this Agreement, the party that substantially prevails shall be entitled to reimbursement of all expenses incurred in connection with such claim or dispute, including, without limitation, attorneys’ fees and other professional fees. This paragraph shall apply to expenses incurred with or without suit, and in any judicial, arbitration or administrative proceedings, including all appeals therefrom.\n",
      "[a-z]+\\.\n",
      "e. Any notice required to be given under this Agreement to either party shall be given by personal service or by depositing a copy of such notice in the United States registered or certified mail, postage prepaid, addressed to the following address, or such other address as addressee shall designate in writing:\n",
      "[a-z]+\\.\n",
      "f. This Agreement shall in all respects, including all matters of construction, validity and performance, be governed by and construed and enforced according to the laws of the State of Alaska.\n",
      "[a-z]+\\.\n",
      "g. This Agreement is intended to comply and shall be interpreted and construed in a manner consistent with the provisions of Internal Revenue Code Section 409A, including any rule or regulation promulgated thereunder. In the event that any provision of the Agreement would cause a benefit or amount provided hereunder to be subject to tax under the Internal Revenue Code prior to the time such amount is paid, such provision shall, without the necessity of further action by the signatories to this Agreement, be null and void as of the Effective Date.\n"
     ]
    }
   ],
   "source": [
    "'''\n",
    "Testing Function\n",
    "'''\n",
    "\n",
    "# Input folder path\n",
    "directory_path = os.getcwd() + '/input/change_of_control+change_in_control' \n",
    "fileName = '1Y0ki1eVSBHxQNmWIfj6Or.docx'\n",
    "document = Document(directory_path + \"/\" +fileName)\n",
    "    \n",
    "for p in document.paragraphs:\n",
    "    pattern = bullet_list(p)\n",
    "    if pattern:\n",
    "        print pattern\n",
    "        print p.text"
   ]
  },
  {
   "cell_type": "markdown",
   "metadata": {},
   "source": [
    "### isListPara(para) Example\n",
    "1. any Person or group (within the meaning of Rule13d-5 of the SEC under the Exchange Act) shall become the Beneficial Owner of 20% or more of the Voting Equity Interests of the Borrower, or \n",
    "2. a majority of the members of the Board of Directors of the Borrower shall cease to be Continuing Members."
   ]
  },
  {
   "cell_type": "code",
   "execution_count": 7,
   "metadata": {
    "collapsed": true
   },
   "outputs": [],
   "source": [
    "'''\n",
    "Author: Alan\n",
    "\n",
    "Check if the paragraph is list paragraph rather than normal paragraph, used in find_patterns and match function\n",
    "\n",
    "-para = paragraph\n",
    "\n",
    "return True/False\n",
    "'''\n",
    "def isListPara(para):\n",
    "    paraFormat = para.style.name\n",
    "    if paraFormat == 'List Paragraph':\n",
    "        return True\n",
    "    return False"
   ]
  },
  {
   "cell_type": "markdown",
   "metadata": {},
   "source": [
    "### isNormal(para) Example\n",
    "any Person or group (within the meaning of Rule13d-5 of the SEC under the Exchange Act) shall become the Beneficial Owner of 20% or more of the Voting Equity Interests of the Borrower, or "
   ]
  },
  {
   "cell_type": "code",
   "execution_count": 8,
   "metadata": {
    "collapsed": true
   },
   "outputs": [],
   "source": [
    "'''\n",
    "Author: Alan\n",
    "\n",
    "Check if the paragraph is Normal rather than list paragraph，used in match function\n",
    "\n",
    "-para = paragraph\n",
    "\n",
    "return True/False\n",
    "'''\n",
    "def isNormal(para):\n",
    "    paraFormat = para.style.name\n",
    "    if paraFormat == 'Normal':\n",
    "        return True\n",
    "    return False"
   ]
  },
  {
   "cell_type": "markdown",
   "metadata": {},
   "source": [
    "### isNormalFollwingListPara(paras, curIndex) Example\n",
    "Change of control means that \n",
    "1. any Person or group (within the meaning of Rule13d-5 of the SEC under the Exchange Act) shall become the Beneficial Owner of 20% or more of the Voting Equity Interests of the Borrower, or \n",
    "2. a majority of the members of the Board of Directors of the Borrower shall cease to be Continuing Members."
   ]
  },
  {
   "cell_type": "code",
   "execution_count": 9,
   "metadata": {
    "collapsed": true
   },
   "outputs": [],
   "source": [
    "'''\n",
    "Author: Alan\n",
    "\n",
    "Check if the paragraph followed by list paragraph, used in find_patterns function\n",
    "\n",
    "-paras = all the paragraph\n",
    "-curIndex = the index of current paragraph\n",
    "\n",
    "return True/False\n",
    "'''\n",
    "def isNormalFollowingListPara(paras, curIndex):\n",
    "    targetFormat = paras[curIndex].style.name\n",
    "    if curIndex == len(paras) - 1:\n",
    "        return False\n",
    "    nextFormat = paras[curIndex+1].style.name\n",
    "    if nextFormat == 'List Paragraph' and targetFormat == 'Normal':\n",
    "        return True\n",
    "    return False"
   ]
  },
  {
   "cell_type": "markdown",
   "metadata": {},
   "source": [
    "### bold(para) Example\n",
    "**Change of control** means that (a) any Person or group (within the meaning of Rule13d-5 of the SEC under the Exchange Act) shall become the Beneficial Owner of 20% or more of the Voting Equity Interests of the Borrower, or (b) a majority of the members of the Board of Directors of the Borrower shall cease to be Continuing Members.\n",
    "\n",
    "**Code** shall mean the Internal Revenue Code of 1986, as the same may be amended or supplemented from time to time, and any successor statute of similar import, and the rules and regulations thereunder, as from time to time in effect."
   ]
  },
  {
   "cell_type": "code",
   "execution_count": 10,
   "metadata": {
    "collapsed": true
   },
   "outputs": [],
   "source": [
    "'''\n",
    "Author: Zheng\n",
    "\n",
    "Check if the bold font in the paragraph, used in match function\n",
    "\n",
    "-para = paragraph\n",
    "\n",
    "return True/False\n",
    "'''\n",
    "def bold(para):\n",
    "    paras_toPrint = []\n",
    "    for run in para.runs:\n",
    "        if run.bold:\n",
    "            #print run.text,'bold'\n",
    "            paras_toPrint.append(run.text)              \n",
    "    if len(paras_toPrint) == 0:\n",
    "        return False\n",
    "    else:\n",
    "        return True"
   ]
  },
  {
   "cell_type": "markdown",
   "metadata": {},
   "source": [
    "### is_bold(para, keywords) Example\n",
    "**Change of control** means that (a) any Person or group (within the meaning of Rule13d-5 of the SEC under the Exchange Act) shall become the Beneficial Owner of 20% or more of the Voting Equity Interests of the Borrower, or (b) a majority of the members of the Board of Directors of the Borrower shall cease to be Continuing Members."
   ]
  },
  {
   "cell_type": "code",
   "execution_count": 11,
   "metadata": {
    "collapsed": true
   },
   "outputs": [],
   "source": [
    "'''\n",
    "Author: Zheng\n",
    "\n",
    "Check if the bold font and keyword in the paragraph, used in find_patterns function\n",
    "\n",
    "-para = paragraph\n",
    "-keywords = search words\n",
    "\n",
    "return True/False\n",
    "'''\n",
    "def is_bold(para, keywords):\n",
    "    paras_toPrint = []\n",
    "    if keywords.lower() in para.text.lower(): \n",
    "        for run in para.runs and run.text.lower()==keywords.lower():\n",
    "            if run.bold:\n",
    "                #print run.text,'bold'\n",
    "                paras_toPrint.append(run.text)\n",
    "                return True\n",
    "    return False"
   ]
  },
  {
   "cell_type": "markdown",
   "metadata": {},
   "source": [
    "### is_italic(para, keywords) Example\n",
    "_Change of control_ means that (a) any Person or group (within the meaning of Rule13d-5 of the SEC under the Exchange Act) shall become the Beneficial Owner of 20% or more of the Voting Equity Interests of the Borrower, or (b) a majority of the members of the Board of Directors of the Borrower shall cease to be Continuing Members."
   ]
  },
  {
   "cell_type": "code",
   "execution_count": 12,
   "metadata": {
    "collapsed": true
   },
   "outputs": [],
   "source": [
    "'''\n",
    "Author: Zheng\n",
    "\n",
    "Check if the italic font and keywords in the paragraph, used in match function\n",
    "\n",
    "-para = paragraph\n",
    "\n",
    "return True/False\n",
    "'''\n",
    "def is_italic(para, keywords):\n",
    "    paras_toPrint = []\n",
    "    if keywords.lower() in para.text.lower():\n",
    "        for run in para.runs:\n",
    "            if run.italic and run.text.lower()==keywords.lower():\n",
    "                paras_toPrint.append(run.text)\n",
    "                return True\n",
    "    return False"
   ]
  },
  {
   "cell_type": "markdown",
   "metadata": {},
   "source": [
    "### italic(para) Example\n",
    "_Code_ shall mean the Internal Revenue Code of 1986, as the same may be amended or supplemented from time to time, and any successor statute of similar import, and the rules and regulations thereunder, as from time to time in effect."
   ]
  },
  {
   "cell_type": "code",
   "execution_count": 13,
   "metadata": {
    "collapsed": true
   },
   "outputs": [],
   "source": [
    "'''\n",
    "Author: Zheng\n",
    "\n",
    "Check if the italic font in the paragraph, used in match function\n",
    "\n",
    "-para = paragraph\n",
    "\n",
    "return True/False\n",
    "'''\n",
    "def italic(para):\n",
    "    paras_toPrint = []\n",
    "    for run in para.runs:\n",
    "        if run.italic:\n",
    "            #print run.text,'italic'\n",
    "            return True\n",
    "            paras_toPrint.append(run.text)\n",
    "    return False"
   ]
  },
  {
   "cell_type": "markdown",
   "metadata": {},
   "source": [
    "### is_underline(para, keywords) Example\n",
    "Change of control(Underline) means that (a) any Person or group (within the meaning of Rule13d-5 of the SEC under the Exchange Act) shall become the Beneficial Owner of 20% or more of the Voting Equity Interests of the Borrower, or (b) a majority of the members of the Board of Directors of the Borrower shall cease to be Continuing Members."
   ]
  },
  {
   "cell_type": "code",
   "execution_count": 14,
   "metadata": {
    "collapsed": true
   },
   "outputs": [],
   "source": [
    "# Zheng\n",
    "def is_underline(para, keywords):\n",
    "    paras_toPrint = []    \n",
    "    if keywords.lower() in para.text.lower():\n",
    "        for run in para.runs:\n",
    "            if run.underline and run.text.lower()==keywords.lower():\n",
    "                #print run.text,'underline'\n",
    "                paras_toPrint.append(run.text)\n",
    "    if len(paras_toPrint) == 0:\n",
    "        return False\n",
    "    else:\n",
    "        return True"
   ]
  },
  {
   "cell_type": "markdown",
   "metadata": {},
   "source": [
    "### underline(para) Example\n",
    "\n",
    "Code(Underline) shall mean the Internal Revenue Code of 1986, as the same may be amended or supplemented from time to time, and any successor statute of similar import, and the rules and regulations thereunder, as from time to time in effect."
   ]
  },
  {
   "cell_type": "code",
   "execution_count": 15,
   "metadata": {
    "collapsed": true
   },
   "outputs": [],
   "source": [
    "'''\n",
    "Author: Zheng\n",
    "\n",
    "Check if the underline in the paragraph, used in match function\n",
    "\n",
    "-para = paragraph\n",
    "\n",
    "return True/False\n",
    "'''\n",
    "def underline(para):\n",
    "    paras_toPrint = []\n",
    "    for run in para.runs:\n",
    "        if run.underline:\n",
    "            return True\n",
    "            #print run.text,'underline'\n",
    "            paras_toPrint.append(run.text)\n",
    "    return False"
   ]
  },
  {
   "cell_type": "markdown",
   "metadata": {},
   "source": [
    "### is_double_quotes(para, keywords) Example:\n",
    "\"Change of control\" means that (a) any Person or group (within the meaning of Rule13d-5 of the SEC under the Exchange Act) shall become the Beneficial Owner of 20% or more of the Voting Equity Interests of the Borrower, or (b) a majority of the members of the Board of Directors of the Borrower shall cease to be Continuing Members."
   ]
  },
  {
   "cell_type": "code",
   "execution_count": 16,
   "metadata": {
    "collapsed": true
   },
   "outputs": [],
   "source": [
    "'''\n",
    "Author: Zoe\n",
    "\n",
    "Check if the keyword is double quoted in the paragraph, used in find_patterns function\n",
    "\n",
    "-para = paragraph\n",
    "\n",
    "return True/False\n",
    "'''\n",
    "def is_double_quotes(para, keywords, stop_set):\n",
    "    words = re.split(u'[\\\"\\u201c\\u201d]',para.text)\n",
    "    removed_words = remove_stopwords(keyword, stop_set).split(\" \")\n",
    "    #print words\n",
    "#     print '\\tIS Double Quotes', words\n",
    "    #print re.match('[a-zA-Z ]*[a-zA-Z]+[a-zA-Z ]*',words[0])\n",
    "    if len(words) == 1:  # no double quotes\n",
    "        return False\n",
    "    # check if all keywords are in words[1], the first phrase in double quotes, and words[0] is not regular phrase which means that words[1] is the start of the paragragh\n",
    "    if all(word in words[1] for word in removed_words) and len(words[0].rstrip().lstrip()) < 7 and re.match(r'[a-zA-Z ]*[a-zA-Z]+[a-zA-Z ]*',words[0]) == None:\n",
    "        return True\n",
    "    return False\n",
    "#     if not words:\n",
    "#         return False\n",
    "#     if para.text.startswith(\"\\\"\" + words[0] + \"\\\"\"):   #and words[0].lower() == keyword.lower():\n",
    "#         return True       \n",
    "#     else:\n",
    "#         return False"
   ]
  },
  {
   "cell_type": "markdown",
   "metadata": {},
   "source": [
    "### double_quotes(para) Example:\n",
    "\n",
    "\"Code\" shall mean the Internal Revenue Code of 1986, as the same may be amended or supplemented from time to time, and any successor statute of similar import, and the rules and regulations thereunder, as from time to time in effect.\n"
   ]
  },
  {
   "cell_type": "code",
   "execution_count": 17,
   "metadata": {
    "collapsed": true
   },
   "outputs": [],
   "source": [
    "'''\n",
    "Author: Zoe\n",
    "\n",
    "Check if the double quotes in the paragraph, used in match function\n",
    "\n",
    "-para = paragraph\n",
    "\n",
    "return True/False\n",
    "'''\n",
    "def double_quotes(para):\n",
    "    \"\"\"\n",
    "        Find if paragraph starts with double quotes\n",
    "        \n",
    "        return: True or False\n",
    "    \"\"\"\n",
    "    words = re.split(u'[\\\"\\u201c\\u201d]',para.text)\n",
    "    #print words\n",
    "    if  len(words) == 1:\n",
    "        return False\n",
    "    # if words[0] is not regular phrase, we regard  words[1] as the start of the paragragh\n",
    "    if len(words[0].rstrip().lstrip()) < 7 and re.match(r'[a-zA-Z ]*[a-zA-Z]+[a-zA-Z ]*',words[0]) == None:\n",
    "        return True       \n",
    "    else:\n",
    "        return False"
   ]
  },
  {
   "cell_type": "markdown",
   "metadata": {},
   "source": [
    "### is_single_quotes(para, keywords) Example:\n",
    "'Change of control' means that (a) any Person or group (within the meaning of Rule13d-5 of the SEC under the Exchange Act) shall become the Beneficial Owner of 20% or more of the Voting Equity Interests of the Borrower, or (b) a majority of the members of the Board of Directors of the Borrower shall cease to be Continuing Members.\n"
   ]
  },
  {
   "cell_type": "code",
   "execution_count": 18,
   "metadata": {
    "collapsed": true
   },
   "outputs": [],
   "source": [
    "'''\n",
    "Author: Zoe\n",
    "\n",
    "Check if the keyword is single quoted in the paragraph, used in find_patterns function\n",
    "\n",
    "-para = paragraph\n",
    "\n",
    "return True/False\n",
    "'''\n",
    "def is_single_quotes(para, keywords, stop_set):\n",
    "    words = re.split(u'[\\\"\\u2018\\u2019]',para.text)\n",
    "    removed_words = remove_stopwords(keyword, stop_set).split(\" \")\n",
    "    #re.findall(r'[\\\"\\u201C\\u201D].*[\\\"\\u201C\\u201D]', para.text)\n",
    "    #print words\n",
    "#     print '\\tIS Double Quotes', words\n",
    "    if len(words) == 1:    # no single quotes\n",
    "        return False\n",
    "        # check if all keywords are in words[1], the first phrase in single quotes, and words[0] is not regular phrase which means that words[1] is the start of the paragragh\n",
    "    if all(word in words[1] for word in removed_words) and len(words[0].rstrip().lstrip()) < 7 and re.match(r'[a-zA-Z ]*[a-zA-Z]+[a-zA-Z ]*',words[0]) == None:\n",
    "        return True\n",
    "    return False"
   ]
  },
  {
   "cell_type": "markdown",
   "metadata": {},
   "source": [
    "### single_quotes(para) Example:\n",
    "\n",
    "'Code' shall mean the Internal Revenue Code of 1986, as the same may be amended or supplemented from time to time, and any successor statute of similar import, and the rules and regulations thereunder, as from time to time in effect.\n"
   ]
  },
  {
   "cell_type": "code",
   "execution_count": 19,
   "metadata": {
    "collapsed": true
   },
   "outputs": [],
   "source": [
    "'''\n",
    "Author: Zoe\n",
    "\n",
    "Check if single quotes in the paragraph, used in match function\n",
    "\n",
    "-para = paragraph\n",
    "\n",
    "return True/False\n",
    "'''\n",
    "def single_quotes(para):\n",
    "    words = re.split(u'[\\\"\\u2018\\u2019]',para.text)\n",
    "    if len(words) == 1:\n",
    "        return False\n",
    "    # if words[0] is not regular phrase, we regard words[1] as the start of the paragragh\n",
    "    if len(words[0].rstrip().lstrip()) < 7 and re.match(r'[a-zA-Z ]*[a-zA-Z]+[a-zA-Z ]*',words[0]) == None:\n",
    "        return True       \n",
    "    else:\n",
    "        return False"
   ]
  },
  {
   "cell_type": "markdown",
   "metadata": {},
   "source": [
    "### is_upper_case(para, keywords) Example:\n",
    "CHANGE OF CONTROL shall mean the Internal Revenue Code of 1986, as the same may be amended or supplemented from time to time, and any successor statute of similar import, and the rules and regulations thereunder, as from time to time in effect.\n"
   ]
  },
  {
   "cell_type": "code",
   "execution_count": 20,
   "metadata": {
    "collapsed": true
   },
   "outputs": [],
   "source": [
    "'''\n",
    "Author: Zoe\n",
    "\n",
    "Check if the keyword is upper case in the paragraph, used in find_patterns function\n",
    "\n",
    "-para = paragraph\n",
    "\n",
    "return True/False\n",
    "'''\n",
    "def is_upper_case(para, keywords):\n",
    "    words = re.findall(r'([A-Z]+?)\\s',para.text)\n",
    "    if not words:\n",
    "        return False\n",
    "    if para.text.startswith(words[0]): # and words[0].lower() == keyword.lower():\n",
    "        return True\n",
    "    else:\n",
    "        return False"
   ]
  },
  {
   "cell_type": "markdown",
   "metadata": {},
   "source": [
    "### upper_case(para) Example:\n",
    "\n",
    "UPPERCASE shall mean the Internal Revenue Code of 1986, as the same may be amended or supplemented from time to time, and any successor statute of similar import, and the rules and regulations thereunder, as from time to time in effect.\n"
   ]
  },
  {
   "cell_type": "code",
   "execution_count": 21,
   "metadata": {
    "collapsed": true
   },
   "outputs": [],
   "source": [
    "'''\n",
    "Author: Zoe\n",
    "\n",
    "Check if upper case word in the paragraph, used in match function\n",
    "\n",
    "-para = paragraph\n",
    "\n",
    "return True/False\n",
    "'''\n",
    "def upper_case(para):\n",
    "    words = re.findall(r'([A-Z]+?)\\s',para.text)\n",
    "    if not words:\n",
    "        return False\n",
    "    if para.text.startswith(words[0]):\n",
    "        return True\n",
    "    else:\n",
    "        return False"
   ]
  },
  {
   "cell_type": "markdown",
   "metadata": {},
   "source": [
    "#### Remove_Stopwords Test"
   ]
  },
  {
   "cell_type": "code",
   "execution_count": 22,
   "metadata": {},
   "outputs": [
    {
     "ename": "IOError",
     "evalue": "[Errno 2] No such file or directory: '/Users/yangyi/Desktop/stop_words.txt'",
     "output_type": "error",
     "traceback": [
      "\u001b[1;31m\u001b[0m",
      "\u001b[1;31mIOError\u001b[0mTraceback (most recent call last)",
      "\u001b[1;32m<ipython-input-22-b0f85d425d93>\u001b[0m in \u001b[0;36m<module>\u001b[1;34m()\u001b[0m\n\u001b[0;32m      4\u001b[0m \u001b[0mdirectory_path\u001b[0m \u001b[1;33m=\u001b[0m \u001b[1;34m'/Users/yangyi/Desktop'\u001b[0m\u001b[1;33m\u001b[0m\u001b[0m\n\u001b[0;32m      5\u001b[0m \u001b[0mfileName\u001b[0m \u001b[1;33m=\u001b[0m \u001b[1;34m'stop_words.txt'\u001b[0m\u001b[1;33m\u001b[0m\u001b[0m\n\u001b[1;32m----> 6\u001b[1;33m \u001b[0mstop_set\u001b[0m \u001b[1;33m=\u001b[0m \u001b[0mread_stop_words\u001b[0m\u001b[1;33m(\u001b[0m\u001b[0mdirectory_path\u001b[0m \u001b[1;33m+\u001b[0m \u001b[1;34m'/'\u001b[0m \u001b[1;33m+\u001b[0m  \u001b[0mfileName\u001b[0m\u001b[1;33m)\u001b[0m\u001b[1;33m\u001b[0m\u001b[0m\n\u001b[0m\u001b[0;32m      7\u001b[0m \u001b[0mkeyword\u001b[0m \u001b[1;33m=\u001b[0m \u001b[1;34m\"Change of Control\"\u001b[0m\u001b[1;33m\u001b[0m\u001b[0m\n\u001b[0;32m      8\u001b[0m \u001b[1;32mprint\u001b[0m \u001b[0mremove_stopwords\u001b[0m\u001b[1;33m(\u001b[0m\u001b[0mkeyword\u001b[0m\u001b[1;33m,\u001b[0m \u001b[0mstop_set\u001b[0m\u001b[1;33m)\u001b[0m\u001b[1;33m\u001b[0m\u001b[0m\n",
      "\u001b[1;32m<ipython-input-2-05a7e066889d>\u001b[0m in \u001b[0;36mread_stop_words\u001b[1;34m(filename)\u001b[0m\n\u001b[0;32m     10\u001b[0m \u001b[1;32mdef\u001b[0m \u001b[0mread_stop_words\u001b[0m\u001b[1;33m(\u001b[0m\u001b[0mfilename\u001b[0m\u001b[1;33m)\u001b[0m\u001b[1;33m:\u001b[0m\u001b[1;33m\u001b[0m\u001b[0m\n\u001b[0;32m     11\u001b[0m     \u001b[0mvector\u001b[0m \u001b[1;33m=\u001b[0m \u001b[1;33m[\u001b[0m\u001b[1;33m]\u001b[0m\u001b[1;33m\u001b[0m\u001b[0m\n\u001b[1;32m---> 12\u001b[1;33m     \u001b[1;32mwith\u001b[0m \u001b[0mopen\u001b[0m\u001b[1;33m(\u001b[0m\u001b[0mfilename\u001b[0m\u001b[1;33m,\u001b[0m \u001b[1;34m'r'\u001b[0m\u001b[1;33m)\u001b[0m \u001b[1;32mas\u001b[0m \u001b[0mf\u001b[0m\u001b[1;33m:\u001b[0m\u001b[1;33m\u001b[0m\u001b[0m\n\u001b[0m\u001b[0;32m     13\u001b[0m         \u001b[0minput\u001b[0m \u001b[1;33m=\u001b[0m \u001b[0mf\u001b[0m\u001b[1;33m.\u001b[0m\u001b[0mread\u001b[0m\u001b[1;33m(\u001b[0m\u001b[1;33m)\u001b[0m\u001b[1;33m.\u001b[0m\u001b[0msplitlines\u001b[0m\u001b[1;33m(\u001b[0m\u001b[1;33m)\u001b[0m\u001b[1;33m\u001b[0m\u001b[0m\n\u001b[0;32m     14\u001b[0m \u001b[1;33m\u001b[0m\u001b[0m\n",
      "\u001b[1;31mIOError\u001b[0m: [Errno 2] No such file or directory: '/Users/yangyi/Desktop/stop_words.txt'"
     ]
    }
   ],
   "source": [
    "'''\n",
    "Testing Function\n",
    "'''\n",
    "directory_path = '/Users/yangyi/Desktop' \n",
    "fileName = 'stop_words.txt'\n",
    "stop_set = read_stop_words(directory_path + '/' +  fileName)\n",
    "keyword = \"Change of Control\"\n",
    "print remove_stopwords(keyword, stop_set)"
   ]
  },
  {
   "cell_type": "code",
   "execution_count": 23,
   "metadata": {
    "collapsed": true
   },
   "outputs": [],
   "source": [
    "'''\n",
    "Author: Eden\n",
    "\n",
    "Traversing through each of the paragraphs and find the paragraph containing the keywords\n",
    "\n",
    "-paras = all paragraphs\n",
    "-keywords = search words\n",
    "\n",
    "return a list of paragraph index \n",
    "'''\n",
    "def search_2(paras, keyword):\n",
    "    index = []\n",
    "    i = 0\n",
    "    target = remove_stopwords(keyword.lower(), stop_set)\n",
    "    while (i<len(paras)):\n",
    "        p = paras[i]\n",
    "        if contains_sliding_window(p.text.lower(), target, 2 * len(keyword)):\n",
    "            print 'test3'\n",
    "            index.append(i)\n",
    "        i = i+1\n",
    "    return index"
   ]
  },
  {
   "cell_type": "code",
   "execution_count": 24,
   "metadata": {
    "collapsed": true
   },
   "outputs": [],
   "source": [
    "'''\n",
    "Author: Eden\n",
    "\n",
    "Find the keywords by sliding windows so that even the order of keywords change, we can still fetch the results\n",
    "\n",
    "-text = all paragraphs\n",
    "-keywords = search words\n",
    "-win_len = the length of sliding window\n",
    "\n",
    "return True if the keyword is in text within a sliding window by random orders.\n",
    "'''\n",
    "def contains_sliding_window(text, keyword, win_len):\n",
    "    target_words = re.split('[\\s]', keyword)\n",
    "    probe = target_words[0]\n",
    "#     print probe\n",
    "#     print text\n",
    "    \n",
    "    flag = False\n",
    "    i = 0\n",
    "    while (True):\n",
    "        text = text[i:]\n",
    "        if probe in text:\n",
    "            i = text.index(probe)\n",
    "            l_pointer = max(0,i - win_len)\n",
    "            r_pointer = min(len(text),i + win_len)\n",
    "            window_str = text[l_pointer:r_pointer]\n",
    "            flag = True\n",
    "            for target_word in target_words:\n",
    "                if target_word not in window_str:\n",
    "                    flag = False\n",
    "            if flag:\n",
    "                return True\n",
    "        else:\n",
    "            break"
   ]
  },
  {
   "cell_type": "code",
   "execution_count": 25,
   "metadata": {},
   "outputs": [
    {
     "ename": "NameError",
     "evalue": "name 'keyword' is not defined",
     "output_type": "error",
     "traceback": [
      "\u001b[1;31m\u001b[0m",
      "\u001b[1;31mNameError\u001b[0mTraceback (most recent call last)",
      "\u001b[1;32m<ipython-input-25-1e59f837fe4f>\u001b[0m in \u001b[0;36m<module>\u001b[1;34m()\u001b[0m\n\u001b[0;32m      3\u001b[0m '''\n\u001b[0;32m      4\u001b[0m \u001b[0mtext\u001b[0m \u001b[1;33m=\u001b[0m \u001b[1;34m'aaChange of Control means an event or series of events by which:'\u001b[0m\u001b[1;33m\u001b[0m\u001b[0m\n\u001b[1;32m----> 5\u001b[1;33m \u001b[1;32mif\u001b[0m \u001b[0mcontains_sliding_window\u001b[0m\u001b[1;33m(\u001b[0m\u001b[0mtext\u001b[0m\u001b[1;33m.\u001b[0m\u001b[0mlower\u001b[0m\u001b[1;33m(\u001b[0m\u001b[1;33m)\u001b[0m\u001b[1;33m,\u001b[0m \u001b[1;34m'change control'\u001b[0m\u001b[1;33m,\u001b[0m \u001b[1;36m2\u001b[0m \u001b[1;33m*\u001b[0m \u001b[0mlen\u001b[0m\u001b[1;33m(\u001b[0m\u001b[0mkeyword\u001b[0m\u001b[1;33m)\u001b[0m\u001b[1;33m)\u001b[0m\u001b[1;33m:\u001b[0m\u001b[1;33m\u001b[0m\u001b[0m\n\u001b[0m\u001b[0;32m      6\u001b[0m     \u001b[1;32mprint\u001b[0m \u001b[0mtext\u001b[0m \u001b[1;33m+\u001b[0m \u001b[1;34m'1'\u001b[0m\u001b[1;33m\u001b[0m\u001b[0m\n",
      "\u001b[1;31mNameError\u001b[0m: name 'keyword' is not defined"
     ]
    }
   ],
   "source": [
    "'''\n",
    "Testing Function\n",
    "'''\n",
    "text = 'aaChange of Control means an event or series of events by which:'\n",
    "if contains_sliding_window(text.lower(), 'change control', 2 * len(keyword)):\n",
    "    print text + '1'"
   ]
  },
  {
   "cell_type": "markdown",
   "metadata": {},
   "source": [
    "### upper_camel_case(para, keywords) Example:\n",
    "Capitalized Lease Obligations means, with respect to any Person, all outstanding obligations of such Person in respect of Capital Leases, taken at the capitalized amount thereof accounted for as indebtedness in accordance with GAAP.\n",
    "\n",
    "Change of Control means that (a) any Person or group (within the meaning of Rule13d-5 of the SEC under the Exchange Act) shall become the Beneficial Owner of 20% or more of the Voting Equity Interests of the Borrower, or (b) a majority of the members of the Board of Directors of the Borrower shall cease to be Continuing Members.\n",
    "\n",
    "Code shall mean the Internal Revenue Code of 1986, as the same may be amended or supplemented from time to time, and any successor statute of similar import, and the rules and regulations thereunder, as from time to time in effect."
   ]
  },
  {
   "cell_type": "code",
   "execution_count": 26,
   "metadata": {
    "collapsed": true
   },
   "outputs": [],
   "source": [
    "'''\n",
    "Author: Zoe\n",
    "\n",
    "Still Testing\n",
    "'''\n",
    "def upper_camel_case(para, stop_set):\n",
    "    words_list = re.split(\" \", para.text)\n",
    "    new_para = remove_stopwords(para.text, stop_set)\n",
    "    new_para_list = re.split(\" \", new_para)\n",
    "    new_words_list = re.findall(r'([A-Z][a-z0-9\\']+)[^A-Z]?\\s', new_para)\n",
    "    last_word = \"\"\n",
    "    for i in range(len(new_words_list)):\n",
    "        if new_words_list[i] == new_para_list[i]:\n",
    "            last_word = new_words_list[i]\n",
    "        else:\n",
    "            break\n",
    "    result = []\n",
    "    for j in range(len(words_list)):\n",
    "        if last_word == words_list[j]:\n",
    "            result.append(last_word)\n",
    "            break\n",
    "        else:\n",
    "            result.append(words_list[j])\n",
    "    if len(result) > 1:\n",
    "        return True\n",
    "    else:\n",
    "        return False"
   ]
  },
  {
   "cell_type": "markdown",
   "metadata": {},
   "source": [
    "### is_upper_camel_case() Example:\n",
    "Change of Control means that (a) any Person or group (within the meaning of Rule13d-5 of the SEC under the Exchange Act) shall become the Beneficial Owner of 20% or more of the Voting Equity Interests of the Borrower, or (b) a majority of the members of the Board of Directors of the Borrower shall cease to be Continuing Members.\n"
   ]
  },
  {
   "cell_type": "code",
   "execution_count": 27,
   "metadata": {
    "collapsed": true
   },
   "outputs": [],
   "source": [
    "'''\n",
    "Author: Zoe\n",
    "\n",
    "Still Testing\n",
    "'''\n",
    "def is_upper_camel_case(paragraph, keyword, stop_set):\n",
    "    words_list = re.compile('\\w+').findall(paragraph.text)\n",
    "    new_paragraph = remove_stopwords(paragraph.text, stop_set)\n",
    "    new_paragraph_list = re.compile('\\w+').findall(new_paragraph)\n",
    "    new_words_list = re.findall(r'([A-Z][a-z0-9\\']+)[^A-Z]?\\s', new_paragraph)\n",
    "\n",
    "    last_word = \"\"\n",
    "    for i in range(len(new_words_list)):\n",
    "        if new_words_list[i] == new_paragraph_list[i]:\n",
    "            last_word = new_words_list[i]\n",
    "        else:\n",
    "            break\n",
    "    result = []\n",
    "    for j in range(len(words_list)):\n",
    "        if last_word == words_list[j]:\n",
    "            result.append(last_word)\n",
    "            break\n",
    "        else:\n",
    "            result.append(words_list[j])\n",
    "    results = \" \".join(result)\n",
    "    if results.lower() == keyword.lower():\n",
    "        return True\n",
    "    else:\n",
    "        return False"
   ]
  },
  {
   "cell_type": "code",
   "execution_count": 28,
   "metadata": {
    "collapsed": true
   },
   "outputs": [],
   "source": [
    "# s = is_upper_camel_case('''\"Change of Control\" means Other Connection Taxes that are imposed on or measured by net income (however denominated) or that are franchise Taxes or branch profits Taxes.\n",
    "# ''', 'change of control')\n",
    "# print s"
   ]
  },
  {
   "cell_type": "code",
   "execution_count": 29,
   "metadata": {
    "collapsed": true
   },
   "outputs": [],
   "source": [
    "'''\n",
    "Author: Yufei\n",
    "\n",
    "Traversing through each of the paragraphs and find the paragraph containing the keywords\n",
    "\n",
    "-paras = all paragraphs\n",
    "-keywords = search words\n",
    "\n",
    "return a list of paragraph index \n",
    "'''\n",
    "def search(paras, keywords):\n",
    "    index = []\n",
    "    i = 0\n",
    "    while (i<len(paras)):\n",
    "        p = paras[i]\n",
    "        if keywords.lower() in p.text.lower():\n",
    "            index.append(i)\n",
    "        i = i+1\n",
    "    return index"
   ]
  },
  {
   "cell_type": "code",
   "execution_count": 30,
   "metadata": {
    "collapsed": true
   },
   "outputs": [],
   "source": [
    "'''\n",
    "Author: Yufei\n",
    "\n",
    "Find the pattern of the paragraph containing the keywords by call the is_* function\n",
    "\n",
    "-paras = all paragraphs\n",
    "-index = paragraph index\n",
    "-keyword = search words\n",
    "\n",
    "return True/False list, \n",
    "[bold, italic, underline, double_quotes, single_quotes, upper case, (upper camel case), indent space, list paragraph, normal following list paragraph, bullet list]\n",
    "\n",
    "'''\n",
    "def find_patterns(paras, index, keyword, stop_set):\n",
    "    paragraph = paras[index]\n",
    "    patterns = []\n",
    "    patterns.append(is_bold(paragraph, keyword))\n",
    "    patterns.append(is_italic(paragraph, keyword))\n",
    "    patterns.append(is_underline(paragraph, keyword))\n",
    "    patterns.append(is_double_quotes(paragraph, keyword, stop_set))\n",
    "    patterns.append(is_single_quotes(paragraph, keyword, stop_set))\n",
    "    patterns.append(is_upper_case(paragraph, keyword))\n",
    "    patterns.append(is_upper_camel_case(paragraph, keyword, stop_set))\n",
    "    patterns.append(indent(paragraph))\n",
    "    patterns.append(isListPara(paragraph))\n",
    "    patterns.append(isNormalFollowingListPara(paras, index))\n",
    "    patterns.append(bullet_list(paragraph))\n",
    "    return patterns"
   ]
  },
  {
   "cell_type": "code",
   "execution_count": 31,
   "metadata": {
    "collapsed": true
   },
   "outputs": [],
   "source": [
    "'''\n",
    "Author: Yufei\n",
    "\n",
    "Find the pattern of the paragraph containing the keywords by call the is_* function\n",
    "\n",
    "-paras = all paragraphs\n",
    "-targetPatterns = the target pattern\n",
    "-startIndex = paragraph index\n",
    "\n",
    "return content\n",
    "'''\n",
    "def match(paras, targetPatterns, startIndex):\n",
    "    \n",
    "    i = startIndex + 1\n",
    "    match = []\n",
    "    \n",
    "    print '\\tTarget Patterns: ' + str(parttern_translate(targetPatterns))\n",
    "    \n",
    "    \n",
    "    while (i<len(paras)):\n",
    "        patterns = []\n",
    "        p = paras[i]\n",
    "        \n",
    "\n",
    "        patterns.append(bold(p))\n",
    "        patterns.append(italic(p))\n",
    "        patterns.append(underline(p))\n",
    "        patterns.append(double_quotes(p))\n",
    "        patterns.append(single_quotes(p))\n",
    "        patterns.append(upper_case(p))\n",
    "        patterns.append(upper_camel_case(p, stop_set))\n",
    "        patterns.append(indent(p))\n",
    "        patterns.append(isListPara(p))\n",
    "        patterns.append(isNormalFollowingListPara(paras, i))\n",
    "        patterns.append(bullet_list(p))\n",
    "        \n",
    "        print '\\n\\tNext Paragraph:\\t{0}\\n\\n\\t\\t{1}'.format(str(parttern_translate(patterns)), p.text.encode(\"utf-8\"))\n",
    "        \n",
    "        if patterns == targetPatterns:\n",
    "            print 'Bingo Bingo Bingo Bingo'\n",
    "            break\n",
    "        i = i + 1\n",
    "        # not find same pattern\n",
    "        if i - startIndex > 5 or i == len(paras):\n",
    "            match.append(paras[startIndex])\n",
    "            i = startIndex\n",
    "            break\n",
    "            \n",
    "    for x in range(startIndex, i):\n",
    "        match.append(paras[x])\n",
    "        \n",
    "    return match, i-1"
   ]
  },
  {
   "cell_type": "code",
   "execution_count": 32,
   "metadata": {
    "collapsed": true
   },
   "outputs": [],
   "source": [
    "'''\n",
    "Author: Eden\n",
    "\n",
    "return the list of patterns' name\n",
    "\n",
    "-pattern = the pattern list with true/false\n",
    "\n",
    "return list of patterns name\n",
    "'''\n",
    "def parttern_translate(pattern):\n",
    "    list = []\n",
    "    if pattern[0]:\n",
    "        list.append('blod')\n",
    "    if pattern[1]:\n",
    "        list.append('italic')\n",
    "    if pattern[2]:\n",
    "        list.append('underline')\n",
    "    if pattern[3]:\n",
    "        list.append('double_quotes')\n",
    "    if pattern[4]:\n",
    "        list.append('single_quotes')\n",
    "    if pattern[5]:\n",
    "        list.append('upper_case')\n",
    "    if pattern[6]:\n",
    "        list.append('upper_camel_case')\n",
    "    if pattern[7]:\n",
    "        list.append(pattern[7])\n",
    "    if pattern[8]:\n",
    "        list.append('list_paragraph')\n",
    "    if pattern[9]:\n",
    "        list.append('normal_following_list_paragraph')\n",
    "    if pattern[10]:\n",
    "        list.append('bullet_list')\n",
    "    return list\n",
    "    "
   ]
  },
  {
   "cell_type": "code",
   "execution_count": 36,
   "metadata": {},
   "outputs": [
    {
     "name": "stdout",
     "output_type": "stream",
     "text": [
      "after_list_paragraph.docx\n",
      "('keywordIndex:', [0])\n",
      "Target Para “Change of Control” means an event or series of events by which: \n"
     ]
    },
    {
     "ename": "TypeError",
     "evalue": "find_patterns() takes exactly 4 arguments (3 given)",
     "output_type": "error",
     "traceback": [
      "\u001b[1;31m\u001b[0m",
      "\u001b[1;31mTypeError\u001b[0mTraceback (most recent call last)",
      "\u001b[1;32m<ipython-input-36-f77387c11338>\u001b[0m in \u001b[0;36m<module>\u001b[1;34m()\u001b[0m\n\u001b[0;32m     52\u001b[0m         \u001b[1;32mfor\u001b[0m \u001b[0mindex\u001b[0m \u001b[1;32min\u001b[0m \u001b[0mkeywordindex\u001b[0m\u001b[1;33m:\u001b[0m\u001b[1;33m\u001b[0m\u001b[0m\n\u001b[0;32m     53\u001b[0m             \u001b[1;32mprint\u001b[0m \u001b[1;34m'Target Para'\u001b[0m\u001b[1;33m,\u001b[0m \u001b[0mparas\u001b[0m\u001b[1;33m[\u001b[0m\u001b[0mindex\u001b[0m\u001b[1;33m]\u001b[0m\u001b[1;33m.\u001b[0m\u001b[0mtext\u001b[0m\u001b[1;33m\u001b[0m\u001b[0m\n\u001b[1;32m---> 54\u001b[1;33m             \u001b[0mtarget\u001b[0m \u001b[1;33m=\u001b[0m \u001b[0mfind_patterns\u001b[0m\u001b[1;33m(\u001b[0m\u001b[0mparas\u001b[0m\u001b[1;33m,\u001b[0m \u001b[0mindex\u001b[0m\u001b[1;33m,\u001b[0m \u001b[0mkeyword\u001b[0m\u001b[1;33m)\u001b[0m\u001b[1;33m\u001b[0m\u001b[0m\n\u001b[0m\u001b[0;32m     55\u001b[0m \u001b[1;33m\u001b[0m\u001b[0m\n\u001b[0;32m     56\u001b[0m             \u001b[1;32mif\u001b[0m \u001b[0mindex\u001b[0m \u001b[1;33m==\u001b[0m \u001b[0mparas_number\u001b[0m \u001b[1;33m-\u001b[0m \u001b[1;36m1\u001b[0m\u001b[1;33m:\u001b[0m\u001b[1;33m\u001b[0m\u001b[0m\n",
      "\u001b[1;31mTypeError\u001b[0m: find_patterns() takes exactly 4 arguments (3 given)"
     ]
    }
   ],
   "source": [
    "# Abhay\n",
    "'''\n",
    "Open the output file in append mode and pull related language from the files in the input folder\n",
    "'''\n",
    "\n",
    "########################################################################\n",
    "out_filepath = 'Output/'\n",
    "out_filename = 'Output_search.csv'\n",
    "out_path = out_filepath + out_filename\n",
    "########################################################################\n",
    "\n",
    "\n",
    "header = ['File Name', 'Keywords', 'Change of Control'] # Column names in output file \n",
    "\n",
    "with open(out_path, 'wb') as f:\n",
    "    wr = csv.writer(f)\n",
    "    wr.writerow(header)\n",
    "\n",
    "with open(out_path, 'ab') as f:\n",
    "    # Input folder path\n",
    "    directory_path = 'input' \n",
    "    \n",
    "    # Parse through each file in the input folder path\n",
    "    for fileName in os.listdir(directory_path):\n",
    "        print fileName\n",
    "        \n",
    "        # Create a Document object of each of the files\n",
    "        document = Document(directory_path + \"/\" +fileName)\n",
    "        #document = Document('input/upper_camel_case+underline+after_list_paragraph.docx')\n",
    "        \n",
    "        \n",
    "        # A list to add all the paragraphs in the document\n",
    "        paras = []\n",
    "        \n",
    "        '''\n",
    "        The following for loop is used to add all the paragraphs in the document to the paras list object\n",
    "        '''\n",
    "        for p in document.paragraphs:        \n",
    "            paras.append(p)\n",
    "            \n",
    "        paras_number = len(paras) # Find the number of paragraphs in the document\n",
    "        \n",
    "        paras_toPrint = [] # A list to add all the paragraphs relevant to 'Change of Control' language in this case\n",
    "        \n",
    "        keyword = \"Change of Control\"\n",
    "        keywordindex = search(paras, keyword)\n",
    "        \n",
    "        print('keywordIndex:', keywordindex)\n",
    "        \n",
    "        results = []\n",
    "        result = \"\"\n",
    "        for index in keywordindex:\n",
    "            print 'Target Para', paras[index].text\n",
    "            target = find_patterns(paras, index, keyword)\n",
    "            \n",
    "            if index == paras_number - 1:\n",
    "                result = paras[index]\n",
    "            else:\n",
    "                result = match(paras, target, index)\n",
    "            \n",
    "            results.append(result)\n",
    "\n",
    "        wr = csv.writer(f)\n",
    "        wr.writerow([fileName, keyword, results])\n",
    "        \n",
    "print(\"end\")\n",
    "f.close()"
   ]
  },
  {
   "cell_type": "code",
   "execution_count": 37,
   "metadata": {
    "scrolled": true
   },
   "outputs": [
    {
     "name": "stdout",
     "output_type": "stream",
     "text": [
      "Keyword: Change of Control\n",
      "\n",
      "-------------------------------------------------------------------------\n",
      "File name: 10owzQMAwOayg79reaEvNH.docx\n",
      "\n",
      "\tTarget Paragraph: [87]\n",
      "\t\t3.3           Change of Control. If Executive terminates this Agreement or his employment with the Company for Good Reason or if Executive’s employment with the Company is terminated by the Company for any reason other than for Cause, including non-renewal of this Agreement by the Company, and such termination occurs during a Change of Control Period, the Company shall pay to Executive a change of control indemnity of: (i) the Severance Indemnity as defined in Section 3.2; and (ii) a lump-sum payment equal to one hundred percent (100%) of the higher of: (A) the greater of (x) Executive’s target bonus as in effect for the fiscal year in which the Change of Control occurs or (y) Executive’s target bonus as in effect for the fiscal year in which Executive’s termination of employment occurs; or (B) Executive’s actual bonus for performance during the calendar year prior to the calendar year during which the termination of employment occurs. For avoidance of doubt, the amount paid to Executive pursuant to this Section 3.3 will not be prorated based on the actual amount of time Executive is employed by the Company during the fiscal year (or the relevant performance period if something different than a fiscal year) during which this termination occurs; and (iii) one hundred percent (100%) of Executive’s outstanding and unvested Option Shares will become vested in full. Notwithstanding any other provision in any applicable equity compensation plan and/or individual stock option plan or agreement, Executive’s outstanding and vested stock options as of the Executive’s termination of employment date will remain exercisable until the eighteen (18) month anniversary of the termination of employment date; provided, however, that the post-termination exercise period for any individual stock option right will not extend beyond its original maximum term of the original date of the grant. All payments set forth in this Section 3.3 (i), (ii) and (iii) defined as (the “Change of Control Indemnity”).\n",
      "\n"
     ]
    },
    {
     "ename": "UnboundLocalError",
     "evalue": "local variable 'run' referenced before assignment",
     "output_type": "error",
     "traceback": [
      "\u001b[1;31m\u001b[0m",
      "\u001b[1;31mUnboundLocalError\u001b[0mTraceback (most recent call last)",
      "\u001b[1;32m<ipython-input-37-ae0423ed134d>\u001b[0m in \u001b[0;36m<module>\u001b[1;34m()\u001b[0m\n\u001b[0;32m     67\u001b[0m                 \u001b[0mendindex\u001b[0m \u001b[1;33m=\u001b[0m \u001b[0mindex\u001b[0m\u001b[1;33m\u001b[0m\u001b[0m\n\u001b[0;32m     68\u001b[0m             \u001b[1;32mprint\u001b[0m \u001b[1;34m'\\tTarget Paragraph: [{0}]\\n\\t\\t{1}\\n'\u001b[0m\u001b[1;33m.\u001b[0m\u001b[0mformat\u001b[0m\u001b[1;33m(\u001b[0m\u001b[0mindex\u001b[0m\u001b[1;33m,\u001b[0m \u001b[0mparas\u001b[0m\u001b[1;33m[\u001b[0m\u001b[0mindex\u001b[0m\u001b[1;33m]\u001b[0m\u001b[1;33m.\u001b[0m\u001b[0mtext\u001b[0m\u001b[1;33m.\u001b[0m\u001b[0mencode\u001b[0m\u001b[1;33m(\u001b[0m\u001b[1;34m\"utf-8\"\u001b[0m\u001b[1;33m)\u001b[0m\u001b[1;33m)\u001b[0m\u001b[1;33m\u001b[0m\u001b[0m\n\u001b[1;32m---> 69\u001b[1;33m             \u001b[0mtarget\u001b[0m \u001b[1;33m=\u001b[0m \u001b[0mfind_patterns\u001b[0m\u001b[1;33m(\u001b[0m\u001b[0mparas\u001b[0m\u001b[1;33m,\u001b[0m \u001b[0mindex\u001b[0m\u001b[1;33m,\u001b[0m \u001b[0mkeyword\u001b[0m\u001b[1;33m,\u001b[0m \u001b[0mstop_set\u001b[0m\u001b[1;33m)\u001b[0m\u001b[1;33m\u001b[0m\u001b[0m\n\u001b[0m\u001b[0;32m     70\u001b[0m \u001b[1;33m\u001b[0m\u001b[0m\n\u001b[0;32m     71\u001b[0m             \u001b[1;32mif\u001b[0m \u001b[0mindex\u001b[0m \u001b[1;33m<=\u001b[0m \u001b[0mendindex\u001b[0m\u001b[1;33m:\u001b[0m\u001b[1;33m\u001b[0m\u001b[0m\n",
      "\u001b[1;32m<ipython-input-30-0fc7422d1b8e>\u001b[0m in \u001b[0;36mfind_patterns\u001b[1;34m(paras, index, keyword, stop_set)\u001b[0m\n\u001b[0;32m     15\u001b[0m     \u001b[0mparagraph\u001b[0m \u001b[1;33m=\u001b[0m \u001b[0mparas\u001b[0m\u001b[1;33m[\u001b[0m\u001b[0mindex\u001b[0m\u001b[1;33m]\u001b[0m\u001b[1;33m\u001b[0m\u001b[0m\n\u001b[0;32m     16\u001b[0m     \u001b[0mpatterns\u001b[0m \u001b[1;33m=\u001b[0m \u001b[1;33m[\u001b[0m\u001b[1;33m]\u001b[0m\u001b[1;33m\u001b[0m\u001b[0m\n\u001b[1;32m---> 17\u001b[1;33m     \u001b[0mpatterns\u001b[0m\u001b[1;33m.\u001b[0m\u001b[0mappend\u001b[0m\u001b[1;33m(\u001b[0m\u001b[0mis_bold\u001b[0m\u001b[1;33m(\u001b[0m\u001b[0mparagraph\u001b[0m\u001b[1;33m,\u001b[0m \u001b[0mkeyword\u001b[0m\u001b[1;33m)\u001b[0m\u001b[1;33m)\u001b[0m\u001b[1;33m\u001b[0m\u001b[0m\n\u001b[0m\u001b[0;32m     18\u001b[0m     \u001b[0mpatterns\u001b[0m\u001b[1;33m.\u001b[0m\u001b[0mappend\u001b[0m\u001b[1;33m(\u001b[0m\u001b[0mis_italic\u001b[0m\u001b[1;33m(\u001b[0m\u001b[0mparagraph\u001b[0m\u001b[1;33m,\u001b[0m \u001b[0mkeyword\u001b[0m\u001b[1;33m)\u001b[0m\u001b[1;33m)\u001b[0m\u001b[1;33m\u001b[0m\u001b[0m\n\u001b[0;32m     19\u001b[0m     \u001b[0mpatterns\u001b[0m\u001b[1;33m.\u001b[0m\u001b[0mappend\u001b[0m\u001b[1;33m(\u001b[0m\u001b[0mis_underline\u001b[0m\u001b[1;33m(\u001b[0m\u001b[0mparagraph\u001b[0m\u001b[1;33m,\u001b[0m \u001b[0mkeyword\u001b[0m\u001b[1;33m)\u001b[0m\u001b[1;33m)\u001b[0m\u001b[1;33m\u001b[0m\u001b[0m\n",
      "\u001b[1;32m<ipython-input-11-e9d5a91b46cd>\u001b[0m in \u001b[0;36mis_bold\u001b[1;34m(para, keywords)\u001b[0m\n\u001b[0;32m     12\u001b[0m     \u001b[0mparas_toPrint\u001b[0m \u001b[1;33m=\u001b[0m \u001b[1;33m[\u001b[0m\u001b[1;33m]\u001b[0m\u001b[1;33m\u001b[0m\u001b[0m\n\u001b[0;32m     13\u001b[0m     \u001b[1;32mif\u001b[0m \u001b[0mkeywords\u001b[0m\u001b[1;33m.\u001b[0m\u001b[0mlower\u001b[0m\u001b[1;33m(\u001b[0m\u001b[1;33m)\u001b[0m \u001b[1;32min\u001b[0m \u001b[0mpara\u001b[0m\u001b[1;33m.\u001b[0m\u001b[0mtext\u001b[0m\u001b[1;33m.\u001b[0m\u001b[0mlower\u001b[0m\u001b[1;33m(\u001b[0m\u001b[1;33m)\u001b[0m\u001b[1;33m:\u001b[0m\u001b[1;33m\u001b[0m\u001b[0m\n\u001b[1;32m---> 14\u001b[1;33m         \u001b[1;32mfor\u001b[0m \u001b[0mrun\u001b[0m \u001b[1;32min\u001b[0m \u001b[0mpara\u001b[0m\u001b[1;33m.\u001b[0m\u001b[0mruns\u001b[0m \u001b[1;32mand\u001b[0m \u001b[0mrun\u001b[0m\u001b[1;33m.\u001b[0m\u001b[0mtext\u001b[0m\u001b[1;33m.\u001b[0m\u001b[0mlower\u001b[0m\u001b[1;33m(\u001b[0m\u001b[1;33m)\u001b[0m\u001b[1;33m==\u001b[0m\u001b[0mkeywords\u001b[0m\u001b[1;33m.\u001b[0m\u001b[0mlower\u001b[0m\u001b[1;33m(\u001b[0m\u001b[1;33m)\u001b[0m\u001b[1;33m:\u001b[0m\u001b[1;33m\u001b[0m\u001b[0m\n\u001b[0m\u001b[0;32m     15\u001b[0m             \u001b[1;32mif\u001b[0m \u001b[0mrun\u001b[0m\u001b[1;33m.\u001b[0m\u001b[0mbold\u001b[0m\u001b[1;33m:\u001b[0m\u001b[1;33m\u001b[0m\u001b[0m\n\u001b[0;32m     16\u001b[0m                 \u001b[1;31m#print run.text,'bold'\u001b[0m\u001b[1;33m\u001b[0m\u001b[1;33m\u001b[0m\u001b[0m\n",
      "\u001b[1;31mUnboundLocalError\u001b[0m: local variable 'run' referenced before assignment"
     ]
    }
   ],
   "source": [
    "\n",
    "'''\n",
    "Main Function.\n",
    "\n",
    "02/17/2018 Eden\n",
    "1. Modified the System output to make programmers easier to debug.\n",
    "2. Modified the output format in .csv files\n",
    "3. encode all output string to be utf-8\n",
    "4. Added one function to output the patterns name rather than simple true/false\n",
    "'''\n",
    "\n",
    "########################################################################\n",
    "out_filepath = 'output/'\n",
    "out_filename = 'Output_search.csv'\n",
    "out_path = out_filepath + out_filename\n",
    "########################################################################\n",
    "\n",
    "\n",
    "header = ['File Name', 'Keywords', 'Content'] # Column names in output file \n",
    "\n",
    "with open(out_path, 'wb') as f:\n",
    "    wr = csv.writer(f)\n",
    "    wr.writerow(header)\n",
    "    \n",
    "with open(out_path, 'ab') as f:\n",
    "    # Input folder path\n",
    "    directory_path = 'input/change_of_control+change_in_control' \n",
    "    \n",
    "    stop_set = read_stop_words('res/stop_words.txt')    \n",
    "    \n",
    "    # Parse through each file in the input folder path\n",
    "    print 'Keyword: ' + 'Change of Control' + '\\n'\n",
    "    for fileName in os.listdir(directory_path):\n",
    "        print '-------------------------------------------------------------------------'\n",
    "        print 'File name: ' + fileName + '\\n'\n",
    "        \n",
    "        # Create a Document object of each of the files\n",
    "        document = Document(directory_path + \"/\" +fileName)\n",
    "        # document = Document('/upper_camel_case+underline+after_list_paragraph.docx')\n",
    "        \n",
    "        \n",
    "        # A list to add all the paragraphs in the document\n",
    "        paras = []\n",
    "        \n",
    "        '''\n",
    "        The following for loop is used to add all the paragraphs in the document to the paras list object\n",
    "        '''\n",
    "        for p in document.paragraphs:        \n",
    "            paras.append(p)\n",
    "            \n",
    "        paras_number = len(paras) # Find the number of paragraphs in the document\n",
    "        \n",
    "        paras_toPrint = [] # A list to add all the paragraphs relevant to 'Change of Control' language in this case\n",
    "        \n",
    "        keyword = \"Change of Control\"\n",
    "        keywordindex = search(paras, keyword)\n",
    "        \n",
    "#         print '\\tkeywordIndex: ' + str(keywordindex)\n",
    "#         print\n",
    "        \n",
    "        results = []\n",
    "        result = \"\"\n",
    "        endindex = -1\n",
    "        for index in keywordindex:\n",
    "            if not keyword.lower() in paras[index].text[:100].lower():\n",
    "                results.append(paras[index])\n",
    "                endindex = index\n",
    "            print '\\tTarget Paragraph: [{0}]\\n\\t\\t{1}\\n'.format(index, paras[index].text.encode(\"utf-8\"))\n",
    "            target = find_patterns(paras, index, keyword, stop_set)\n",
    "            \n",
    "            if index <= endindex:\n",
    "                continue\n",
    "            if index == paras_number - 1:\n",
    "                result = paras[index]\n",
    "            else:\n",
    "                result, endindex = match(paras, target, index)\n",
    "            \n",
    "            results.extend(result)\n",
    "\n",
    "        wr = csv.writer(f)\n",
    "        # Created a single list of all instances of 'Change of Control'\n",
    "        # Ignored unrecognized ascii characters that throw an encoding error. Need improvement\n",
    "        text =  [paras.text.encode('ascii','ignore') for paras in results]\n",
    "        res = \"\\n\".join(text)\n",
    "        \n",
    "        wr.writerow([fileName, keyword, res])\n",
    "        \n",
    "        print '\\n'\n",
    "print(\"end\")\n",
    "f.close()"
   ]
  },
  {
   "cell_type": "code",
   "execution_count": null,
   "metadata": {
    "collapsed": true
   },
   "outputs": [],
   "source": []
  },
  {
   "cell_type": "code",
   "execution_count": 35,
   "metadata": {},
   "outputs": [
    {
     "data": {
      "text/plain": [
       "'C:\\\\Users\\\\wyf\\\\Desktop\\\\project\\\\Capstone-Project-Mylan'"
      ]
     },
     "execution_count": 35,
     "metadata": {},
     "output_type": "execute_result"
    }
   ],
   "source": [
    "os.getcwd()"
   ]
  },
  {
   "cell_type": "code",
   "execution_count": null,
   "metadata": {
    "collapsed": true
   },
   "outputs": [],
   "source": []
  },
  {
   "cell_type": "code",
   "execution_count": null,
   "metadata": {
    "collapsed": true
   },
   "outputs": [],
   "source": []
  },
  {
   "cell_type": "code",
   "execution_count": null,
   "metadata": {
    "collapsed": true
   },
   "outputs": [],
   "source": []
  },
  {
   "cell_type": "code",
   "execution_count": null,
   "metadata": {
    "collapsed": true
   },
   "outputs": [],
   "source": []
  },
  {
   "cell_type": "code",
   "execution_count": null,
   "metadata": {
    "collapsed": true
   },
   "outputs": [],
   "source": []
  }
 ],
 "metadata": {
  "kernelspec": {
   "display_name": "Python 2",
   "language": "python",
   "name": "python2"
  },
  "language_info": {
   "codemirror_mode": {
    "name": "ipython",
    "version": 2
   },
   "file_extension": ".py",
   "mimetype": "text/x-python",
   "name": "python",
   "nbconvert_exporter": "python",
   "pygments_lexer": "ipython2",
   "version": "2.7.14"
  }
 },
 "nbformat": 4,
 "nbformat_minor": 1
}
