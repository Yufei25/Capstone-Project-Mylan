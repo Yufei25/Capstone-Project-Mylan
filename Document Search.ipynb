{
 "cells": [
  {
   "cell_type": "code",
   "execution_count": 57,
   "metadata": {
    "collapsed": true
   },
   "outputs": [],
   "source": [
    "from docx import Document\n",
    "import pandas as pd\n",
    "import os\n",
    "import re\n",
    "import csv"
   ]
  },
  {
   "cell_type": "code",
   "execution_count": 58,
   "metadata": {
    "collapsed": true
   },
   "outputs": [],
   "source": [
    "'''\n",
    "Set output file path\n",
    "'''\n",
    "########################################################################\n",
    "out_filepath = '/Users/yangyi/Documents/CMU-S18/capstone/untitled folder/'\n",
    "out_filename = 'Output_search.csv'\n",
    "out_path = out_filepath + out_filename\n",
    "########################################################################\n",
    "\n",
    "\n",
    "header = ['File Name', 'Keywords', 'Change of Control'] # Column names in output file \n",
    "\n",
    "'''\n",
    "Open the file  and set the header of columns in the output file\n",
    "'''\n",
    "with open (out_path, 'wb') as f:    \n",
    "    wr = csv.writer(f)\n",
    "    wr.writerow(header)\n"
   ]
  },
  {
   "cell_type": "code",
   "execution_count": 59,
   "metadata": {
    "collapsed": true
   },
   "outputs": [],
   "source": [
    "def contains_sliding_window(text, terms, win_len):\n",
    "    target_words = re.split('[\\s]', terms)\n",
    "    probe = target_words[0]\n",
    "    #print probe\n",
    "    \n",
    "    words = re.split('[\\s]', text)\n",
    "    flag = False\n",
    "    for i in range(len(words)):\n",
    "        word = words[i]\n",
    "        if word.lower() != probe:\n",
    "            continue\n",
    "        l_pointer = max(0,i - win_len)\n",
    "        r_pointer = min(len(words),i + win_len)\n",
    "        for target_word in target_words:\n",
    "            flag = False\n",
    "            for pointer in range(l_pointer, r_pointer):\n",
    "                if words[pointer] == target_word:\n",
    "                    flag = True\n",
    "            if not flag:\n",
    "                break\n",
    "        if flag:\n",
    "            #print True\n",
    "            return True\n",
    "    #print False\n",
    "    return False\n",
    "        "
   ]
  },
  {
   "cell_type": "code",
   "execution_count": 60,
   "metadata": {},
   "outputs": [],
   "source": [
    "#contains_sliding_window('hahahahah change of change jjj\\'jjj\\t control of change jjjj', 'change of of o f control', 3)"
   ]
  },
  {
   "cell_type": "code",
   "execution_count": 61,
   "metadata": {
    "collapsed": true
   },
   "outputs": [],
   "source": [
    "def get_bullet_pattern(text):\n",
    "    pattern = None\n",
    "    flag1 = re.match(\"\\([A-Z]+\\)\", paras[j].text[:40].lstrip())\n",
    "    flag2 = re.match(\"\\([a-z]+\\)\", paras[j].text[:40].lstrip())\n",
    "    flag3 = re.match(\"\\([0-9]+\\)\", paras[j].text[:40].lstrip())\n",
    "              \n",
    "    if flag1:\n",
    "        pattern = \"\\([A-Z]+\\)\"\n",
    "    elif flag2:\n",
    "        pattern = \"\\([a-z]+\\)\"\n",
    "    elif flag3:\n",
    "        pattern = \"\\([0-9]+\\)\"\n",
    "    else:\n",
    "        pattern = None\n",
    "    return pattern\n",
    "                                "
   ]
  },
  {
   "cell_type": "code",
   "execution_count": 62,
   "metadata": {},
   "outputs": [
    {
     "name": "stdout",
     "output_type": "stream",
     "text": [
      "Law Insider Contract 1oEdosIJEShqS79ujBWrpr.docx\n",
      "2004\n",
      "Law Insider Contract 39EVgZSlGahp2hBqZP8iXh.docx\n",
      "3202\n",
      "Law Insider Contract 5bhKmzEzgSf1XDXqsjd8wD.docx\n",
      "1265\n",
      "Law Insider Contract 6TabeU9bZWiWnaGtnjt8t6.docx\n",
      "2199\n",
      "Law Insider Contract rwfrbXnWOknr8FTAFaGzd.docx\n",
      "48\n",
      "Law Insider Contract z8Pmm0xF8ppq74uAwl83W.docx\n",
      "313\n"
     ]
    }
   ],
   "source": [
    "   \n",
    "'''\n",
    "Open the output file in append mode and pull related language from the files in the input folder\n",
    "'''\n",
    "with open(out_path, 'ab') as f:\n",
    "    \n",
    "    # Input folder path\n",
    "    directory_path = '/Users/yangyi/Documents/CMU-S18/capstone/untitled folder/Input Search files' \n",
    "    \n",
    "    # Parse through each file in the input folder path\n",
    "    for files in os.listdir(directory_path):\n",
    "        print files\n",
    "        \n",
    "        # Create a Document object of each of the files\n",
    "        document = Document(directory_path + \"/\" +files)\n",
    "        \n",
    "        # A list to add all the paragraphs in the document\n",
    "        paras = []\n",
    "        \n",
    "        '''\n",
    "        The following for loop is used to add all the paragraphs in the document to the paras list object\n",
    "        '''\n",
    "        for p in document.paragraphs:        \n",
    "            paras.append(p)\n",
    "            \n",
    "        paras_number = len(paras) # Find the number of paragraphs in the document\n",
    "        print paras_number\n",
    "        \n",
    "        paras_toPrint = [] # A list to add all the paragraphs relevant to 'Change of Control' language in this case\n",
    "        \n",
    "        for p in paras:    # Traversing through each of the paragraphs\n",
    "            \n",
    "            '''\n",
    "            Assumption made : If length of the paragraph is less than 300 characters, it is probably the heading.\n",
    "            I considered 300 characters, because I saw instances with a lot of whitespace characters before the characters \n",
    "            in heading.\n",
    "            For Example:\n",
    "            \n",
    "            ....Law”, regardless of the date enacted, adopted or issued.\n",
    "            \n",
    "                            “Change of Control” means an event or series of events by which:\n",
    "            (a)any “person” or “group” (as such terms are used in Sections 13(d) and 14(d) \n",
    "            of the Exchange Act, but excluding any employee benefit plan of such person or its \n",
    "            subsidiaries, and any person or entity acting in its capacity as trustee, agent or other fiduciary \n",
    "            or administrator of any such plan and any Initial Shareholder) becomes \n",
    "\n",
    "            \n",
    "            '''\n",
    "            \n",
    "            if len(p.text) < 300: # Considering that this paragraph just pulls the heading\n",
    "                #if contains_sliding_window(p.text[:100].lower(), 'change control', 3):\n",
    "                if 'change of control' in p.text[:100].lower():\n",
    "                #    considering Change of control is in the first 100 character of the heading\n",
    "\n",
    "                    paras_toPrint.append(p) # Add the para in the paras_toPrint list\n",
    "                    \n",
    "                    \n",
    "                    for j in range((paras.index(p) + 1), paras_number): \n",
    "                        # Loop from the paragraph after the heading containing 'Change of Control' to the last paragraph \n",
    "                        \n",
    "                        if len(paras[j].text) < 10: # Ignore blank paragraphs as well as paragraphs containing page numbers and such\n",
    "                            # print paras[j].text\n",
    "                            continue\n",
    "                        else:\n",
    "\n",
    "                            match_flag = re.match(\"\\([A-Za-z0-9]+\\)\",paras[j].text[:40].lstrip())\n",
    "                            \n",
    "                            if match_flag:                                 \n",
    "                                paras_toPrint.append(paras[j])\n",
    "                            else:\n",
    "                                break        \n",
    "            else: # Considering that this paragraph is not a heading\n",
    "                #if contains_sliding_window(p.text.lower(), 'change control', 3):\n",
    "                if 'change of control' in p.text.lower(): # Append to the list if change of control is in the list\n",
    "                    paras_toPrint.append(p)\n",
    "        wr = csv.writer(f)\n",
    "        \n",
    "        # Created a single list of all instances of 'Change of Control'\n",
    "        # Ignored unrecognized ascii characters that throw an encoding error. Need improvement\n",
    "        text =  [paras.text.encode('ascii','ignore') for paras in paras_toPrint]\n",
    "        res = \"\".join(text)\n",
    "        \n",
    "        # write to file\n",
    "        wr.writerow([files, 'Change of Control', res])\n",
    "f.close()"
   ]
  },
  {
   "cell_type": "code",
   "execution_count": null,
   "metadata": {
    "collapsed": true
   },
   "outputs": [],
   "source": []
  },
  {
   "cell_type": "code",
   "execution_count": null,
   "metadata": {
    "collapsed": true
   },
   "outputs": [],
   "source": []
  }
 ],
 "metadata": {
  "kernelspec": {
   "display_name": "Python 2",
   "language": "python",
   "name": "python2"
  },
  "language_info": {
   "codemirror_mode": {
    "name": "ipython",
    "version": 2
   },
   "file_extension": ".py",
   "mimetype": "text/x-python",
   "name": "python",
   "nbconvert_exporter": "python",
   "pygments_lexer": "ipython2",
   "version": "2.7.14"
  }
 },
 "nbformat": 4,
 "nbformat_minor": 1
}
