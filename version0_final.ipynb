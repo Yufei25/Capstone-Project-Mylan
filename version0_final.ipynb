{
 "cells": [
  {
   "cell_type": "code",
   "execution_count": 1,
   "metadata": {
    "collapsed": true
   },
   "outputs": [],
   "source": [
    "from docx import Document\n",
    "import pandas as pd\n",
    "import os\n",
    "import re\n",
    "import csv"
   ]
  },
  {
   "cell_type": "code",
   "execution_count": 71,
   "metadata": {
    "collapsed": true
   },
   "outputs": [],
   "source": [
    "# Yufei\n",
    "def indent(paras):\n",
    "    return paras.paragraph_format.first_line_indent"
   ]
  },
  {
   "cell_type": "markdown",
   "metadata": {},
   "source": [
    "### indent() Example\n",
    "&nbsp;&nbsp;&nbsp;&nbsp;&nbsp;&nbsp; Change of control means that (a) any Person or group (within the meaning of Rule13d-5 of the SEC under the Exchange Act) shall become the Beneficial Owner of 20% or more of the Voting Equity Interests of the Borrower, or (b) a majority of the members of the Board of Directors of the Borrower shall cease to be Continuing Members.\n",
    "\n",
    "&nbsp;&nbsp;&nbsp;&nbsp;&nbsp;&nbsp; Code shall mean the Internal Revenue Code of 1986, as the same may be amended or supplemented from time to time, and any successor statute of similar import, and the rules and regulations thereunder, as from time to time in effect."
   ]
  },
  {
   "cell_type": "code",
   "execution_count": 72,
   "metadata": {
    "collapsed": true
   },
   "outputs": [],
   "source": [
    "# Yufei\n",
    "def is_indent(paras, indent):\n",
    "    if paras.paragraph_format.first_line_indent == indent:\n",
    "        return True\n",
    "    else:\n",
    "        return False"
   ]
  },
  {
   "cell_type": "markdown",
   "metadata": {},
   "source": [
    "### indent() Example\n",
    "&nbsp;&nbsp;&nbsp;&nbsp;&nbsp;&nbsp; Change of control means that (a) any Person or group (within the meaning of Rule13d-5 of the SEC under the Exchange Act) shall become the Beneficial Owner of 20% or more of the Voting Equity Interests of the Borrower, or (b) a majority of the members of the Board of Directors of the Borrower shall cease to be Continuing Members."
   ]
  },
  {
   "cell_type": "code",
   "execution_count": 73,
   "metadata": {
    "collapsed": true
   },
   "outputs": [],
   "source": [
    "# Alan\n",
    "# paras: list of paragraph\n",
    "# start: index of the paragraph containes the keywords\n",
    "def isListPara(para):\n",
    "    paraFormat = para.style.name\n",
    "    if paraFormat == 'List Paragraph':\n",
    "        return True\n",
    "    return False"
   ]
  },
  {
   "cell_type": "markdown",
   "metadata": {},
   "source": [
    "### isListPara() Example\n",
    "Change of control means that \n",
    "1. any Person or group (within the meaning of Rule13d-5 of the SEC under the Exchange Act) shall become the Beneficial Owner of 20% or more of the Voting Equity Interests of the Borrower, or \n",
    "2. a majority of the members of the Board of Directors of the Borrower shall cease to be Continuing Members."
   ]
  },
  {
   "cell_type": "code",
   "execution_count": 74,
   "metadata": {
    "collapsed": true
   },
   "outputs": [],
   "source": [
    "def isNormalFollowingListPara(paras, start):\n",
    "    targetFormat = paras[start].style.name\n",
    "    nextFormat = paras[start+1].style.name\n",
    "    if nextFormat == 'List Paragraph' and targetFormat == 'Normal':\n",
    "        return True\n",
    "    return False"
   ]
  },
  {
   "cell_type": "code",
   "execution_count": 127,
   "metadata": {
    "collapsed": true
   },
   "outputs": [],
   "source": [
    "# Zheng\n",
    "def bold(p):\n",
    "    paras_toPrint = []\n",
    "    for run in p.runs:\n",
    "        if run.bold:\n",
    "            print run.text,'bold'\n",
    "            paras_toPrint.append(run.text)              \n",
    "    if len(paras_toPrint) == 0:\n",
    "        return False\n",
    "    else:\n",
    "        return True"
   ]
  },
  {
   "cell_type": "markdown",
   "metadata": {},
   "source": [
    "### bold() Example\n",
    "**Change of control** means that (a) any Person or group (within the meaning of Rule13d-5 of the SEC under the Exchange Act) shall become the Beneficial Owner of 20% or more of the Voting Equity Interests of the Borrower, or (b) a majority of the members of the Board of Directors of the Borrower shall cease to be Continuing Members.\n",
    "\n",
    "**Code** shall mean the Internal Revenue Code of 1986, as the same may be amended or supplemented from time to time, and any successor statute of similar import, and the rules and regulations thereunder, as from time to time in effect."
   ]
  },
  {
   "cell_type": "code",
   "execution_count": 131,
   "metadata": {
    "collapsed": true
   },
   "outputs": [],
   "source": [
    "# Zheng\n",
    "def is_bold(p, keywords):\n",
    "    paras_toPrint = []\n",
    "    if keyword in p.text.lower(): \n",
    "        for run in p.runs:\n",
    "            if run.bold:\n",
    "                print run.text,'bold'\n",
    "                paras_toPrint.append(run.text)           \n",
    "    if len(paras_toPrint) == 0:\n",
    "        return False\n",
    "    else:\n",
    "        return True"
   ]
  },
  {
   "cell_type": "markdown",
   "metadata": {},
   "source": [
    "### is_bold() Example\n",
    "**Change of control** means that (a) any Person or group (within the meaning of Rule13d-5 of the SEC under the Exchange Act) shall become the Beneficial Owner of 20% or more of the Voting Equity Interests of the Borrower, or (b) a majority of the members of the Board of Directors of the Borrower shall cease to be Continuing Members."
   ]
  },
  {
   "cell_type": "code",
   "execution_count": 132,
   "metadata": {
    "collapsed": true
   },
   "outputs": [],
   "source": [
    "# Zheng\n",
    "def italic(p):\n",
    "    paras_toPrint = []\n",
    "    for run in p.runs:\n",
    "        if run.italic:\n",
    "            print run.text,'italic'\n",
    "            paras_toPrint.append(run.text)\n",
    "        return False\n",
    "    else:\n",
    "        return True  "
   ]
  },
  {
   "cell_type": "markdown",
   "metadata": {},
   "source": [
    "### italic() Example\n",
    "_Change of control_ means that (a) any Person or group (within the meaning of Rule13d-5 of the SEC under the Exchange Act) shall become the Beneficial Owner of 20% or more of the Voting Equity Interests of the Borrower, or (b) a majority of the members of the Board of Directors of the Borrower shall cease to be Continuing Members.\n",
    "\n",
    "_Code_ shall mean the Internal Revenue Code of 1986, as the same may be amended or supplemented from time to time, and any successor statute of similar import, and the rules and regulations thereunder, as from time to time in effect."
   ]
  },
  {
   "cell_type": "code",
   "execution_count": 133,
   "metadata": {
    "collapsed": true
   },
   "outputs": [],
   "source": [
    "# Zheng\n",
    "def is_italic(p, keywords):\n",
    "    paras_toPrint = []\n",
    "    if keyword in p.text.lower():\n",
    "        for run in p.runs:\n",
    "            if run.italic:\n",
    "                print run.text,'italic'\n",
    "                paras_toPrint.append(run.text)           \n",
    "    if len(paras_toPrint) == 0:\n",
    "        return False\n",
    "    else:\n",
    "        return True"
   ]
  },
  {
   "cell_type": "markdown",
   "metadata": {},
   "source": [
    "### italic() Example\n",
    "_Change of control_ means that (a) any Person or group (within the meaning of Rule13d-5 of the SEC under the Exchange Act) shall become the Beneficial Owner of 20% or more of the Voting Equity Interests of the Borrower, or (b) a majority of the members of the Board of Directors of the Borrower shall cease to be Continuing Members.\n"
   ]
  },
  {
   "cell_type": "code",
   "execution_count": 134,
   "metadata": {
    "collapsed": true
   },
   "outputs": [],
   "source": [
    "# Zheng\n",
    "def underline(p):\n",
    "    paras_toPrint = []\n",
    "    for run in p.runs:\n",
    "        if run.underline:\n",
    "            print run.text,'underline'\n",
    "            paras_toPrint.append(run.text)\n",
    "        return False\n",
    "    else:\n",
    "        return True "
   ]
  },
  {
   "cell_type": "markdown",
   "metadata": {},
   "source": [
    "### underline() Example\n",
    "Change of control means that (a) any Person or group (within the meaning of Rule13d-5 of the SEC under the Exchange Act) shall become the Beneficial Owner of 20% or more of the Voting Equity Interests of the Borrower, or (b) a majority of the members of the Board of Directors of the Borrower shall cease to be Continuing Members.\n",
    "\n",
    "Code shall mean the Internal Revenue Code of 1986, as the same may be amended or supplemented from time to time, and any successor statute of similar import, and the rules and regulations thereunder, as from time to time in effect."
   ]
  },
  {
   "cell_type": "code",
   "execution_count": 135,
   "metadata": {
    "collapsed": true
   },
   "outputs": [],
   "source": [
    "# Zheng\n",
    "def is_underline(p, keywords):\n",
    "    paras_toPrint = []\n",
    "    if keyword in p.text.lower():\n",
    "        for run in p.runs:\n",
    "            if run.underline:\n",
    "                print run.text,'underline'\n",
    "                paras_toPrint.append(run.text)           \n",
    "    if len(paras_toPrint) == 0:\n",
    "        return False\n",
    "    else:\n",
    "        return True"
   ]
  },
  {
   "cell_type": "markdown",
   "metadata": {},
   "source": [
    "### is_underline() Example\n",
    "Change of control means that (a) any Person or group (within the meaning of Rule13d-5 of the SEC under the Exchange Act) shall become the Beneficial Owner of 20% or more of the Voting Equity Interests of the Borrower, or (b) a majority of the members of the Board of Directors of the Borrower shall cease to be Continuing Members."
   ]
  },
  {
   "cell_type": "code",
   "execution_count": 136,
   "metadata": {
    "collapsed": true
   },
   "outputs": [],
   "source": [
    "# Zoe\n",
    "def double_quotes(paragraph):\n",
    "    \"\"\"\n",
    "        Find if paragraph starts with double quotes\n",
    "        \n",
    "        return: True or False\n",
    "    \"\"\"\n",
    "    words = re.findall(r'(\\\".+?\\\")', paragraph.text)\n",
    "    if not words:\n",
    "        return False\n",
    "    if paragraph.text.startswith(words[0]):\n",
    "        return True       \n",
    "    else:\n",
    "        return False"
   ]
  },
  {
   "cell_type": "markdown",
   "metadata": {},
   "source": [
    "### double_quotes() Example:\n",
    "\"Change of control\" means that (a) any Person or group (within the meaning of Rule13d-5 of the SEC under the Exchange Act) shall become the Beneficial Owner of 20% or more of the Voting Equity Interests of the Borrower, or (b) a majority of the members of the Board of Directors of the Borrower shall cease to be Continuing Members.\n",
    "\n",
    "\"Code\" shall mean the Internal Revenue Code of 1986, as the same may be amended or supplemented from time to time, and any successor statute of similar import, and the rules and regulations thereunder, as from time to time in effect.\n"
   ]
  },
  {
   "cell_type": "code",
   "execution_count": 137,
   "metadata": {
    "collapsed": true
   },
   "outputs": [],
   "source": [
    "# Zoe\n",
    "def is_double_quotes(paragraph, keyword):\n",
    "    words = re.findall(r'\\\"(.+?)\\\"', paragraph.text)\n",
    "    if not words:\n",
    "        return False\n",
    "    if paragraph.text.startswith(\"\\\"\" + words[0] + \"\\\"\") and words[0].lower() == keyword.lower():\n",
    "        return True       \n",
    "    else:\n",
    "        return False"
   ]
  },
  {
   "cell_type": "markdown",
   "metadata": {},
   "source": [
    "### is_double_quotes() Example:\n",
    "\"Change of control\" means that (a) any Person or group (within the meaning of Rule13d-5 of the SEC under the Exchange Act) shall become the Beneficial Owner of 20% or more of the Voting Equity Interests of the Borrower, or (b) a majority of the members of the Board of Directors of the Borrower shall cease to be Continuing Members."
   ]
  },
  {
   "cell_type": "code",
   "execution_count": 138,
   "metadata": {
    "collapsed": true
   },
   "outputs": [],
   "source": [
    "# Zoe\n",
    "def single_quotes(paragraph):\n",
    "    words = re.findall(r'(\\'.+?\\')\\s',paragraph.text)\n",
    "    if not words:\n",
    "        return False\n",
    "    if paragraph.text.startswith(words[0]):\n",
    "        return True\n",
    "    else:\n",
    "        return False"
   ]
  },
  {
   "cell_type": "markdown",
   "metadata": {},
   "source": [
    "### single_quotes() Example:\n",
    "'Change of control' means that (a) any Person or group (within the meaning of Rule13d-5 of the SEC under the Exchange Act) shall become the Beneficial Owner of 20% or more of the Voting Equity Interests of the Borrower, or (b) a majority of the members of the Board of Directors of the Borrower shall cease to be Continuing Members.\n",
    "\n",
    "'Code' shall mean the Internal Revenue Code of 1986, as the same may be amended or supplemented from time to time, and any successor statute of similar import, and the rules and regulations thereunder, as from time to time in effect.\n"
   ]
  },
  {
   "cell_type": "code",
   "execution_count": 139,
   "metadata": {
    "collapsed": true
   },
   "outputs": [],
   "source": [
    "# Zoe\n",
    "def is_single_quotes(paragraph, keyword):\n",
    "    words = re.findall(r'\\'(.+?)\\'\\s',paragraph.text)\n",
    "    if not words:\n",
    "        return False\n",
    "    if paragraph.text.startswith(\"\\'\"+ words[0] + \"\\'\") and words[0].lower() == keyword.lower():\n",
    "        return True\n",
    "    else:\n",
    "        return False"
   ]
  },
  {
   "cell_type": "markdown",
   "metadata": {},
   "source": [
    "### is_single_quotes() Example:\n",
    "'Change of control' means that (a) any Person or group (within the meaning of Rule13d-5 of the SEC under the Exchange Act) shall become the Beneficial Owner of 20% or more of the Voting Equity Interests of the Borrower, or (b) a majority of the members of the Board of Directors of the Borrower shall cease to be Continuing Members.\n"
   ]
  },
  {
   "cell_type": "code",
   "execution_count": 140,
   "metadata": {
    "collapsed": true
   },
   "outputs": [],
   "source": [
    "# Zoe\n",
    "def upper_case(paragraph):\n",
    "    words = re.findall(r'([A-Z]+?)\\s',paragraph.text)\n",
    "    if not words:\n",
    "        return False\n",
    "    if paragraph.text.startswith(words[0]):\n",
    "        return True\n",
    "    else:\n",
    "        return False"
   ]
  },
  {
   "cell_type": "markdown",
   "metadata": {},
   "source": [
    "### upper_case() Example:\n",
    "Change of Control means that (a) any Person or group (within the meaning of Rule13d-5 of the SEC under the Exchange Act) shall become the Beneficial Owner of 20% or more of the Voting Equity Interests of the Borrower, or (b) a majority of the members of the Board of Directors of the Borrower shall cease to be Continuing Members.\n",
    "\n",
    "Code shall mean the Internal Revenue Code of 1986, as the same may be amended or supplemented from time to time, and any successor statute of similar import, and the rules and regulations thereunder, as from time to time in effect.\n"
   ]
  },
  {
   "cell_type": "code",
   "execution_count": 141,
   "metadata": {
    "collapsed": true
   },
   "outputs": [],
   "source": [
    "# Zoe\n",
    "def is_upper_case(paragraph, keyword):\n",
    "    words = re.findall(r'([A-Z]+?)\\s',paragraph.text)\n",
    "    if not words:\n",
    "        return False\n",
    "    if paragraph.text.startswith(words[0]) and words[0].lower() == keyword.lower():\n",
    "        return True\n",
    "    else:\n",
    "        return False"
   ]
  },
  {
   "cell_type": "markdown",
   "metadata": {},
   "source": [
    "### is_upper_case() Example:\n",
    "Code shall mean the Internal Revenue Code of 1986, as the same may be amended or supplemented from time to time, and any successor statute of similar import, and the rules and regulations thereunder, as from time to time in effect.\n"
   ]
  },
  {
   "cell_type": "code",
   "execution_count": 87,
   "metadata": {
    "collapsed": true
   },
   "outputs": [],
   "source": [
    "# Zoe\n",
    "from nltk.corpus import stopwords\n",
    "def remove_stopwords(keyword):\n",
    "    \n",
    "    \"\"\"\n",
    "        Remove the stopwords such as articles, prep and so on from keywords\n",
    "        \n",
    "    \"\"\"\n",
    "    \n",
    "    word_list = re.split(r'\\s',keyword)\n",
    "    filtered_words = [word for word in word_list if word not in stopwords.words('english')]\n",
    "    words = \" \".join(filtered_words)\n",
    "    return words"
   ]
  },
  {
   "cell_type": "code",
   "execution_count": 88,
   "metadata": {},
   "outputs": [
    {
     "name": "stdout",
     "output_type": "stream",
     "text": [
      "Change Control\n"
     ]
    }
   ],
   "source": [
    "keyword = \"Change of Control\"\n",
    "print remove_stopwords(keyword)"
   ]
  },
  {
   "cell_type": "code",
   "execution_count": 105,
   "metadata": {
    "collapsed": true
   },
   "outputs": [],
   "source": [
    "# Zoe\n",
    "def upper_camel_case(paragraph):\n",
    "    words_list = re.split(\" \", paragraph.text)\n",
    "    new_paragraph = remove_stopwords(paragraph.text)\n",
    "    new_paragraph_list = re.split(\" \", new_paragraph)\n",
    "    new_words_list = re.findall(r'([A-Z][a-z0-9\\']+)[^A-Z]?\\s', new_paragraph)\n",
    "    last_word = \"\"\n",
    "    for i in range(len(new_words_list)):\n",
    "        if new_words_list[i] == new_paragraph_list[i]:\n",
    "            last_word = new_words_list[i]\n",
    "        else:\n",
    "            break\n",
    "    result = []\n",
    "    for j in range(len(words_list)):\n",
    "        if last_word == words_list[j]:\n",
    "            result.append(last_word)\n",
    "            break\n",
    "        else:\n",
    "            result.append(words_list[j])\n",
    "    if len(result) > 1:\n",
    "        return True\n",
    "    else:\n",
    "        return False"
   ]
  },
  {
   "cell_type": "markdown",
   "metadata": {},
   "source": [
    "### upper_camel_case() Example:\n",
    "Capitalized Lease Obligations means, with respect to any Person, all outstanding obligations of such Person in respect of Capital Leases, taken at the capitalized amount thereof accounted for as indebtedness in accordance with GAAP.\n",
    "\n",
    "Change in Law shall mean the occurrence, after the date of this Agreement, of any of the following: (a) the adoption or taking effect of any Law, (b) any change in any Law or in the administration, interpretation or application thereof by any Official Body or (c) the making or issuance of any request, guideline or directive (whether or not having the force of Law) by any Official Body.\n",
    "\n",
    "Change of Control means that (a) any Person or group (within the meaning of Rule13d-5 of the SEC under the Exchange Act) shall become the Beneficial Owner of 20% or more of the Voting Equity Interests of the Borrower, or (b) a majority of the members of the Board of Directors of the Borrower shall cease to be Continuing Members.\n",
    "\n",
    "Code shall mean the Internal Revenue Code of 1986, as the same may be amended or supplemented from time to time, and any successor statute of similar import, and the rules and regulations thereunder, as from time to time in effect."
   ]
  },
  {
   "cell_type": "code",
   "execution_count": 107,
   "metadata": {
    "collapsed": true
   },
   "outputs": [],
   "source": [
    "# Zoe\n",
    "def is_upper_camel_case(paragraph, keyword):\n",
    "    words_list = re.split(\" \", paragraph.text)\n",
    "    new_paragraph = remove_stopwords(paragraph.text)\n",
    "    new_paragraph_list = re.split(\" \", new_paragraph)\n",
    "    new_words_list = re.findall(r'([A-Z][a-z0-9\\']+)[^A-Z]?\\s', new_paragraph)\n",
    "    last_word = \"\"\n",
    "    for i in range(len(new_words_list)):\n",
    "        if new_words_list[i] == new_paragraph_list[i]:\n",
    "            string.append(new_words_list[i])\n",
    "            last_word = new_words_list[i]\n",
    "        else:\n",
    "            break\n",
    "    result = []\n",
    "    for j in range(len(words_list)):\n",
    "        if last_word == words_list[j]:\n",
    "            result.append(last_word)\n",
    "            break\n",
    "        else:\n",
    "            result.append(words_list[j])\n",
    "    results = \" \".join(result)\n",
    "    if results.lower() == keyword:\n",
    "        return True\n",
    "    else:\n",
    "        return False"
   ]
  },
  {
   "cell_type": "markdown",
   "metadata": {},
   "source": [
    "### is_upper_camel_case() Example:\n",
    "Change of Control means that (a) any Person or group (within the meaning of Rule13d-5 of the SEC under the Exchange Act) shall become the Beneficial Owner of 20% or more of the Voting Equity Interests of the Borrower, or (b) a majority of the members of the Board of Directors of the Borrower shall cease to be Continuing Members.\n"
   ]
  },
  {
   "cell_type": "code",
   "execution_count": 91,
   "metadata": {
    "collapsed": true
   },
   "outputs": [],
   "source": [
    "# Eden\n",
    "def contains_sliding_window(text, terms, win_len):\n",
    "    target_words = re.split('[\\s]', terms)\n",
    "    probe = target_words[0]\n",
    "    #print probe\n",
    "    \n",
    "    words = re.split('[\\s]', text)\n",
    "    flag = False\n",
    "    for i in range(len(words)):\n",
    "        word = words[i]\n",
    "        if word.lower() != probe:\n",
    "            continue\n",
    "        l_pointer = max(0,i - win_len)\n",
    "        r_pointer = min(len(words),i + win_len)\n",
    "        for target_word in target_words:\n",
    "            flag = False\n",
    "            for pointer in range(l_pointer, r_pointer):\n",
    "                if words[pointer] == target_word:\n",
    "                    flag = True\n",
    "            if not flag:\n",
    "                break\n",
    "        if flag:\n",
    "            #print True\n",
    "            return True\n",
    "    #print False\n",
    "    return False"
   ]
  },
  {
   "cell_type": "code",
   "execution_count": 95,
   "metadata": {
    "collapsed": true
   },
   "outputs": [],
   "source": [
    "# Eden\n",
    "def bullet_pattern(paras):\n",
    "    pattern = None\n",
    "    flag1 = re.match(\"\\([A-Z]+\\)\", paras.text[:40].lstrip())\n",
    "    flag2 = re.match(\"\\([a-z]+\\)\", paras.text[:40].lstrip())\n",
    "    flag3 = re.match(\"\\([0-9]+\\)\", paras.text[:40].lstrip())\n",
    "              \n",
    "    if flag1:\n",
    "        pattern = \"\\([A-Z]+\\)\"\n",
    "    elif flag2:\n",
    "        pattern = \"\\([a-z]+\\)\"\n",
    "    elif flag3:\n",
    "        pattern = \"\\([0-9]+\\)\"\n",
    "    else:\n",
    "        pattern = None\n",
    "    return pattern"
   ]
  },
  {
   "cell_type": "markdown",
   "metadata": {},
   "source": [
    "### bullet_pattern() Example\n",
    "Change of control means that \n",
    "* any Person or group (within the meaning of Rule13d-5 of the SEC under the Exchange Act) shall become the Beneficial Owner of 20% or more of the Voting Equity Interests of the Borrower, or \n",
    "* a majority of the members of the Board of Directors of the Borrower shall cease to be Continuing Members."
   ]
  },
  {
   "cell_type": "code",
   "execution_count": 96,
   "metadata": {},
   "outputs": [],
   "source": [
    "# Eden\n",
    "def is_bullet_pattern(paras, pattern):\n",
    "    if not pattern:\n",
    "        return True\n",
    "    \n",
    "    if re.match(pattern, paras.text[:40].lstrip()):\n",
    "        return True\n",
    "    else:\n",
    "        return False"
   ]
  },
  {
   "cell_type": "code",
   "execution_count": 97,
   "metadata": {
    "collapsed": true
   },
   "outputs": [],
   "source": [
    "# Yufei\n",
    "def search(paras, keyword):\n",
    "    index = []\n",
    "    i = 0\n",
    "    while (i<len(paras)):\n",
    "    #for p in paras:    # Traversing through each of the paragraphs\n",
    "        p = paras[i]\n",
    "        if keyword.lower() in p.text.lower():\n",
    "            index.append(i)\n",
    "        i = i+1\n",
    "    return index"
   ]
  },
  {
   "cell_type": "code",
   "execution_count": 98,
   "metadata": {
    "collapsed": true
   },
   "outputs": [],
   "source": [
    "# Yufei\n",
    "def find_patterns(paras, index, keyword):\n",
    "    paragraph = paras[index]\n",
    "    patterns = []\n",
    "    patterns.append(is_bold(paragraph, keyword))\n",
    "    patterns.append(is_italic(paragraph, keyword))\n",
    "    patterns.append(is_underline(paragraph, keyword))\n",
    "    patterns.append(is_double_quotes(paragraph, keyword))\n",
    "    patterns.append(is_single_quotes(paragraph, keyword))\n",
    "    patterns.append(is_upper_case(paragraph, keyword))\n",
    "    patterns.append(is_upper_camel_case(paragraph, keyword))\n",
    "    patterns.append(indent(paragraph))\n",
    "    patterns.append(isListPara(paragraph))\n",
    "    patterns.append(isNormalFollowingListPara(paras, index))\n",
    "    return patterns"
   ]
  },
  {
   "cell_type": "code",
   "execution_count": 129,
   "metadata": {},
   "outputs": [],
   "source": [
    "# Yufei\n",
    "# pattern : [bold, italic, underline, double_quotes, single_quotes, upper case, camel upper case, indent]\n",
    "# indent is a number, others are bool\n",
    "def match(paras, targetPatterns, startIndex):\n",
    "    print(\"match\")\n",
    "    i = startIndex\n",
    "    result = []\n",
    "    patterns = []\n",
    "    while (i<len(paras)):\n",
    "        #print(i)\n",
    "        p = paras[i]\n",
    "        #result = []\n",
    "\n",
    "        patterns.append(bold(p))\n",
    "        patterns.append(italic(p))\n",
    "        patterns.append(underline(p))\n",
    "        patterns.append(double_quotes(p))\n",
    "        patterns.append(single_quotes(p))\n",
    "        patterns.append(upper_case(p))\n",
    "        patterns.append(upper_camel_case(p))\n",
    "        patterns.append(indent(p))\n",
    "        patterns.append(isListPara(p))\n",
    "        patterns.append(isNormalFollowingListPara(paras, index))\n",
    "        \n",
    "        \n",
    "        if patterns == targetPatterns:\n",
    "            break\n",
    "        i = i + 1\n",
    "    for x in range(startIndex, i):\n",
    "        result.append(paras[x])\n",
    "    print(\"match end\")\n",
    "    return result"
   ]
  },
  {
   "cell_type": "code",
   "execution_count": 142,
   "metadata": {},
   "outputs": [
    {
     "name": "stdout",
     "output_type": "stream",
     "text": [
      "[]\n",
      "[194, 204, 1456]\n",
      "match\n",
      "1.02. bold\n",
      "Other Interpretive Provisions bold\n",
      "1.03. bold\n",
      "Accounting Terms bold\n",
      "1.04. bold\n",
      "Rounding bold\n",
      "1.05. bold\n",
      "Times of Day; Rates bold\n",
      "1.06. bold\n",
      "Letter of Credit Amounts bold\n",
      "ARTICLE II. bold\n",
      " THE COMMITMENTS AND CREDIT EXTENSIONS bold\n",
      "2.01. bold\n",
      "The Loans. bold\n",
      "2.02. bold\n",
      "Borrowings, Conversions and Continuations of Loans. bold\n",
      "2.03. bold\n",
      "Letters of Credit bold\n",
      "2.04. bold\n",
      "Swing Line Loans bold\n",
      "Section 2.04(c)(i) underline\n",
      "2.05. bold\n",
      "Prepayments bold\n",
      "2.06. bold\n",
      "Termination or Reduction of the Aggregate Commitments bold\n",
      "2.07. bold\n",
      "Repayment of Loans bold\n",
      "2.08. bold\n",
      "Interest bold\n",
      "2.09. bold\n",
      "Fees bold\n",
      "2.10. bold\n",
      "Computation of Interest and Fees; Retroactive Adjustments of Applicable Rate. bold\n",
      "2.11. bold\n",
      "Evidence of Debt bold\n",
      "2.12. bold\n",
      "Payments Generally; the Administrative Agent’s Clawback bold\n",
      "2.13. bold\n",
      "Sharing of Payments bold\n",
      "2.14. bold\n",
      "Accordion Advances. bold\n",
      "Accession underline\n",
      "2.15. bold\n",
      "Cash Collateral. bold\n",
      "2.16. bold\n",
      "Defaulting Lenders. bold\n",
      "ARTICLE III. bold\n",
      " TAXES, YIELD PROTECTION AND ILLEGALITY bold\n",
      "3.01. bold\n",
      "Taxes bold\n",
      "3.02. bold\n",
      "Illegality bold\n",
      "3.03. bold\n",
      "Inability to Determine Rates bold\n",
      ",  bold\n",
      "3.04. bold\n",
      "Increased Costs; Reserves on LIBOR Rate Loans bold\n",
      "3.05. bold\n",
      "Compensation for Losses bold\n",
      "3.06. bold\n",
      "Mitigation Obligations; Replacement of Lenders bold\n",
      "3.07. bold\n",
      "Survival bold\n",
      "ARTICLE IV. bold\n",
      " CONDITIONS PRECEDENT TO CREDIT EXTENSIONS bold\n",
      "4.01. bold\n",
      "Conditions of Initial Credit Extension bold\n",
      ", bold\n",
      "4.02. bold\n",
      "Conditions to all Credit Extensions bold\n",
      "ARTICLE V. bold\n",
      " REPRESENTATIONS AND WARRANTIES bold\n",
      "5.01. bold\n",
      "Existence, Qualification and Power; Compliance with Laws bold\n",
      "5.02. bold\n",
      "Authorization; No Contravention.  bold\n",
      "5.03. bold\n",
      "Governmental Authorization; Other Consents bold\n",
      "5.04. bold\n",
      "Binding Effect bold\n",
      "5.05. bold\n",
      "Financial Statements; No Material Adverse Effect bold\n",
      "5.06. bold\n",
      "Litigation bold\n",
      "5.07. bold\n",
      "No Default bold\n",
      "5.08. bold\n",
      "Ownership of Property; Liens bold\n",
      "5.09. bold\n",
      "Environmental Compliance bold\n",
      "5.10. bold\n",
      "Insurance bold\n",
      "5.11. bold\n",
      "Taxes bold\n",
      "5.12. bold\n",
      "ERISA Compliance bold\n",
      "5.13. bold\n",
      "Subsidiaries bold\n",
      "5.14. bold\n",
      "Margin Regulations; Investment Company Act; Public Utility Holding Company Act bold\n",
      "5.15. bold\n",
      "Disclosure bold\n",
      "5.16. bold\n",
      "Compliance with Laws bold\n",
      "5.17. bold\n",
      "Intellectual Property; Licenses, Etc bold\n",
      "5.18. bold\n",
      "Rights in Collateral; Priority of Liens bold\n",
      "5.19. bold\n",
      "Permits and Licenses  bold\n",
      "5.20. bold\n",
      "Certain Transactions bold\n",
      "5.21. bold\n",
      "Taxpayer Identification Number bold\n",
      "5.22. bold\n",
      "Solvency. bold\n",
      "5.23. bold\n",
      "Labor Matters. bold\n",
      "5.24. bold\n",
      "OFAC; Sanctions. bold\n",
      "5.25. bold\n",
      "Anti-Corruption Laws bold\n",
      "5.26. bold\n",
      "Casualty, Etc. bold\n",
      "5.27. bold\n",
      "True Copies of Organization Documents. bold\n",
      "5.28. bold\n",
      "Subordinated Debt. bold\n",
      "5.29. bold\n",
      "EEA Financial Institution. bold\n",
      "ARTICLE VI. bold\n",
      " AFFIRMATIVE COVENANTS bold\n",
      "6.01. bold\n",
      "Financial Statements bold\n",
      "6.02. bold\n",
      "Certificates; Other Information bold\n",
      "6.03. bold\n",
      "Notices bold\n",
      "6.04. bold\n",
      "Payment of Obligations bold\n",
      "6.05. bold\n",
      "Preservation of Existence, Etc bold\n",
      "6.06. bold\n",
      "Maintenance of Properties bold\n",
      "6.07. bold\n",
      "Maintenance of Insurance bold\n",
      "6.08. bold\n",
      "Compliance with Laws, Contracts, Licenses and Permits; Maintenance of Material Licenses and Permits bold\n",
      "6.09. bold\n",
      "Books and Records bold\n",
      "6.10. bold\n",
      "Inspection Rights bold\n",
      "6.11. bold\n",
      "Use of Proceeds bold\n",
      "6.12. bold\n",
      "Collateral Records bold\n",
      "6.13. bold\n",
      "Anti-Corruption Laws; Sanctions bold\n",
      "6.14. bold\n",
      "Additional Subsidiaries. bold\n",
      "6.15. bold\n",
      "Collateral Security bold\n",
      "6.16. bold\n",
      "Environmental Indemnification bold\n",
      "6.17. bold\n",
      "Compliance with Environmental Laws; Environmental Reports. bold\n",
      "6.18. bold\n",
      "Further Assurances. bold\n",
      "6.19. bold\n",
      "Obligations as Senior Debt. bold\n",
      "6.20. bold\n",
      "Material Contracts. bold\n",
      "6.21. bold\n",
      "Swap Contracts. bold\n",
      "ARTICLE VII. bold\n",
      " NEGATIVE COVENANTS bold\n",
      "7.01. bold\n",
      "Liens bold\n",
      "7.02. bold\n",
      "Investments bold\n",
      "7.03. bold\n",
      "Indebtedness bold\n",
      "7.04. bold\n",
      "Fundamental Changes bold\n",
      "7.05. bold\n",
      "Dispositions bold\n",
      "provided underline\n",
      "7.06. bold\n",
      "Restricted Payments bold\n",
      "7.07. bold\n",
      "Change in Nature of Business bold\n",
      "7.08. bold\n",
      "Transactions with Affiliates bold\n",
      "7.09. bold\n",
      "Burdensome Agreements; Negative Pledges bold\n",
      "7.10. bold\n",
      "Use of Proceeds bold\n",
      "7.11. bold\n",
      "Financial Covenants bold\n",
      "7.12. bold\n",
      "Subordinated Debt bold\n",
      "7.13. bold\n",
      "Amendments to Organization Documents. bold\n",
      "7.14. bold\n",
      "Sanctions. bold\n",
      "7.15. bold\n",
      "Holding Company. bold\n",
      "7.16. bold\n",
      "Anti-Corruption Laws. bold\n",
      "ARTICLE VIII. bold\n",
      " EVENTS OF DEFAULT AND REMEDIES bold\n",
      "8.01. bold\n",
      "Events of Default bold\n",
      "8.02. bold\n",
      "Remedies Upon Event of Default bold\n",
      "provided underline\n",
      "8.03. bold\n",
      "Application of Funds bold\n",
      "First underline\n",
      "Second underline\n",
      "Third underline\n",
      "Fourth underline\n",
      "Last underline\n",
      "ARTICLE IX. bold\n",
      " ADMINISTRATIVE AGENT bold\n",
      "9.01. bold\n",
      "Appointment and Authorization of the Administrative Agent bold\n",
      "9.02. bold\n",
      "Rights as a Lender bold\n",
      "9.03. bold\n",
      "Exculpatory Provisions. bold\n",
      "9.04. bold\n",
      "Reliance by the Administrative Agent bold\n",
      "9.05. bold\n",
      "Delegation of Duties bold\n",
      "9.06. bold\n",
      "Resignation of the Administrative Agent bold\n",
      "9.07. bold\n",
      "Non-Reliance on the Administrative Agent and Other the Lenders bold\n",
      "9.08. bold\n",
      "No Other Duties, Etc bold\n",
      "9.09. bold\n",
      "Administrative Agent May File Proofs of Claim; Credit Bidding bold\n",
      "9.10. bold\n",
      "Collateral Matters bold\n",
      "9.11. bold\n",
      "Cash Management Agreements and Hedge Agreements. bold\n",
      "ARTICLE X. bold\n",
      " CONTINUING GUARANTY bold\n",
      "10.01. bold\n",
      "Guaranty. bold\n",
      "10.02. bold\n",
      "Rights of Lenders. bold\n",
      "10.03. bold\n",
      "Certain Waivers. bold\n",
      "10.04. bold\n",
      "Obligations Independent bold\n",
      "10.05. bold\n",
      "Subrogation bold\n",
      "10.06. bold\n",
      "Termination; Reinstatement bold\n",
      "10.07. bold\n",
      "Subordination bold\n",
      "10.08. bold\n",
      "Stay of Acceleration bold\n",
      "10.09. bold\n",
      "Condition of Borrower bold\n",
      "10.10. bold\n",
      "Joint and Several Liability of the Loan Parties bold\n",
      "10.11. bold\n",
      "Designation of the Borrower as the Agent for the Loan Parties bold\n",
      "10.12. bold\n",
      "Keepwell bold\n",
      "ARTICLE XI. bold\n",
      " MISCELLANEOUS bold\n",
      "11.01. bold\n",
      "Amendments, Etc bold\n",
      "11.02. bold\n",
      "Notices; Effectiveness; Electronic Communications bold\n",
      "11.03. bold\n",
      "No Waiver; Cumulative Remedies; Enforcement bold\n",
      "11.04. bold\n",
      "Expenses; Indemnity; Damage Waiver bold\n",
      "IN ALL CASES, WHETHER OR NOT CAUSED BY OR ARISING, IN WHOLE OR IN PART, OUT OF THE COMPARATIVE, CONTRIBUTORY OR SOLE NEGLIGENCE OF THE INDEMNITEE bold\n",
      "11.05. bold\n",
      "Payments Set Aside bold\n",
      "11.06. bold\n",
      "Successors and Assigns bold\n",
      "11.07. bold\n",
      "Treatment of Certain Information; Confidentiality bold\n",
      "11.08. bold\n",
      "Right of Setoff bold\n",
      "11.09. bold\n",
      "Interest Rate Limitation bold\n",
      "11.10. bold\n",
      "Counterparts; Integration; Effectiveness bold\n",
      "11.11. bold\n",
      "Survival of Representations and Warranties bold\n",
      "11.12. bold\n",
      "Severability bold\n",
      "11.13. bold\n",
      "Replacement of Lenders bold\n",
      "11.14. bold\n",
      "GOVERNING LAW; JURISDICTION; ETC bold\n",
      "11.15. bold\n",
      "Waiver of Right to Trial by Jury bold\n",
      "11.16. bold\n",
      "USA PATRIOT Act Notice bold\n",
      "11.17. bold\n",
      "No Advisory or Fiduciary Responsibility.  bold\n",
      "11.18. bold\n",
      "Electronic Execution of Assignments and Certain Other Documents. bold\n",
      "11.19. bold\n",
      "Mirachem.  bold\n",
      "11.20. bold\n",
      "Existing Credit Agreement and Existing Guaranties Amended and Restated bold\n",
      "11.21. bold\n",
      "ENTIRE AGREEMENT. bold\n",
      "11.22. bold\n",
      "Acknowledgment and Consent to Bail-in of EEA Financial Institutions. bold\n",
      "HERITAGE-CRYSTAL CLEAN, LLC bold\n",
      "HERITAGE-CRYSTAL CLEAN, INC. bold\n",
      "HCC CORPORATION, LLC, bold\n",
      "HERITAGE-CRYSTAL CLEAN, LIMITED bold\n",
      "SAV-TECH SOLVENT INC., bold\n",
      "MIRACHEM, LLC bold\n",
      "BANK OF AMERICA, N.A., bold\n",
      "BANK OF AMERICA, N.A.,  bold\n",
      "WELLS FARGO BANK, NATIONAL ASSOCIATION bold\n",
      "BMO HARRIS BANK N.A. bold\n",
      "COMPASS BANK bold\n",
      "match end\n",
      "match\n",
      "1.02. bold\n",
      "Other Interpretive Provisions bold\n",
      "1.03. bold\n",
      "Accounting Terms bold\n",
      "1.04. bold\n",
      "Rounding bold\n",
      "1.05. bold\n",
      "Times of Day; Rates bold\n",
      "1.06. bold\n",
      "Letter of Credit Amounts bold\n",
      "ARTICLE II. bold\n",
      " THE COMMITMENTS AND CREDIT EXTENSIONS bold\n",
      "2.01. bold\n",
      "The Loans. bold\n",
      "2.02. bold\n",
      "Borrowings, Conversions and Continuations of Loans. bold\n",
      "2.03. bold\n",
      "Letters of Credit bold\n"
     ]
    },
    {
     "ename": "KeyboardInterrupt",
     "evalue": "",
     "output_type": "error",
     "traceback": [
      "\u001b[1;31m\u001b[0m",
      "\u001b[1;31mKeyboardInterrupt\u001b[0mTraceback (most recent call last)",
      "\u001b[1;32m<ipython-input-142-a6cfbb7d689d>\u001b[0m in \u001b[0;36m<module>\u001b[1;34m()\u001b[0m\n\u001b[0;32m     52\u001b[0m                 \u001b[0mresult\u001b[0m \u001b[1;33m=\u001b[0m \u001b[0mparas\u001b[0m\u001b[1;33m[\u001b[0m\u001b[0mindex\u001b[0m\u001b[1;33m]\u001b[0m\u001b[1;33m\u001b[0m\u001b[0m\n\u001b[0;32m     53\u001b[0m             \u001b[1;32melse\u001b[0m\u001b[1;33m:\u001b[0m\u001b[1;33m\u001b[0m\u001b[0m\n\u001b[1;32m---> 54\u001b[1;33m                 \u001b[0mresult\u001b[0m \u001b[1;33m=\u001b[0m \u001b[0mmatch\u001b[0m\u001b[1;33m(\u001b[0m\u001b[0mparas\u001b[0m\u001b[1;33m,\u001b[0m \u001b[0mtarget\u001b[0m\u001b[1;33m,\u001b[0m \u001b[0mindex\u001b[0m\u001b[1;33m+\u001b[0m\u001b[1;36m1\u001b[0m\u001b[1;33m)\u001b[0m\u001b[1;33m\u001b[0m\u001b[0m\n\u001b[0m\u001b[0;32m     55\u001b[0m             \u001b[0mresults\u001b[0m\u001b[1;33m.\u001b[0m\u001b[0mappend\u001b[0m\u001b[1;33m(\u001b[0m\u001b[0mresult\u001b[0m\u001b[1;33m)\u001b[0m\u001b[1;33m\u001b[0m\u001b[0m\n\u001b[0;32m     56\u001b[0m \u001b[1;33m\u001b[0m\u001b[0m\n",
      "\u001b[1;32m<ipython-input-129-f84ecd83685c>\u001b[0m in \u001b[0;36mmatch\u001b[1;34m(paras, targetPatterns, startIndex)\u001b[0m\n\u001b[0;32m     18\u001b[0m         \u001b[0mpatterns\u001b[0m\u001b[1;33m.\u001b[0m\u001b[0mappend\u001b[0m\u001b[1;33m(\u001b[0m\u001b[0msingle_quotes\u001b[0m\u001b[1;33m(\u001b[0m\u001b[0mp\u001b[0m\u001b[1;33m)\u001b[0m\u001b[1;33m)\u001b[0m\u001b[1;33m\u001b[0m\u001b[0m\n\u001b[0;32m     19\u001b[0m         \u001b[0mpatterns\u001b[0m\u001b[1;33m.\u001b[0m\u001b[0mappend\u001b[0m\u001b[1;33m(\u001b[0m\u001b[0mupper_case\u001b[0m\u001b[1;33m(\u001b[0m\u001b[0mp\u001b[0m\u001b[1;33m)\u001b[0m\u001b[1;33m)\u001b[0m\u001b[1;33m\u001b[0m\u001b[0m\n\u001b[1;32m---> 20\u001b[1;33m         \u001b[0mpatterns\u001b[0m\u001b[1;33m.\u001b[0m\u001b[0mappend\u001b[0m\u001b[1;33m(\u001b[0m\u001b[0mupper_camel_case\u001b[0m\u001b[1;33m(\u001b[0m\u001b[0mp\u001b[0m\u001b[1;33m)\u001b[0m\u001b[1;33m)\u001b[0m\u001b[1;33m\u001b[0m\u001b[0m\n\u001b[0m\u001b[0;32m     21\u001b[0m         \u001b[0mpatterns\u001b[0m\u001b[1;33m.\u001b[0m\u001b[0mappend\u001b[0m\u001b[1;33m(\u001b[0m\u001b[0mindent\u001b[0m\u001b[1;33m(\u001b[0m\u001b[0mp\u001b[0m\u001b[1;33m)\u001b[0m\u001b[1;33m)\u001b[0m\u001b[1;33m\u001b[0m\u001b[0m\n\u001b[0;32m     22\u001b[0m         \u001b[0mpatterns\u001b[0m\u001b[1;33m.\u001b[0m\u001b[0mappend\u001b[0m\u001b[1;33m(\u001b[0m\u001b[0misListPara\u001b[0m\u001b[1;33m(\u001b[0m\u001b[0mp\u001b[0m\u001b[1;33m)\u001b[0m\u001b[1;33m)\u001b[0m\u001b[1;33m\u001b[0m\u001b[0m\n",
      "\u001b[1;32m<ipython-input-105-6c5743c9a02d>\u001b[0m in \u001b[0;36mupper_camel_case\u001b[1;34m(paragraph)\u001b[0m\n\u001b[0;32m      2\u001b[0m \u001b[1;32mdef\u001b[0m \u001b[0mupper_camel_case\u001b[0m\u001b[1;33m(\u001b[0m\u001b[0mparagraph\u001b[0m\u001b[1;33m)\u001b[0m\u001b[1;33m:\u001b[0m\u001b[1;33m\u001b[0m\u001b[0m\n\u001b[0;32m      3\u001b[0m     \u001b[0mwords_list\u001b[0m \u001b[1;33m=\u001b[0m \u001b[0mre\u001b[0m\u001b[1;33m.\u001b[0m\u001b[0msplit\u001b[0m\u001b[1;33m(\u001b[0m\u001b[1;34m\" \"\u001b[0m\u001b[1;33m,\u001b[0m \u001b[0mparagraph\u001b[0m\u001b[1;33m.\u001b[0m\u001b[0mtext\u001b[0m\u001b[1;33m)\u001b[0m\u001b[1;33m\u001b[0m\u001b[0m\n\u001b[1;32m----> 4\u001b[1;33m     \u001b[0mnew_paragraph\u001b[0m \u001b[1;33m=\u001b[0m \u001b[0mremove_stopwords\u001b[0m\u001b[1;33m(\u001b[0m\u001b[0mparagraph\u001b[0m\u001b[1;33m.\u001b[0m\u001b[0mtext\u001b[0m\u001b[1;33m)\u001b[0m\u001b[1;33m\u001b[0m\u001b[0m\n\u001b[0m\u001b[0;32m      5\u001b[0m     \u001b[0mnew_paragraph_list\u001b[0m \u001b[1;33m=\u001b[0m \u001b[0mre\u001b[0m\u001b[1;33m.\u001b[0m\u001b[0msplit\u001b[0m\u001b[1;33m(\u001b[0m\u001b[1;34m\" \"\u001b[0m\u001b[1;33m,\u001b[0m \u001b[0mnew_paragraph\u001b[0m\u001b[1;33m)\u001b[0m\u001b[1;33m\u001b[0m\u001b[0m\n\u001b[0;32m      6\u001b[0m     \u001b[0mnew_words_list\u001b[0m \u001b[1;33m=\u001b[0m \u001b[0mre\u001b[0m\u001b[1;33m.\u001b[0m\u001b[0mfindall\u001b[0m\u001b[1;33m(\u001b[0m\u001b[1;34mr'([A-Z][a-z0-9\\']+)[^A-Z]?\\s'\u001b[0m\u001b[1;33m,\u001b[0m \u001b[0mnew_paragraph\u001b[0m\u001b[1;33m)\u001b[0m\u001b[1;33m\u001b[0m\u001b[0m\n",
      "\u001b[1;32m<ipython-input-87-f39bc83bc551>\u001b[0m in \u001b[0;36mremove_stopwords\u001b[1;34m(keyword)\u001b[0m\n\u001b[0;32m      9\u001b[0m \u001b[1;33m\u001b[0m\u001b[0m\n\u001b[0;32m     10\u001b[0m     \u001b[0mword_list\u001b[0m \u001b[1;33m=\u001b[0m \u001b[0mre\u001b[0m\u001b[1;33m.\u001b[0m\u001b[0msplit\u001b[0m\u001b[1;33m(\u001b[0m\u001b[1;34mr'\\s'\u001b[0m\u001b[1;33m,\u001b[0m\u001b[0mkeyword\u001b[0m\u001b[1;33m)\u001b[0m\u001b[1;33m\u001b[0m\u001b[0m\n\u001b[1;32m---> 11\u001b[1;33m     \u001b[0mfiltered_words\u001b[0m \u001b[1;33m=\u001b[0m \u001b[1;33m[\u001b[0m\u001b[0mword\u001b[0m \u001b[1;32mfor\u001b[0m \u001b[0mword\u001b[0m \u001b[1;32min\u001b[0m \u001b[0mword_list\u001b[0m \u001b[1;32mif\u001b[0m \u001b[0mword\u001b[0m \u001b[1;32mnot\u001b[0m \u001b[1;32min\u001b[0m \u001b[0mstopwords\u001b[0m\u001b[1;33m.\u001b[0m\u001b[0mwords\u001b[0m\u001b[1;33m(\u001b[0m\u001b[1;34m'english'\u001b[0m\u001b[1;33m)\u001b[0m\u001b[1;33m]\u001b[0m\u001b[1;33m\u001b[0m\u001b[0m\n\u001b[0m\u001b[0;32m     12\u001b[0m     \u001b[0mwords\u001b[0m \u001b[1;33m=\u001b[0m \u001b[1;34m\" \"\u001b[0m\u001b[1;33m.\u001b[0m\u001b[0mjoin\u001b[0m\u001b[1;33m(\u001b[0m\u001b[0mfiltered_words\u001b[0m\u001b[1;33m)\u001b[0m\u001b[1;33m\u001b[0m\u001b[0m\n\u001b[0;32m     13\u001b[0m     \u001b[1;32mreturn\u001b[0m \u001b[0mwords\u001b[0m\u001b[1;33m\u001b[0m\u001b[0m\n",
      "\u001b[1;32mC:\\Users\\wyf\\Anaconda2\\lib\\site-packages\\nltk\\corpus\\reader\\wordlist.py\u001b[0m in \u001b[0;36mwords\u001b[1;34m(self, fileids, ignore_lines_startswith)\u001b[0m\n\u001b[0;32m     20\u001b[0m     \"\"\"\n\u001b[0;32m     21\u001b[0m     \u001b[1;32mdef\u001b[0m \u001b[0mwords\u001b[0m\u001b[1;33m(\u001b[0m\u001b[0mself\u001b[0m\u001b[1;33m,\u001b[0m \u001b[0mfileids\u001b[0m\u001b[1;33m=\u001b[0m\u001b[0mNone\u001b[0m\u001b[1;33m,\u001b[0m \u001b[0mignore_lines_startswith\u001b[0m\u001b[1;33m=\u001b[0m\u001b[1;34m'\\n'\u001b[0m\u001b[1;33m)\u001b[0m\u001b[1;33m:\u001b[0m\u001b[1;33m\u001b[0m\u001b[0m\n\u001b[1;32m---> 22\u001b[1;33m         return [line for line in line_tokenize(self.raw(fileids))\n\u001b[0m\u001b[0;32m     23\u001b[0m                 if not line.startswith(ignore_lines_startswith)]\n\u001b[0;32m     24\u001b[0m \u001b[1;33m\u001b[0m\u001b[0m\n",
      "\u001b[1;32mC:\\Users\\wyf\\Anaconda2\\lib\\site-packages\\nltk\\corpus\\reader\\wordlist.py\u001b[0m in \u001b[0;36mraw\u001b[1;34m(self, fileids)\u001b[0m\n\u001b[0;32m     26\u001b[0m         \u001b[1;32mif\u001b[0m \u001b[0mfileids\u001b[0m \u001b[1;32mis\u001b[0m \u001b[0mNone\u001b[0m\u001b[1;33m:\u001b[0m \u001b[0mfileids\u001b[0m \u001b[1;33m=\u001b[0m \u001b[0mself\u001b[0m\u001b[1;33m.\u001b[0m\u001b[0m_fileids\u001b[0m\u001b[1;33m\u001b[0m\u001b[0m\n\u001b[0;32m     27\u001b[0m         \u001b[1;32melif\u001b[0m \u001b[0misinstance\u001b[0m\u001b[1;33m(\u001b[0m\u001b[0mfileids\u001b[0m\u001b[1;33m,\u001b[0m \u001b[0mstring_types\u001b[0m\u001b[1;33m)\u001b[0m\u001b[1;33m:\u001b[0m \u001b[0mfileids\u001b[0m \u001b[1;33m=\u001b[0m \u001b[1;33m[\u001b[0m\u001b[0mfileids\u001b[0m\u001b[1;33m]\u001b[0m\u001b[1;33m\u001b[0m\u001b[0m\n\u001b[1;32m---> 28\u001b[1;33m         \u001b[1;32mreturn\u001b[0m \u001b[0mconcat\u001b[0m\u001b[1;33m(\u001b[0m\u001b[1;33m[\u001b[0m\u001b[0mself\u001b[0m\u001b[1;33m.\u001b[0m\u001b[0mopen\u001b[0m\u001b[1;33m(\u001b[0m\u001b[0mf\u001b[0m\u001b[1;33m)\u001b[0m\u001b[1;33m.\u001b[0m\u001b[0mread\u001b[0m\u001b[1;33m(\u001b[0m\u001b[1;33m)\u001b[0m \u001b[1;32mfor\u001b[0m \u001b[0mf\u001b[0m \u001b[1;32min\u001b[0m \u001b[0mfileids\u001b[0m\u001b[1;33m]\u001b[0m\u001b[1;33m)\u001b[0m\u001b[1;33m\u001b[0m\u001b[0m\n\u001b[0m\u001b[0;32m     29\u001b[0m \u001b[1;33m\u001b[0m\u001b[0m\n\u001b[0;32m     30\u001b[0m \u001b[1;33m\u001b[0m\u001b[0m\n",
      "\u001b[1;32mC:\\Users\\wyf\\Anaconda2\\lib\\site-packages\\nltk\\corpus\\reader\\api.py\u001b[0m in \u001b[0;36mopen\u001b[1;34m(self, file)\u001b[0m\n\u001b[0;32m    211\u001b[0m         \"\"\"\n\u001b[0;32m    212\u001b[0m         \u001b[0mencoding\u001b[0m \u001b[1;33m=\u001b[0m \u001b[0mself\u001b[0m\u001b[1;33m.\u001b[0m\u001b[0mencoding\u001b[0m\u001b[1;33m(\u001b[0m\u001b[0mfile\u001b[0m\u001b[1;33m)\u001b[0m\u001b[1;33m\u001b[0m\u001b[0m\n\u001b[1;32m--> 213\u001b[1;33m         \u001b[0mstream\u001b[0m \u001b[1;33m=\u001b[0m \u001b[0mself\u001b[0m\u001b[1;33m.\u001b[0m\u001b[0m_root\u001b[0m\u001b[1;33m.\u001b[0m\u001b[0mjoin\u001b[0m\u001b[1;33m(\u001b[0m\u001b[0mfile\u001b[0m\u001b[1;33m)\u001b[0m\u001b[1;33m.\u001b[0m\u001b[0mopen\u001b[0m\u001b[1;33m(\u001b[0m\u001b[0mencoding\u001b[0m\u001b[1;33m)\u001b[0m\u001b[1;33m\u001b[0m\u001b[0m\n\u001b[0m\u001b[0;32m    214\u001b[0m         \u001b[1;32mreturn\u001b[0m \u001b[0mstream\u001b[0m\u001b[1;33m\u001b[0m\u001b[0m\n\u001b[0;32m    215\u001b[0m \u001b[1;33m\u001b[0m\u001b[0m\n",
      "\u001b[1;32mC:\\Users\\wyf\\Anaconda2\\lib\\site-packages\\nltk\\data.py\u001b[0m in \u001b[0;36mopen\u001b[1;34m(self, encoding)\u001b[0m\n\u001b[0;32m    313\u001b[0m \u001b[1;33m\u001b[0m\u001b[0m\n\u001b[0;32m    314\u001b[0m     \u001b[1;32mdef\u001b[0m \u001b[0mopen\u001b[0m\u001b[1;33m(\u001b[0m\u001b[0mself\u001b[0m\u001b[1;33m,\u001b[0m \u001b[0mencoding\u001b[0m\u001b[1;33m=\u001b[0m\u001b[0mNone\u001b[0m\u001b[1;33m)\u001b[0m\u001b[1;33m:\u001b[0m\u001b[1;33m\u001b[0m\u001b[0m\n\u001b[1;32m--> 315\u001b[1;33m         \u001b[0mstream\u001b[0m \u001b[1;33m=\u001b[0m \u001b[0mopen\u001b[0m\u001b[1;33m(\u001b[0m\u001b[0mself\u001b[0m\u001b[1;33m.\u001b[0m\u001b[0m_path\u001b[0m\u001b[1;33m,\u001b[0m \u001b[1;34m'rb'\u001b[0m\u001b[1;33m)\u001b[0m\u001b[1;33m\u001b[0m\u001b[0m\n\u001b[0m\u001b[0;32m    316\u001b[0m         \u001b[1;32mif\u001b[0m \u001b[0mencoding\u001b[0m \u001b[1;32mis\u001b[0m \u001b[1;32mnot\u001b[0m \u001b[0mNone\u001b[0m\u001b[1;33m:\u001b[0m\u001b[1;33m\u001b[0m\u001b[0m\n\u001b[0;32m    317\u001b[0m             \u001b[0mstream\u001b[0m \u001b[1;33m=\u001b[0m \u001b[0mSeekableUnicodeStreamReader\u001b[0m\u001b[1;33m(\u001b[0m\u001b[0mstream\u001b[0m\u001b[1;33m,\u001b[0m \u001b[0mencoding\u001b[0m\u001b[1;33m)\u001b[0m\u001b[1;33m\u001b[0m\u001b[0m\n",
      "\u001b[1;31mKeyboardInterrupt\u001b[0m: "
     ]
    }
   ],
   "source": [
    "# Abhay\n",
    "'''\n",
    "Open the output file in append mode and pull related language from the files in the input folder\n",
    "'''\n",
    "\n",
    "########################################################################\n",
    "out_filepath = '../Output Search files/'\n",
    "out_filename = 'Output_search.csv'\n",
    "out_path = out_filepath + out_filename\n",
    "########################################################################\n",
    "\n",
    "\n",
    "header = ['File Name', 'Keywords', 'Change of Control'] # Column names in output file \n",
    "\n",
    "\n",
    "with open(out_path, 'wb') as f:\n",
    "    wr = csv.writer(f)\n",
    "    wr.writerow(header)\n",
    "\n",
    "with open(out_path, 'ab') as f:\n",
    "    # Input folder path\n",
    "    directory_path = '../Input Search files' \n",
    "    \n",
    "    # Parse through each file in the input folder path\n",
    "    for files in os.listdir(directory_path):\n",
    "        #print files\n",
    "        \n",
    "        # Create a Document object of each of the files\n",
    "        document = Document(directory_path + \"/\" +files)\n",
    "        \n",
    "        # A list to add all the paragraphs in the document\n",
    "        paras = []\n",
    "        \n",
    "        '''\n",
    "        The following for loop is used to add all the paragraphs in the document to the paras list object\n",
    "        '''\n",
    "        for p in document.paragraphs:        \n",
    "            paras.append(p)\n",
    "            \n",
    "        paras_number = len(paras) # Find the number of paragraphs in the document\n",
    "        \n",
    "        paras_toPrint = [] # A list to add all the paragraphs relevant to 'Change of Control' language in this case\n",
    "        \n",
    "        keyword = \"Change of Control\"\n",
    "        keywordindex = search(paras, keyword)\n",
    "        print(keywordindex)\n",
    "        results = []\n",
    "        result = \"\"\n",
    "        for index in keywordindex:\n",
    "            target = find_patterns(paras, index, keyword)\n",
    "            if index == paras_number - 1:\n",
    "                result = paras[index]\n",
    "            else:\n",
    "                result = match(paras, target, index+1)\n",
    "            results.append(result)\n",
    "\n",
    "        wr = csv.writer(f)\n",
    "        wr.writerow([files, 'Change of Control', results])\n",
    "        \n",
    "print(\"end\")\n",
    "f.close()"
   ]
  },
  {
   "cell_type": "code",
   "execution_count": null,
   "metadata": {
    "collapsed": true
   },
   "outputs": [],
   "source": []
  }
 ],
 "metadata": {
  "kernelspec": {
   "display_name": "Python 2",
   "language": "python",
   "name": "python2"
  },
  "language_info": {
   "codemirror_mode": {
    "name": "ipython",
    "version": 2
   },
   "file_extension": ".py",
   "mimetype": "text/x-python",
   "name": "python",
   "nbconvert_exporter": "python",
   "pygments_lexer": "ipython2",
   "version": "2.7.14"
  }
 },
 "nbformat": 4,
 "nbformat_minor": 1
}
