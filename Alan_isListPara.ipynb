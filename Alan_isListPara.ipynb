{
 "cells": [
  {
   "cell_type": "code",
   "execution_count": null,
   "metadata": {
    "collapsed": true
   },
   "outputs": [],
   "source": [
    "# paras: list of paragraph\n",
    "# start: index of the paragraph containes the keywords\n",
    "\n",
    "def isListPara(paras, start):\n",
    "    targetFormat = paras[start].style.name\n",
    "    nextFormat = paras[start+1].style.name\n",
    "    if nextFormat == 'List Paragraph':\n",
    "        return True\n",
    "    return False\n",
    "\n",
    "def matchListPara(paras, start):\n",
    "    targetFormat = paras[start].style.name\n",
    "    for i in range(1, len(paras)):\n",
    "        if paras[i].style.name == targetFormat:\n",
    "            print ('Last List Paragraph Index is the ' +str(i - 1))\n",
    "            return i - 1\n",
    "            \n",
    "    print 'Return last paragraoh of the document'\n",
    "    return len(paras) - 1"
   ]
  }
 ],
 "metadata": {
  "kernelspec": {
   "display_name": "Python 2",
   "language": "python",
   "name": "python2"
  },
  "language_info": {
   "codemirror_mode": {
    "name": "ipython",
    "version": 2
   },
   "file_extension": ".py",
   "mimetype": "text/x-python",
   "name": "python",
   "nbconvert_exporter": "python",
   "pygments_lexer": "ipython2",
   "version": "2.7.13"
  }
 },
 "nbformat": 4,
 "nbformat_minor": 2
}
