{
 "cells": [
  {
   "cell_type": "code",
   "execution_count": 57,
   "metadata": {
    "collapsed": true
   },
   "outputs": [],
   "source": [
    "from docx import Document\n",
    "import pandas as pd\n",
    "import os\n",
    "import re\n",
    "import csv"
   ]
  },
  {
   "cell_type": "code",
   "execution_count": 58,
   "metadata": {
    "collapsed": true
   },
   "outputs": [],
   "source": [
    "# Yufei\n",
    "def search(paras, keyword):\n",
    "    index = []\n",
    "    i = 0\n",
    "    while (i<len(paras)):\n",
    "    #for p in paras:    # Traversing through each of the paragraphs\n",
    "    p = paras[i]\n",
    "    if keyword.lower() in p.text.lower():\n",
    "        index.append(i)\n",
    "    i = i+1\n",
    "    return index"
   ]
  },
  {
   "cell_type": "code",
   "execution_count": 59,
   "metadata": {
    "collapsed": true
   },
   "outputs": [],
   "source": [
    "# Yufei\n",
    "def find_patterns(paras, keyword):\n",
    "    patterns = []\n",
    "    patterns.append(is_bold(paras, keyword))\n",
    "    patterns.append(is_italic(paras, keyword))\n",
    "    patterns.append(is_underline(paras, keyword))\n",
    "    patterns.append(is_double_quotes(paras, keyword))\n",
    "    patterns.append(is_single_quotes(paras, keyword))\n",
    "    patterns.append(is_upper_case(paras, keyword))\n",
    "    patterns.append(is_camel_upper_case(paras, keyword))\n",
    "    patterns.append(indent(paras))\n",
    "    return patterns"
   ]
  },
  {
   "cell_type": "code",
   "execution_count": null,
   "metadata": {
    "collapsed": true
   },
   "outputs": [],
   "source": [
    "# Yufei\n",
    "def indent(paras):\n",
    "    return paras.paragraph_format.first_line_indent"
   ]
  },
  {
   "cell_type": "code",
   "execution_count": 60,
   "metadata": {
    "collapsed": true
   },
   "outputs": [],
   "source": [
    "# Yufei\n",
    "def is_indent(paras, indent):\n",
    "    if paras.paragraph_format.first_line_indent == indent:\n",
    "        return True\n",
    "    else:\n",
    "        return False"
   ]
  },
  {
   "cell_type": "code",
   "execution_count": 1,
   "metadata": {},
   "outputs": [],
   "source": [
    "# Yufei\n",
    "def uppercase(paras, keyword):\n",
    "    if keyword.upper() in p.text:\n",
    "        return True\n",
    "    else:\n",
    "        return False"
   ]
  },
  {
   "cell_type": "code",
   "execution_count": 61,
   "metadata": {
    "collapsed": true
   },
   "outputs": [],
   "source": [
    "# Yufei\n",
    "def is_uppercase(para):\n",
    "    words = re.split(\" \",para.text)\n",
    "    first_word = words[0]\n",
    "    if re.match('^[0-9A-Z]+$',first_word):\n",
    "        return True\n",
    "    else:\n",
    "        return False                              "
   ]
  },
  {
   "cell_type": "code",
   "execution_count": null,
   "metadata": {
    "collapsed": true
   },
   "outputs": [],
   "source": [
    "# Yufei\n",
    "# pattern : [bold, italic, underline, double_quotes, single_quotes, upper case, camel upper case, indent]\n",
    "# indent is a number, others are bool\n",
    "def match(pattern, start):\n",
    "    i = start\n",
    "    while (i<len(paras)):\n",
    "        p = paras[i]\n",
    "        result = []\n",
    "        if pattern[0]:\n",
    "            result.append(is_bold(p))\n",
    "        else:\n",
    "            result.append(False)\n",
    "        if pattern[1]:\n",
    "            result.append(is_italic(p))\n",
    "        else:\n",
    "            result.append(False)\n",
    "        if pattern[2]:\n",
    "            result.append(is_underline(p))\n",
    "        else:\n",
    "            result.append(False)\n",
    "        if pattern[3]:\n",
    "            result.append(is_double_quotes(p))\n",
    "        else:\n",
    "            result.append(False)\n",
    "        if pattern[4]:\n",
    "            result.append(is_single_quotes(p))\n",
    "        else:\n",
    "            result.append(False)\n",
    "        if pattern[5]:\n",
    "            result.append(is_upper_case(p))\n",
    "        else:\n",
    "            result.append(False)\n",
    "        if pattern[6]:\n",
    "            result.append(is_camel_upper_case(p))\n",
    "        else:\n",
    "            result.append(False)\n",
    "        \n",
    "        result.append(is_indent(p, pattern[7]))\n",
    "        \n",
    "        # decide whether continue to match\n",
    "        # Modified by Eden\n",
    "        if False in result:\n",
    "            i = i + 1\n",
    "        else: #get the same pattern means the end of the block of keyword\n",
    "            break\n",
    "        \n",
    "        \n",
    "        i = i + 1\n",
    "    return i"
   ]
  },
  {
   "cell_type": "code",
   "execution_count": null,
   "metadata": {
    "collapsed": true
   },
   "outputs": [],
   "source": [
    "# Alan\n",
    "# paras: list of paragraph\n",
    "# start: index of the paragraph containes the keywords\n",
    "def isListPara(paras, start):\n",
    "    targetFormat = paras[start].style.name\n",
    "    nextFormat = paras[start+1].style.name\n",
    "    if nextFormat == 'List Paragraph':\n",
    "        return True\n",
    "    return False\n",
    "\n",
    "def matchListPara(paras, start):\n",
    "    targetFormat = paras[start].style.name\n",
    "    for i in range(1, len(paras)):\n",
    "        if paras[i].style.name == targetFormat:\n",
    "            print ('Last List Paragraph Index is the ' +str(i - 1))\n",
    "            return i - 1\n",
    "            \n",
    "    print 'Return last paragraoh of the document'\n",
    "    return len(paras) - 1"
   ]
  },
  {
   "cell_type": "code",
   "execution_count": null,
   "metadata": {
    "collapsed": true
   },
   "outputs": [],
   "source": [
    "# Zheng\n",
    "def matchStyle(p, keyword):\n",
    "    paras_toPrint = []\n",
    "    if keyword in p.text.lower(): # Append to the list if change of control is in the list\n",
    "        for run in p.runs:\n",
    "            if run.bold:\n",
    "                print run.text,'bold'\n",
    "                paras_toPrint.append(p)\n",
    "            if run.italic:\n",
    "                print run.text,'italic'\n",
    "                paras_toPrint.append(p)\n",
    "            if run.underline:\n",
    "                print run.text,'underline'\n",
    "                paras_toPrint.append(p)                \n",
    "    if len(paras_toPrint) == 0:\n",
    "        return False\n",
    "    else:\n",
    "        return True"
   ]
  },
  {
   "cell_type": "code",
   "execution_count": null,
   "metadata": {
    "collapsed": true
   },
   "outputs": [],
   "source": [
    "# Zoe\n",
    "def double_quotes(paragraph):\n",
    "    words = re.findall(r'(\\\".+?\\\")', paragraph)\n",
    "    if paragraph.startswith(words[0]):\n",
    "        return True       \n",
    "    else:\n",
    "        return False"
   ]
  },
  {
   "cell_type": "code",
   "execution_count": null,
   "metadata": {
    "collapsed": true
   },
   "outputs": [],
   "source": [
    "# Zoe\n",
    "def is_double_quotes(paragraph, keyword):\n",
    "    words = re.findall(r'\\\"(.+?)\\\"', paragraph)\n",
    "    if paragraph.startswith(\"\\\"\" + words[0] + \"\\\"\") and words[0].lower() == keyword.lower():\n",
    "        return True       \n",
    "    else:\n",
    "        return False"
   ]
  },
  {
   "cell_type": "code",
   "execution_count": null,
   "metadata": {
    "collapsed": true
   },
   "outputs": [],
   "source": [
    "# Zoe\n",
    "def single_quotes(paragraph):\n",
    "    words = re.findall(r'(\\'.+?\\')\\s',paragraph)\n",
    "    if paragraph.startswith(words[0]):\n",
    "        return True\n",
    "    else:\n",
    "        return False"
   ]
  },
  {
   "cell_type": "code",
   "execution_count": null,
   "metadata": {
    "collapsed": true
   },
   "outputs": [],
   "source": [
    "# Zoe\n",
    "def is_single_quotes(paragraph, keyword):\n",
    "    words = re.findall(r'\\'(.+?)\\'\\s',paragraph)\n",
    "    if paragraph.startswith(\"\\'\"+ words[0] + \"\\'\") and words[0].lower() == keyword.lower():\n",
    "        return True\n",
    "    else:\n",
    "        return False"
   ]
  },
  {
   "cell_type": "code",
   "execution_count": null,
   "metadata": {
    "collapsed": true
   },
   "outputs": [],
   "source": [
    "# Zoe\n",
    "def upper_case(paragraph):\n",
    "    words = re.findall(r'([A-Z]+?)\\s',paragraph)\n",
    "    if paragraph.startswith(words[0]):\n",
    "        return True\n",
    "    else:\n",
    "        return False"
   ]
  },
  {
   "cell_type": "code",
   "execution_count": null,
   "metadata": {
    "collapsed": true
   },
   "outputs": [],
   "source": [
    "# Zoe\n",
    "def is_upper_case(paragraph, keyword):\n",
    "    words = re.findall(r'([A-Z]+?)\\s',paragraph)\n",
    "    if paragraph.startswith(words[0]) and words[0].lower() == keyword.lower():\n",
    "        return True\n",
    "    else:\n",
    "        return False"
   ]
  },
  {
   "cell_type": "code",
   "execution_count": null,
   "metadata": {
    "collapsed": true
   },
   "outputs": [],
   "source": [
    "# Zoe\n",
    "from nltk.corpus import stopwords\n",
    "def remove_stopwords(text):\n",
    "    word_list = re.split(r'\\s',text)\n",
    "    filtered_words = [word for word in word_list if word not in stopwords.words('english')]\n",
    "    words = \" \".join(filtered_words)\n",
    "    return words"
   ]
  },
  {
   "cell_type": "code",
   "execution_count": null,
   "metadata": {
    "collapsed": true
   },
   "outputs": [],
   "source": [
    "# Zoe\n",
    "def upper_camel_case(paragraph):\n",
    "    words_list = re.split(\" \", paragraph)\n",
    "    new_paragraph = remove_stopwords(paragraph)\n",
    "    new_paragraph_list = re.split(\" \", new_paragraph)\n",
    "    new_words_list = re.findall(r'([A-Z][a-z0-9\\']+)[^A-Z]?\\s', new_paragraph)\n",
    "    last_word = \"\"\n",
    "    for i in range(len(new_words_list)):\n",
    "        if new_words_list[i] == new_paragraph_list[i]:\n",
    "            last_word = new_words_list[i]\n",
    "        else:\n",
    "            break\n",
    "    result = []\n",
    "    for j in range(len(words_list)):\n",
    "        if last_word == words_list[j]:\n",
    "            result.append(last_word)\n",
    "            break\n",
    "        else:\n",
    "            result.append(words_list[j])\n",
    "    if len(result) > 1:\n",
    "        return True\n",
    "    else:\n",
    "        return False"
   ]
  },
  {
   "cell_type": "code",
   "execution_count": null,
   "metadata": {
    "collapsed": true
   },
   "outputs": [],
   "source": [
    "# Zoe\n",
    "def is_upper_camel_case(paragraph, keyword):\n",
    "    words_list = re.split(\" \", paragraph)\n",
    "    new_paragraph = remove_stopwords(paragraph)\n",
    "    new_paragraph_list = re.split(\" \", new_paragraph)\n",
    "    new_words_list = re.findall(r'([A-Z][a-z0-9\\']+)[^A-Z]?\\s', new_paragraph)\n",
    "    last_word = \"\"\n",
    "    for i in range(len(new_words_list)):\n",
    "        if new_words_list[i] == new_paragraph_list[i]:\n",
    "            string.append(new_words_list[i])\n",
    "            last_word = new_words_list[i]\n",
    "        else:\n",
    "            break\n",
    "    result = []\n",
    "    for j in range(len(words_list)):\n",
    "        if last_word == words_list[j]:\n",
    "            result.append(last_word)\n",
    "            break\n",
    "        else:\n",
    "            result.append(words_list[j])\n",
    "    results = \" \".join(result)\n",
    "    if results.lower() == keyword:\n",
    "        return True\n",
    "    else:\n",
    "        return False"
   ]
  },
  {
   "cell_type": "code",
   "execution_count": null,
   "metadata": {
    "collapsed": true
   },
   "outputs": [],
   "source": [
    "# Eden\n",
    "def contains_sliding_window(text, terms, win_len):\n",
    "    target_words = re.split('[\\s]', terms)\n",
    "    probe = target_words[0]\n",
    "    #print probe\n",
    "    \n",
    "    words = re.split('[\\s]', text)\n",
    "    flag = False\n",
    "    for i in range(len(words)):\n",
    "        word = words[i]\n",
    "        if word.lower() != probe:\n",
    "            continue\n",
    "        l_pointer = max(0,i - win_len)\n",
    "        r_pointer = min(len(words),i + win_len)\n",
    "        for target_word in target_words:\n",
    "            flag = False\n",
    "            for pointer in range(l_pointer, r_pointer):\n",
    "                if words[pointer] == target_word:\n",
    "                    flag = True\n",
    "            if not flag:\n",
    "                break\n",
    "        if flag:\n",
    "            #print True\n",
    "            return True\n",
    "    #print False\n",
    "    return False"
   ]
  },
  {
   "cell_type": "code",
   "execution_count": null,
   "metadata": {
    "collapsed": true
   },
   "outputs": [],
   "source": [
    "# Eden\n",
    "def search(paras, keyword):\n",
    "    output = []\n",
    "    for p in paras:  \n",
    "        if contains_sliding_window(p.text.lower(), 'change control', 4):\n",
    "            output.append(p)    \n",
    "    return output"
   ]
  },
  {
   "cell_type": "code",
   "execution_count": null,
   "metadata": {
    "collapsed": true
   },
   "outputs": [],
   "source": [
    "# Eden\n",
    "def bullet_pattern(paras):\n",
    "    pattern = None\n",
    "    flag1 = re.match(\"\\([A-Z]+\\)\", paras.text[:40].lstrip())\n",
    "    flag2 = re.match(\"\\([a-z]+\\)\", paras.text[:40].lstrip())\n",
    "    flag3 = re.match(\"\\([0-9]+\\)\", paras.text[:40].lstrip())\n",
    "              \n",
    "    if flag1:\n",
    "        pattern = \"\\([A-Z]+\\)\"\n",
    "    elif flag2:\n",
    "        pattern = \"\\([a-z]+\\)\"\n",
    "    elif flag3:\n",
    "        pattern = \"\\([0-9]+\\)\"\n",
    "    else:\n",
    "        pattern = None\n",
    "    return pattern"
   ]
  },
  {
   "cell_type": "code",
   "execution_count": null,
   "metadata": {
    "collapsed": true
   },
   "outputs": [],
   "source": [
    "# Eden\n",
    "def is_bullet_pattern(paras, pattern):\n",
    "    if not pattern:\n",
    "        return True\n",
    "    \n",
    "    if re.match(pattern, paras.text[:40].lstrip()):\n",
    "        return True\n",
    "    else\n",
    "        return False"
   ]
  },
  {
   "cell_type": "code",
   "execution_count": null,
   "metadata": {
    "collapsed": true
   },
   "outputs": [],
   "source": [
    "# Abhay\n",
    "'''\n",
    "Set output file path\n",
    "'''\n",
    "########################################################################\n",
    "out_filepath = '/Users/yangyi/Documents/CMU-S18/capstone/untitled folder/'\n",
    "out_filename = 'Output_search.csv'\n",
    "out_path = out_filepath + out_filename\n",
    "########################################################################\n",
    "\n",
    "\n",
    "header = ['File Name', 'Keywords', 'Change of Control'] # Column names in output file \n",
    "\n",
    "'''\n",
    "Open the file  and set the header of columns in the output file\n",
    "'''\n",
    "with open (out_path, 'wb') as f:    \n",
    "    wr = csv.writer(f)\n",
    "    wr.writerow(header)"
   ]
  },
  {
   "cell_type": "code",
   "execution_count": null,
   "metadata": {
    "collapsed": true
   },
   "outputs": [],
   "source": [
    "# Abhay\n",
    "'''\n",
    "Open the output file in append mode and pull related language from the files in the input folder\n",
    "'''\n",
    "with open(out_path, 'ab') as f:\n",
    "    \n",
    "    # Input folder path\n",
    "    directory_path = '/Users/yangyi/Documents/CMU-S18/capstone/untitled folder/Input Search files' \n",
    "    \n",
    "    # Parse through each file in the input folder path\n",
    "    for files in os.listdir(directory_path):\n",
    "        print files\n",
    "        \n",
    "        # Create a Document object of each of the files\n",
    "        document = Document(directory_path + \"/\" +files)\n",
    "        \n",
    "        # A list to add all the paragraphs in the document\n",
    "        paras = []\n",
    "        \n",
    "        '''\n",
    "        The following for loop is used to add all the paragraphs in the document to the paras list object\n",
    "        '''\n",
    "        for p in document.paragraphs:        \n",
    "            paras.append(p)\n",
    "            \n",
    "        paras_number = len(paras) # Find the number of paragraphs in the document\n",
    "        \n",
    "        paras_toPrint = [] # A list to add all the paragraphs relevant to 'Change of Control' language in this case\n",
    "        \n",
    "        for p in paras:    # Traversing through each of the paragraphs\n",
    "            \n",
    "            '''\n",
    "            Assumption made : If length of the paragraph is less than 300 characters, it is probably the heading.\n",
    "            I considered 300 characters, because I saw instances with a lot of whitespace characters before the characters \n",
    "            in heading.\n",
    "            For Example:\n",
    "            \n",
    "            ....Law”, regardless of the date enacted, adopted or issued.\n",
    "            \n",
    "                            “Change of Control” means an event or series of events by which:\n",
    "            (a)any “person” or “group” (as such terms are used in Sections 13(d) and 14(d) \n",
    "            of the Exchange Act, but excluding any employee benefit plan of such person or its \n",
    "            subsidiaries, and any person or entity acting in its capacity as trustee, agent or other fiduciary \n",
    "            or administrator of any such plan and any Initial Shareholder) becomes \n",
    "\n",
    "            \n",
    "            '''\n",
    "            \n",
    "            if len(p.text) < 300: # Considering that this paragraph just pulls the heading\n",
    "                if 'change of control' in p.text[:100].lower():\n",
    "                #    considering Change of control is in the first 100 character of the heading\n",
    "\n",
    "                    paras_toPrint.append(p) # Add the para in the paras_toPrint list\n",
    "                    \n",
    "                    \n",
    "                    for j in range((paras.index(p) + 1), paras_number): \n",
    "                        # Loop from the paragraph after the heading containing 'Change of Control' to the last paragraph \n",
    "                        \n",
    "                        \n",
    "                        if len(paras[j].text) < 10: # Ignore blank paragraphs as well as paragraphs containing page numbers and such\n",
    "                            # print paras[j].text\n",
    "                            continue\n",
    "                        else:\n",
    "                            # Match characters like \"(a)\" or \"(b)\" . \n",
    "                            # this helps capture sub-parts of Change of control starting with characters like (a) or (i)\n",
    "                            # Need better code\n",
    "                            \n",
    "                            match_flag = re.match(\"\\([a-z]\\)\",paras[j].text[:40])\n",
    "                            \n",
    "                            if match_flag: # Append the sub-parts if any to the list of paras else break\n",
    "                                paras_toPrint.append(paras[j])\n",
    "                            else:\n",
    "                                break        \n",
    "            else: # Considering that this paragraph is not a heading\n",
    "                if 'change of control' in p.text.lower(): # Append to the list if change of control is in the list\n",
    "                    paras_toPrint.append(p)\n",
    "        wr = csv.writer(f)\n",
    "        \n",
    "        # Created a single list of all instances of 'Change of Control'\n",
    "        # Ignored unrecognized ascii characters that throw an encoding error. Need improvement\n",
    "        text =  [paras.text.encode('ascii','ignore') for paras in paras_toPrint]\n",
    "        res = \"\".join(text)\n",
    "        \n",
    "        # write to file\n",
    "        wr.writerow([files, 'Change of Control', res])\n",
    "f.close()"
   ]
  },
  {
   "cell_type": "code",
   "execution_count": null,
   "metadata": {
    "collapsed": true
   },
   "outputs": [],
   "source": []
  }
 ],
 "metadata": {
  "kernelspec": {
   "display_name": "Python 2",
   "language": "python",
   "name": "python2"
  },
  "language_info": {
   "codemirror_mode": {
    "name": "ipython",
    "version": 2
   },
   "file_extension": ".py",
   "mimetype": "text/x-python",
   "name": "python",
   "nbconvert_exporter": "python",
   "pygments_lexer": "ipython2",
   "version": "2.7.14"
  }
 },
 "nbformat": 4,
 "nbformat_minor": 1
}
