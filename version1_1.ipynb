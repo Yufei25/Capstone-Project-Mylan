{
 "cells": [
  {
   "cell_type": "code",
   "execution_count": 1,
   "metadata": {},
   "outputs": [],
   "source": [
    "from docx import Document\n",
    "import os\n",
    "import re\n",
    "import csv\n",
    "import sys"
   ]
  },
  {
   "cell_type": "code",
   "execution_count": 2,
   "metadata": {
    "collapsed": true
   },
   "outputs": [],
   "source": [
    "'''\n",
    "Author: Eden\n",
    "\n",
    "Read stopwords from files and return a stopwords set.\n",
    "\n",
    "-filename = file name\n",
    "\n",
    "return the set of stopwords\n",
    "'''\n",
    "def read_stop_words(filename):\n",
    "    vector = []\n",
    "    with open(filename, 'r') as f:\n",
    "        input = f.read().splitlines()\n",
    "\n",
    "    [vector.append(input[i]) for i in range(len(input))]   \n",
    "    return set(vector)"
   ]
  },
  {
   "cell_type": "code",
   "execution_count": 3,
   "metadata": {
    "collapsed": true
   },
   "outputs": [],
   "source": [
    "'''\n",
    "Author: Zoe\n",
    "\n",
    "Remove the stopwords such as articles, prep and so on from keywords\n",
    "\n",
    "-keywords = search word\n",
    "\n",
    "return the string without stopwords\n",
    "'''\n",
    "\n",
    "def remove_stopwords(keywords, stop_set):\n",
    "    word_list = re.split(r'\\s',keywords)\n",
    "    filtered_words = [word for word in word_list if word not in stop_set]\n",
    "    words = \" \".join(filtered_words)\n",
    "    return words"
   ]
  },
  {
   "cell_type": "markdown",
   "metadata": {},
   "source": [
    "### indent(para) Example\n",
    "&nbsp;&nbsp;&nbsp;&nbsp;&nbsp;&nbsp; Change of control means that (a) any Person or group (within the meaning of Rule13d-5 of the SEC under the Exchange Act) shall become the Beneficial Owner of 20% or more of the Voting Equity Interests of the Borrower, or (b) a majority of the members of the Board of Directors of the Borrower shall cease to be Continuing Members.\n",
    "\n",
    "&nbsp;&nbsp;&nbsp;&nbsp;&nbsp;&nbsp; Code shall mean the Internal Revenue Code of 1986, as the same may be amended or supplemented from time to time, and any successor statute of similar import, and the rules and regulations thereunder, as from time to time in effect."
   ]
  },
  {
   "cell_type": "code",
   "execution_count": 4,
   "metadata": {
    "collapsed": true
   },
   "outputs": [],
   "source": [
    "'''\n",
    "Author: Yufei\n",
    "\n",
    "Get the indent space of the paragraph, used in find_patterns and match function\n",
    "\n",
    "-para = paragraph\n",
    "\n",
    "return a num means the indent space or null if no indent\n",
    "'''\n",
    "def indent(para):\n",
    "    if para.paragraph_format.first_line_indent:\n",
    "        return para.paragraph_format.first_line_indent.pt\n",
    "    else:\n",
    "        return None"
   ]
  },
  {
   "cell_type": "markdown",
   "metadata": {},
   "source": [
    "### bullet_list(para) Example\n",
    "Change of control means that \n",
    "\n",
    "&nbsp;&nbsp;&nbsp;&nbsp;(a) any Person or group (within the meaning of Rule13d-5 of the SEC under the Exchange Act) shall become the Beneficial Owner of 20% or more of the Voting Equity Interests of the Borrower, or \n",
    "\n",
    "&nbsp;&nbsp;&nbsp;&nbsp;(b) a majority of the members of the Board of Directors of the Borrower shall cease to be Continuing Members.\n",
    "\n",
    "#### The difference between bullet_list and isListPara is that the bullet in the bullet_list is manually input rather than the Microsoft Word style\n"
   ]
  },
  {
   "cell_type": "code",
   "execution_count": 5,
   "metadata": {
    "collapsed": true
   },
   "outputs": [],
   "source": [
    "'''\n",
    "Author: Eden\n",
    "\n",
    "Check if the paragraph is bullet ordered list, used in find_patterns and match function\n",
    "\n",
    "-para = paragraph\n",
    "\n",
    "return the regex pattern of this paragraph or None\n",
    "'''\n",
    "def bullet_list(para):\n",
    "    pattern = '[·]' # match the bullet point e.g.   · This is the content\n",
    "    flag = re.match(pattern, para.text.lstrip()[:10])   \n",
    "    if flag:\n",
    "        return pattern\n",
    "    \n",
    "    pattern = u'[\\u2022]' # match the bullet point e.g.   • This is the content\n",
    "    flag = re.match(pattern, para.text.lstrip()[:10])      \n",
    "    if flag:\n",
    "        return pattern\n",
    "    \n",
    "    pattern = '[A-Z]+\\)' # match the upper case numbering point e.g.   A) This is the content (A) This is the content\n",
    "    flag = re.match(pattern, para.text.lstrip()[:10])      \n",
    "    if flag:\n",
    "        return pattern\n",
    "    \n",
    "    pattern = '[a-z]+\\)' # match the lower case numbering point e.g.   a) This is the content (a) This is the content\n",
    "    flag = re.match(pattern, para.text.lstrip()[:10])\n",
    "    if flag:\n",
    "        return pattern\n",
    "    \n",
    "    pattern = '\\d+\\)' # match the digital numbering point e.g.   1) This is the content  (1) This is the content\n",
    "    flag = re.match(pattern, para.text.lstrip()[:10])\n",
    "    if flag:\n",
    "        return pattern\n",
    "    \n",
    "    pattern = '\\d+\\.[^\\d]+' # match the digital numbering point e.g.   1. This is the content\n",
    "    flag = re.match(pattern, para.text.lstrip()[:10])\n",
    "    if flag:\n",
    "        return pattern\n",
    "    \n",
    "    pattern = '[a-z]+\\.' # match the lower case numbering point e.g.   a. This is the content\n",
    "    flag = re.match(pattern, para.text.lstrip()[:10])\n",
    "    if flag:\n",
    "        return pattern\n",
    "    \n",
    "    pattern = '[A-Z]+\\.' # match the upper case numbering point e.g.   A. This is the content\n",
    "    flag = re.match(pattern, para.text.lstrip()[:10])\n",
    "    if flag:\n",
    "        return pattern\n",
    "    \n",
    "    \n",
    "    pattern = '\\d+\\.\\d+[^\\d]+' # match the digital numbering point e.g.   1.1. This is the content\n",
    "    flag = re.match(pattern, para.text.lstrip()[:10])\n",
    "    if flag:\n",
    "        return pattern\n",
    "    \n",
    "    pattern = '\\d+\\.\\d+\\.\\d+[^\\d]+' # match the upper case numbering point e.g.   1.1.1. This is the content\n",
    "    flag = re.match(pattern, para.text.lstrip()[:10])\n",
    "    if flag:\n",
    "        return pattern\n",
    "    \n",
    "    pattern = '\\d+\\.\\d+\\.\\d+\\.\\d+[^\\d]+' # match the upper case numbering point e.g.   1.1.1.1. This is the content\n",
    "    flag = re.match(pattern, para.text.lstrip()[:10])\n",
    "    if flag:\n",
    "        return pattern\n",
    "    \n",
    "    pattern = '[\\(]?([vx]|i{1,3}|i[vx]|[vx]i{1,3})(\\.|\\))' # match the roman numerals point \n",
    "    # e.g. i) This is the content    (i) This is the content    i. This is the content\n",
    "    flag = re.match(pattern, para.text.lstrip()[:10])\n",
    "    if flag:\n",
    "        return pattern\n",
    "    \n",
    "    return None"
   ]
  },
  {
   "cell_type": "code",
   "execution_count": 6,
   "metadata": {
    "collapsed": true
   },
   "outputs": [],
   "source": [
    "# '''\n",
    "# Testing Function\n",
    "# '''\n",
    "\n",
    "# # Input folder path\n",
    "# directory_path = os.getcwd() + '/input/change_of_control+change_in_control' \n",
    "# fileName = 'test.docx'\n",
    "# document = Document('/Users/yangyi/Desktop' + \"/\" +fileName)\n",
    "#     #\n",
    "# for p in document.paragraphs:\n",
    "# #     print p.text\n",
    "#     pattern = bullet_list(p)\n",
    "#     if pattern:\n",
    "#         print pattern\n",
    "#         print p.text"
   ]
  },
  {
   "cell_type": "markdown",
   "metadata": {},
   "source": [
    "### isListPara(para) Example\n",
    "1. any Person or group (within the meaning of Rule13d-5 of the SEC under the Exchange Act) shall become the Beneficial Owner of 20% or more of the Voting Equity Interests of the Borrower, or \n",
    "2. a majority of the members of the Board of Directors of the Borrower shall cease to be Continuing Members."
   ]
  },
  {
   "cell_type": "code",
   "execution_count": 7,
   "metadata": {
    "collapsed": true
   },
   "outputs": [],
   "source": [
    "'''\n",
    "Author: Alan\n",
    "\n",
    "Check if the paragraph is list paragraph rather than normal paragraph, used in find_patterns and match function\n",
    "\n",
    "-para = paragraph\n",
    "\n",
    "return True/False\n",
    "'''\n",
    "def isListPara(para):\n",
    "    paraFormat = para.style.name\n",
    "    if paraFormat == 'List Paragraph':\n",
    "        return True\n",
    "    return False"
   ]
  },
  {
   "cell_type": "markdown",
   "metadata": {},
   "source": [
    "### isNormal(para) Example\n",
    "any Person or group (within the meaning of Rule13d-5 of the SEC under the Exchange Act) shall become the Beneficial Owner of 20% or more of the Voting Equity Interests of the Borrower, or "
   ]
  },
  {
   "cell_type": "code",
   "execution_count": 8,
   "metadata": {
    "collapsed": true
   },
   "outputs": [],
   "source": [
    "'''\n",
    "Author: Alan\n",
    "\n",
    "Check if the paragraph is Normal rather than list paragraph，used in match function\n",
    "\n",
    "-para = paragraph\n",
    "\n",
    "return True/False\n",
    "'''\n",
    "def isNormal(para):\n",
    "    paraFormat = para.style.name\n",
    "    if paraFormat == 'Normal':\n",
    "        return True\n",
    "    return False"
   ]
  },
  {
   "cell_type": "markdown",
   "metadata": {},
   "source": [
    "### isNormalFollwingListPara(paras, curIndex) Example\n",
    "Change of control means that \n",
    "1. any Person or group (within the meaning of Rule13d-5 of the SEC under the Exchange Act) shall become the Beneficial Owner of 20% or more of the Voting Equity Interests of the Borrower, or \n",
    "2. a majority of the members of the Board of Directors of the Borrower shall cease to be Continuing Members."
   ]
  },
  {
   "cell_type": "code",
   "execution_count": 9,
   "metadata": {
    "collapsed": true
   },
   "outputs": [],
   "source": [
    "'''\n",
    "Author: Alan\n",
    "\n",
    "Check if the paragraph followed by list paragraph, used in find_patterns function\n",
    "\n",
    "-paras = all the paragraph\n",
    "-curIndex = the index of current paragraph\n",
    "\n",
    "return True/False\n",
    "'''\n",
    "def isNormalFollowingListPara(paras, curIndex):\n",
    "    targetFormat = paras[curIndex].style.name\n",
    "    if curIndex == len(paras) - 1:\n",
    "        return False\n",
    "    nextFormat = paras[curIndex+1].style.name\n",
    "    if nextFormat == 'List Paragraph' and targetFormat == 'Normal':\n",
    "        return True\n",
    "    return False"
   ]
  },
  {
   "cell_type": "code",
   "execution_count": 10,
   "metadata": {
    "collapsed": true
   },
   "outputs": [],
   "source": [
    "def isBullet1FollowingBullet2(paras, index):\n",
    "    startPara = paras[index]\n",
    "    bullet1 = bullet_list(startPara)\n",
    "    \n",
    "    nextIndex = index + 1\n",
    "    if nextIndex == len(paras):\n",
    "        bullet2 = None\n",
    "    else:\n",
    "        nextPara = paras[nextIndex]\n",
    "        bullet2 = bullet_list(nextPara)\n",
    "        \n",
    "    #print ('Bullet1, ', bullet1)\n",
    "    #print ('Bullet2, ', bullet2)\n",
    "    \n",
    "    return (bullet1 != None or bullet2 != None)"
   ]
  },
  {
   "cell_type": "markdown",
   "metadata": {},
   "source": [
    "### bold(para) Example\n",
    "**Change of control** means that (a) any Person or group (within the meaning of Rule13d-5 of the SEC under the Exchange Act) shall become the Beneficial Owner of 20% or more of the Voting Equity Interests of the Borrower, or (b) a majority of the members of the Board of Directors of the Borrower shall cease to be Continuing Members.\n",
    "\n",
    "**Code** shall mean the Internal Revenue Code of 1986, as the same may be amended or supplemented from time to time, and any successor statute of similar import, and the rules and regulations thereunder, as from time to time in effect."
   ]
  },
  {
   "cell_type": "code",
   "execution_count": 11,
   "metadata": {
    "collapsed": true
   },
   "outputs": [],
   "source": [
    "'''\n",
    "Author: Zheng\n",
    "\n",
    "Check if the bold font in the paragraph, used in match function\n",
    "\n",
    "-para = paragraph\n",
    "\n",
    "return True/False\n",
    "'''\n",
    "\n",
    "def bold(para):\n",
    "    paras_toPrint = []\n",
    "    i=0\n",
    "    for run in para.runs:\n",
    "        if i>3:\n",
    "            break\n",
    "        i=i+1\n",
    "        if run.bold:\n",
    "            paras_toPrint.append(run.text) \n",
    "    if len(paras_toPrint) == 0:\n",
    "        return False\n",
    "    else:\n",
    "        return True"
   ]
  },
  {
   "cell_type": "markdown",
   "metadata": {},
   "source": [
    "### is_bold(para, keywords) Example\n",
    "**Change of control** means that (a) any Person or group (within the meaning of Rule13d-5 of the SEC under the Exchange Act) shall become the Beneficial Owner of 20% or more of the Voting Equity Interests of the Borrower, or (b) a majority of the members of the Board of Directors of the Borrower shall cease to be Continuing Members."
   ]
  },
  {
   "cell_type": "code",
   "execution_count": 12,
   "metadata": {
    "collapsed": true
   },
   "outputs": [],
   "source": [
    "'''\n",
    "Author: Zheng\n",
    "\n",
    "Check if the bold font and keyword in the paragraph, used in find_patterns function\n",
    "\n",
    "-para = paragraph\n",
    "-keywords = search words\n",
    "\n",
    "return True/False\n",
    "'''\n",
    "\n",
    "def is_bold(para, keywords):\n",
    "    paras_toPrint = []\n",
    "    i=0\n",
    "    if keywords.lower() in para.text.lower(): \n",
    "        for run in para.runs:\n",
    "            if i>1:  \n",
    "                break\n",
    "            i=i+1\n",
    "            if run.bold:\n",
    "                paras_toPrint.append(run.text)\n",
    "    if len(paras_toPrint) == 0:\n",
    "        return False\n",
    "    else:\n",
    "        return True"
   ]
  },
  {
   "cell_type": "markdown",
   "metadata": {},
   "source": [
    "### is_italic(para, keywords) Example\n",
    "_Change of control_ means that (a) any Person or group (within the meaning of Rule13d-5 of the SEC under the Exchange Act) shall become the Beneficial Owner of 20% or more of the Voting Equity Interests of the Borrower, or (b) a majority of the members of the Board of Directors of the Borrower shall cease to be Continuing Members."
   ]
  },
  {
   "cell_type": "code",
   "execution_count": 13,
   "metadata": {
    "collapsed": true
   },
   "outputs": [],
   "source": [
    "'''\n",
    "Author: Zheng\n",
    "\n",
    "Check if the italic font and keywords in the paragraph, used in match function\n",
    "\n",
    "-para = paragraph\n",
    "\n",
    "return True/False\n",
    "'''\n",
    "def is_italic(para, keywords):\n",
    "    paras_toPrint = []\n",
    "    i=0\n",
    "    if keywords.lower() in para.text.lower(): \n",
    "        for run in para.runs:\n",
    "            if i>1:  \n",
    "                break\n",
    "            i=i+1\n",
    "            if run.italic:\n",
    "                paras_toPrint.append(run.text)\n",
    "    if len(paras_toPrint) == 0:\n",
    "        return False\n",
    "    else:\n",
    "        return True"
   ]
  },
  {
   "cell_type": "markdown",
   "metadata": {},
   "source": [
    "### italic(para) Example\n",
    "_Code_ shall mean the Internal Revenue Code of 1986, as the same may be amended or supplemented from time to time, and any successor statute of similar import, and the rules and regulations thereunder, as from time to time in effect."
   ]
  },
  {
   "cell_type": "code",
   "execution_count": 14,
   "metadata": {
    "collapsed": true
   },
   "outputs": [],
   "source": [
    "'''\n",
    "Author: Zheng\n",
    "\n",
    "Check if the italic font in the paragraph, used in match function\n",
    "\n",
    "-para = paragraph\n",
    "\n",
    "return True/False\n",
    "'''\n",
    "\n",
    "def italic(para):\n",
    "    paras_toPrint = []\n",
    "    i=0\n",
    "    for run in para.runs:\n",
    "        if i>3:\n",
    "            #print i,'hello'\n",
    "            break\n",
    "        i=i+1\n",
    "        if run.italic:\n",
    "            paras_toPrint.append(run.text) \n",
    "    if  len(paras_toPrint)==0:\n",
    "        return False\n",
    "    else:\n",
    "        return True"
   ]
  },
  {
   "cell_type": "markdown",
   "metadata": {},
   "source": [
    "### is_underline(para, keywords) Example\n",
    "Change of control(Underline) means that (a) any Person or group (within the meaning of Rule13d-5 of the SEC under the Exchange Act) shall become the Beneficial Owner of 20% or more of the Voting Equity Interests of the Borrower, or (b) a majority of the members of the Board of Directors of the Borrower shall cease to be Continuing Members."
   ]
  },
  {
   "cell_type": "code",
   "execution_count": 15,
   "metadata": {
    "collapsed": true
   },
   "outputs": [],
   "source": [
    "# Zheng\n",
    "'''\n",
    "Author: Zheng\n",
    "\n",
    "Check if the keyword is underlined in the paragraph, used in find_pattern function\n",
    "\n",
    "-para = paragraph\n",
    "-keywords = keywords\n",
    "\n",
    "return True/False\n",
    "'''\n",
    "\n",
    "def is_underline(para, keywords):\n",
    "    paras_toPrint = []\n",
    "    i=0\n",
    "    if keywords.lower() in para.text.lower(): \n",
    "        for run in para.runs:\n",
    "            if i>1:  \n",
    "                break\n",
    "            i=i+1\n",
    "            if run.underline:\n",
    "                paras_toPrint.append(run.text)\n",
    "    if len(paras_toPrint) == 0:\n",
    "        return False\n",
    "    else:\n",
    "        return True"
   ]
  },
  {
   "cell_type": "markdown",
   "metadata": {},
   "source": [
    "### underline(para) Example\n",
    "\n",
    "Code(Underline) shall mean the Internal Revenue Code of 1986, as the same may be amended or supplemented from time to time, and any successor statute of similar import, and the rules and regulations thereunder, as from time to time in effect."
   ]
  },
  {
   "cell_type": "code",
   "execution_count": 16,
   "metadata": {
    "collapsed": true
   },
   "outputs": [],
   "source": [
    "'''\n",
    "Author: Zheng\n",
    "\n",
    "Check if the underline in the paragraph, used in match function\n",
    "\n",
    "-para = paragraph\n",
    "\n",
    "return True/False\n",
    "'''\n",
    "\n",
    "def underline(para):\n",
    "    paras_toPrint = []\n",
    "    i=0\n",
    "    for run in para.runs:\n",
    "        if i>3:\n",
    "            break\n",
    "        i=i+1\n",
    "        if run.underline:\n",
    "            paras_toPrint.append(run.text) \n",
    "    if len(paras_toPrint) == 0:\n",
    "        return False\n",
    "    else:\n",
    "        return True"
   ]
  },
  {
   "cell_type": "markdown",
   "metadata": {},
   "source": [
    "### is_double_quotes(para, keywords) Example:\n",
    "\"Change of control\" means that (a) any Person or group (within the meaning of Rule13d-5 of the SEC under the Exchange Act) shall become the Beneficial Owner of 20% or more of the Voting Equity Interests of the Borrower, or (b) a majority of the members of the Board of Directors of the Borrower shall cease to be Continuing Members."
   ]
  },
  {
   "cell_type": "code",
   "execution_count": 17,
   "metadata": {
    "collapsed": true
   },
   "outputs": [],
   "source": [
    "'''\n",
    "Author: Zoe\n",
    "\n",
    "Check if the keyword is double quoted in the paragraph, used in find_patterns function\n",
    "\n",
    "-para = paragraph\n",
    "\n",
    "return True/False\n",
    "'''\n",
    "def is_double_quotes(para, keywords, stop_set):\n",
    "    words = re.split(u'[\\\"\\u201c\\u201d]',para.text)\n",
    "    removed_words = remove_stopwords(keyword, stop_set).split(\" \")\n",
    "    if len(words) == 1:  # no double quotes\n",
    "        return False\n",
    "    # check if all keywords are in words[1], the first phrase in double quotes, and words[0] is not regular phrase which means that words[1] is the start of the paragragh\n",
    "    if all(word in words[1] for word in removed_words) and len(words[0].rstrip().lstrip()) < 7 and re.match(r'[a-zA-Z ]*[a-zA-Z]+[a-zA-Z ]*',words[0]) == None:\n",
    "        return True\n",
    "    return False"
   ]
  },
  {
   "cell_type": "markdown",
   "metadata": {},
   "source": [
    "### double_quotes(para) Example:\n",
    "\n",
    "\"Code\" shall mean the Internal Revenue Code of 1986, as the same may be amended or supplemented from time to time, and any successor statute of similar import, and the rules and regulations thereunder, as from time to time in effect.\n"
   ]
  },
  {
   "cell_type": "code",
   "execution_count": 18,
   "metadata": {
    "collapsed": true
   },
   "outputs": [],
   "source": [
    "'''\n",
    "Author: Zoe\n",
    "\n",
    "Check if the double quotes in the paragraph, used in match function\n",
    "\n",
    "-para = paragraph\n",
    "\n",
    "return True/False\n",
    "'''\n",
    "def double_quotes(para):\n",
    "    \"\"\"\n",
    "        Find if paragraph starts with double quotes\n",
    "        \n",
    "        return: True or False\n",
    "    \"\"\"\n",
    "    words = re.split(u'[\\\"\\u201c\\u201d]',para.text)\n",
    "    #print words\n",
    "    if  len(words) == 1:\n",
    "        return False\n",
    "    # if words[0] is not regular phrase, we regard  words[1] as the start of the paragragh\n",
    "    if len(words[0].rstrip().lstrip()) < 7 and re.match(r'[a-zA-Z ]*[a-zA-Z]+[a-zA-Z ]*',words[0]) == None:\n",
    "        return True       \n",
    "    else:\n",
    "        return False"
   ]
  },
  {
   "cell_type": "markdown",
   "metadata": {},
   "source": [
    "### is_single_quotes(para, keywords) Example:\n",
    "'Change of control' means that (a) any Person or group (within the meaning of Rule13d-5 of the SEC under the Exchange Act) shall become the Beneficial Owner of 20% or more of the Voting Equity Interests of the Borrower, or (b) a majority of the members of the Board of Directors of the Borrower shall cease to be Continuing Members.\n"
   ]
  },
  {
   "cell_type": "code",
   "execution_count": 19,
   "metadata": {
    "collapsed": true
   },
   "outputs": [],
   "source": [
    "'''\n",
    "Author: Zoe\n",
    "\n",
    "Check if the keyword is single quoted in the paragraph, used in find_patterns function\n",
    "\n",
    "-para = paragraph\n",
    "\n",
    "return True/False\n",
    "'''\n",
    "def is_single_quotes(para, keywords, stop_set):\n",
    "    words = re.split(u'[\\\"\\u2018\\u2019]',para.text)\n",
    "    removed_words = remove_stopwords(keyword, stop_set).split(\" \")\n",
    "    #re.findall(r'[\\\"\\u201C\\u201D].*[\\\"\\u201C\\u201D]', para.text)\n",
    "    #print words\n",
    "#     print '\\tIS Double Quotes', words\n",
    "    if len(words) == 1:    # no single quotes\n",
    "        return False\n",
    "        # check if all keywords are in words[1], the first phrase in single quotes, and words[0] is not regular phrase which means that words[1] is the start of the paragragh\n",
    "    if all(word in words[1] for word in removed_words) and len(words[0].rstrip().lstrip()) < 7 and re.match(r'[a-zA-Z ]*[a-zA-Z]+[a-zA-Z ]*',words[0]) == None:\n",
    "        return True\n",
    "    return False"
   ]
  },
  {
   "cell_type": "markdown",
   "metadata": {},
   "source": [
    "### single_quotes(para) Example:\n",
    "\n",
    "'Code' shall mean the Internal Revenue Code of 1986, as the same may be amended or supplemented from time to time, and any successor statute of similar import, and the rules and regulations thereunder, as from time to time in effect.\n"
   ]
  },
  {
   "cell_type": "code",
   "execution_count": 20,
   "metadata": {
    "collapsed": true
   },
   "outputs": [],
   "source": [
    "'''\n",
    "Author: Zoe\n",
    "\n",
    "Check if single quotes in the paragraph, used in match function\n",
    "\n",
    "-para = paragraph\n",
    "\n",
    "return True/False\n",
    "'''\n",
    "def single_quotes(para):\n",
    "    words = re.split(u'[\\\"\\u2018\\u2019]',para.text)\n",
    "    if len(words) == 1:\n",
    "        return False\n",
    "    # if words[0] is not regular phrase, we regard words[1] as the start of the paragragh\n",
    "    if len(words[0].rstrip().lstrip()) < 7 and re.match(r'[a-zA-Z ]*[a-zA-Z]+[a-zA-Z ]*',words[0]) == None:\n",
    "        return True       \n",
    "    else:\n",
    "        return False"
   ]
  },
  {
   "cell_type": "markdown",
   "metadata": {},
   "source": [
    "### is_upper_case(para, keywords) Example:\n",
    "CHANGE OF CONTROL shall mean the Internal Revenue Code of 1986, as the same may be amended or supplemented from time to time, and any successor statute of similar import, and the rules and regulations thereunder, as from time to time in effect.\n"
   ]
  },
  {
   "cell_type": "code",
   "execution_count": 21,
   "metadata": {
    "collapsed": true
   },
   "outputs": [],
   "source": [
    "'''\n",
    "Author: Zoe\n",
    "\n",
    "Check if the keyword is upper case in the paragraph, used in find_patterns function\n",
    "\n",
    "-para = paragraph\n",
    "\n",
    "return True/False\n",
    "'''\n",
    "def is_upper_case(para, keywords):\n",
    "    words = re.findall(r'([A-Z]+?)\\s',para.text)\n",
    "    if not words:\n",
    "        return False\n",
    "    if para.text.startswith(words[0]): # and words[0].lower() == keyword.lower():\n",
    "        return True\n",
    "    else:\n",
    "        return False"
   ]
  },
  {
   "cell_type": "markdown",
   "metadata": {},
   "source": [
    "### upper_case(para) Example:\n",
    "\n",
    "UPPERCASE shall mean the Internal Revenue Code of 1986, as the same may be amended or supplemented from time to time, and any successor statute of similar import, and the rules and regulations thereunder, as from time to time in effect.\n"
   ]
  },
  {
   "cell_type": "code",
   "execution_count": 22,
   "metadata": {
    "collapsed": true
   },
   "outputs": [],
   "source": [
    "'''\n",
    "Author: Zoe\n",
    "\n",
    "Check if upper case word in the paragraph, used in match function\n",
    "\n",
    "-para = paragraph\n",
    "\n",
    "return True/False\n",
    "'''\n",
    "def upper_case(para):\n",
    "    words = re.findall(r'([A-Z]+?)\\s',para.text)\n",
    "    if not words:\n",
    "        return False\n",
    "    if para.text.startswith(words[0]):\n",
    "        return True\n",
    "    else:\n",
    "        return False"
   ]
  },
  {
   "cell_type": "markdown",
   "metadata": {},
   "source": [
    "#### Remove_Stopwords Test"
   ]
  },
  {
   "cell_type": "code",
   "execution_count": 23,
   "metadata": {},
   "outputs": [
    {
     "name": "stdout",
     "output_type": "stream",
     "text": [
      "Change Control\n"
     ]
    }
   ],
   "source": [
    "'''\n",
    "Testing Function\n",
    "'''\n",
    "directory_path = 'res' \n",
    "fileName = 'stop_words.txt'\n",
    "stop_set = read_stop_words(directory_path + '/' +  fileName)\n",
    "keyword = \"Change of Control\"\n",
    "print remove_stopwords(keyword, stop_set)"
   ]
  },
  {
   "cell_type": "code",
   "execution_count": 24,
   "metadata": {
    "collapsed": true
   },
   "outputs": [],
   "source": [
    "'''\n",
    "Author: Eden\n",
    "\n",
    "Still Testing\n",
    "\n",
    "Traversing through each of the paragraphs and find the paragraph containing the keywords\n",
    "\n",
    "-paras = all paragraphs\n",
    "-keywords = search words\n",
    "\n",
    "return a list of paragraph index \n",
    "'''\n",
    "def search_2(paras, keywords, stop_set):\n",
    "    index = []\n",
    "    i = 0\n",
    "    # remove stop words and get words list\n",
    "    target = remove_stopwords(keywords.lower(), stop_set)\n",
    "    target_words = re.split('[\\s]', target)\n",
    "    \n",
    "    # iterate all the paragraph and return the index of the paragraph which contains key words\n",
    "    while (i<len(paras)):\n",
    "        p = paras[i]\n",
    "        # use sliding window to get key words\n",
    "        if contains_sliding_window(p.text.lower(), target_words, 2 * len(keywords)):\n",
    "            index.append(i)\n",
    "        i = i+1\n",
    "    return index"
   ]
  },
  {
   "cell_type": "code",
   "execution_count": 25,
   "metadata": {
    "collapsed": true
   },
   "outputs": [],
   "source": [
    "'''\n",
    "Author: Eden\n",
    "\n",
    "Still Testing\n",
    "\n",
    "Find the keywords by sliding windows so that even the order of keywords change, we can still fetch the results\n",
    "\n",
    "-text = all paragraphs\n",
    "-keywords = search words\n",
    "-win_len = the length of sliding window\n",
    "\n",
    "return True if the keyword is in text within a sliding window by random orders.\n",
    "'''\n",
    "def contains_sliding_window(text, target_words, win_len):\n",
    "    probe = target_words[0] # probe is the first word of target words list\n",
    "    \n",
    "    flag = False # flag is used to check whether we find all key words in the given text\n",
    "    idx = 0\n",
    "    while (True):\n",
    "        text = text[idx:] # search the remaining text after last search\n",
    "        if probe in text:\n",
    "            idx = text.index(probe) # get the index of probe first appearance in text\n",
    "            l_pointer = max(0,idx - win_len) # determine the left border of sliding window\n",
    "            r_pointer = min(len(text),idx + win_len) # determine the right border of sliding window\n",
    "            window_str = text[l_pointer:r_pointer] # substr the content of sliding window \n",
    "            flag = True\n",
    "            for target_word in target_words:  # check whether every word exist in sliding window, \n",
    "                if target_word not in window_str:  # if any word miss in sliding windows string, flag will be false\n",
    "                    flag = False\n",
    "            if flag:\n",
    "                return True\n",
    "            else:\n",
    "                idx = idx + 1  # increase index to skip first character and avoid infinite loop\n",
    "        else:\n",
    "            return False # if there is not probe in the text any more, return false\n",
    "    return False\n"
   ]
  },
  {
   "cell_type": "code",
   "execution_count": 26,
   "metadata": {},
   "outputs": [
    {
     "name": "stdout",
     "output_type": "stream",
     "text": [
      "aaChange of Control means an event or series of events by which:1\n"
     ]
    }
   ],
   "source": [
    "'''\n",
    "Testing Function\n",
    "'''\n",
    "text = 'aaChange of Control means an event or series of events by which:'\n",
    "if contains_sliding_window(text.lower(), 'change control', 2 * len(keyword)):\n",
    "    print text + '1'"
   ]
  },
  {
   "cell_type": "markdown",
   "metadata": {},
   "source": [
    "### upper_camel_case(para, keywords) Example:\n",
    "Capitalized Lease Obligations means, with respect to any Person, all outstanding obligations of such Person in respect of Capital Leases, taken at the capitalized amount thereof accounted for as indebtedness in accordance with GAAP.\n",
    "\n",
    "Change of Control means that (a) any Person or group (within the meaning of Rule13d-5 of the SEC under the Exchange Act) shall become the Beneficial Owner of 20% or more of the Voting Equity Interests of the Borrower, or (b) a majority of the members of the Board of Directors of the Borrower shall cease to be Continuing Members.\n",
    "\n",
    "Code shall mean the Internal Revenue Code of 1986, as the same may be amended or supplemented from time to time, and any successor statute of similar import, and the rules and regulations thereunder, as from time to time in effect."
   ]
  },
  {
   "cell_type": "code",
   "execution_count": 27,
   "metadata": {
    "collapsed": true
   },
   "outputs": [],
   "source": [
    "'''\n",
    "Author: Zoe and Zheng\n",
    "\n",
    "Check if the words following upper camel rule in the paragraph, used in match function\n",
    "\n",
    "-para = paragraph\n",
    "-stop_set = stop words\n",
    "\n",
    "return True/False\n",
    "'''\n",
    "def upper_camel_case(para, stop_set):\n",
    "    words_list = re.split(\" \", para.text)\n",
    "    new_para = remove_stopwords(para.text, stop_set)\n",
    "    new_para_list = re.split(\" \", new_para)\n",
    "    new_words_list = re.findall(r'([A-Z][a-z0-9\\']+)[^A-Z]?\\s', new_para)\n",
    "    last_word = \"\"\n",
    "    for i in range(len(new_words_list)):\n",
    "        if new_words_list[i] == new_para_list[i]:\n",
    "            last_word = new_words_list[i]\n",
    "        else:\n",
    "            break\n",
    "    result = []\n",
    "    for j in range(len(words_list)):\n",
    "        if last_word == words_list[j]:\n",
    "            result.append(last_word)\n",
    "            break\n",
    "        else:\n",
    "            result.append(words_list[j])\n",
    "    if len(result) > 1:\n",
    "        return True\n",
    "    else:\n",
    "        return False"
   ]
  },
  {
   "cell_type": "markdown",
   "metadata": {},
   "source": [
    "### is_upper_camel_case() Example:\n",
    "Change of Control means that (a) any Person or group (within the meaning of Rule13d-5 of the SEC under the Exchange Act) shall become the Beneficial Owner of 20% or more of the Voting Equity Interests of the Borrower, or (b) a majority of the members of the Board of Directors of the Borrower shall cease to be Continuing Members.\n"
   ]
  },
  {
   "cell_type": "code",
   "execution_count": 28,
   "metadata": {
    "collapsed": true
   },
   "outputs": [],
   "source": [
    "'''\n",
    "Author: Zoe and Zheng\n",
    "\n",
    "Check if the keywords is following upper camel rule in the paragraph or not, used in find_pattern function\n",
    "\n",
    "-para = paragraph\n",
    "-keyword = keyword\n",
    "-stop_set = stop words\n",
    "\n",
    "return True/False\n",
    "'''\n",
    "def is_upper_camel_case(paragraph, keyword, stop_set):\n",
    "    words_list = re.compile('\\w+').findall(paragraph.text)\n",
    "    new_paragraph = remove_stopwords(paragraph.text, stop_set)\n",
    "    new_paragraph_list = re.compile('\\w+').findall(new_paragraph)\n",
    "    new_words_list = re.findall(r'([A-Z][a-z0-9\\']+)[^A-Z]?\\s', new_paragraph)\n",
    "\n",
    "    last_word = \"\"\n",
    "    for i in range(len(new_words_list)):\n",
    "        if new_words_list[i] == new_paragraph_list[i]:\n",
    "            last_word = new_words_list[i]\n",
    "        else:\n",
    "            break\n",
    "    result = []\n",
    "    for j in range(len(words_list)):\n",
    "        if last_word == words_list[j]:\n",
    "            result.append(last_word)\n",
    "            break\n",
    "        else:\n",
    "            result.append(words_list[j])\n",
    "    results = \" \".join(result)\n",
    "    if keyword.lower() in results.lower():\n",
    "        return True\n",
    "    else:\n",
    "        return False"
   ]
  },
  {
   "cell_type": "code",
   "execution_count": 29,
   "metadata": {
    "collapsed": true
   },
   "outputs": [],
   "source": [
    "'''\n",
    "Author: Yufei\n",
    "\n",
    "Traversing through each of the paragraphs and find the paragraph containing the keywords\n",
    "\n",
    "-paras = all paragraphs\n",
    "-keywords = search words\n",
    "\n",
    "return a list of paragraph index \n",
    "'''\n",
    "def search(paras, keywords):\n",
    "    index = []\n",
    "    i = 0\n",
    "    while (i<len(paras)):\n",
    "        p = paras[i]\n",
    "        #print(p.text)\n",
    "        if keywords.lower() in p.text.lower():\n",
    "            #print(\"123\")\n",
    "            index.append(i)\n",
    "        i = i+1\n",
    "    \n",
    "    return index"
   ]
  },
  {
   "cell_type": "code",
   "execution_count": 30,
   "metadata": {
    "collapsed": true
   },
   "outputs": [],
   "source": [
    "'''\n",
    "Author: Yufei\n",
    "\n",
    "Find the pattern of the paragraph containing the keywords by call the is_* function\n",
    "\n",
    "-paras = all paragraphs\n",
    "-index = paragraph index\n",
    "-keyword = search words\n",
    "\n",
    "return True/False list, \n",
    "[bold, italic, underline, double_quotes, single_quotes, upper case, (upper camel case), indent space, list paragraph, normal following list paragraph, bullet list]\n",
    "\n",
    "'''\n",
    "def find_patterns(paras, index, keyword, stop_set):\n",
    "    paragraph = paras[index]\n",
    "    patterns = []\n",
    "    patterns.append(is_bold(paragraph, keyword))\n",
    "    patterns.append(is_italic(paragraph, keyword))\n",
    "    patterns.append(is_underline(paragraph, keyword))\n",
    "    patterns.append(is_double_quotes(paragraph, keyword, stop_set))\n",
    "    patterns.append(is_single_quotes(paragraph, keyword, stop_set))\n",
    "    patterns.append(is_upper_case(paragraph, keyword))\n",
    "    patterns.append(is_upper_camel_case(paragraph, keyword, stop_set))\n",
    "    patterns.append(indent(paragraph))\n",
    "    patterns.append(isListPara(paragraph))\n",
    "    patterns.append(isNormalFollowingListPara(paras, index))\n",
    "    patterns.append(isBullet1FollowingBullet2(paras, index))\n",
    "    patterns.append(bullet_list(paragraph))\n",
    "    return patterns"
   ]
  },
  {
   "cell_type": "code",
   "execution_count": 31,
   "metadata": {
    "collapsed": true
   },
   "outputs": [],
   "source": [
    "'''\n",
    "Author: Yufei\n",
    "\n",
    "Find the pattern of the paragraph containing the keywords by call the is_* function\n",
    "\n",
    "-paras = all paragraphs\n",
    "-targetPatterns = the target pattern\n",
    "-startIndex = paragraph index\n",
    "\n",
    "return content\n",
    "'''\n",
    "def match(paras, targetPatterns, startIndex):\n",
    "    \n",
    "    i = startIndex + 1\n",
    "    match = []\n",
    "    \n",
    "    print '\\tTarget Patterns: ' + str(parttern_translate(targetPatterns))\n",
    "    \n",
    "    n = 0\n",
    "    while (i<len(paras)):\n",
    "        \n",
    "        patterns = []\n",
    "        p = paras[i]\n",
    "        \n",
    "        if p.text == \"\":\n",
    "            continue\n",
    "        \n",
    "\n",
    "        patterns.append(bold(p))\n",
    "        patterns.append(italic(p))\n",
    "        patterns.append(underline(p))\n",
    "        patterns.append(double_quotes(p))\n",
    "        patterns.append(single_quotes(p))\n",
    "        patterns.append(upper_case(p))\n",
    "        patterns.append(upper_camel_case(p, stop_set))\n",
    "        patterns.append(indent(p))\n",
    "        patterns.append(isListPara(p))\n",
    "        patterns.append(isNormalFollowingListPara(paras, i))\n",
    "        patterns.append(isBullet1FollowingBullet2(paras, i))\n",
    "        patterns.append(bullet_list(p))\n",
    "        \n",
    "        print '\\n\\tNext Paragraph:\\t{0}\\n\\n\\t\\t{1}'.format(str(parttern_translate(patterns)), p.text.encode(\"utf-8\"))\n",
    "        n = n + 1\n",
    "        if patterns == targetPatterns:\n",
    "            print 'Bingo Bingo Bingo Bingo'\n",
    "            break\n",
    "        i = i + 1\n",
    "        # not find same pattern\n",
    "        if n > 10 or i == len(paras):\n",
    "            match.append(paras[startIndex])\n",
    "            i = startIndex\n",
    "            break\n",
    "    for x in range(startIndex, i):\n",
    "        match.append(paras[x])\n",
    "        \n",
    "    return match, i-1"
   ]
  },
  {
   "cell_type": "code",
   "execution_count": 32,
   "metadata": {
    "collapsed": true
   },
   "outputs": [],
   "source": [
    "'''\n",
    "Author: Eden\n",
    "\n",
    "return the list of patterns' name\n",
    "\n",
    "-pattern = the pattern list with true/false\n",
    "\n",
    "return list of patterns name\n",
    "'''\n",
    "def parttern_translate(pattern):\n",
    "    # This function is for testing, return the list of patterns' name so that it is easier check the patterns match\n",
    "    list = []\n",
    "    if pattern[0]:\n",
    "        list.append('blod')\n",
    "    if pattern[1]:\n",
    "        list.append('italic')\n",
    "    if pattern[2]:\n",
    "        list.append('underline')\n",
    "    if pattern[3]:\n",
    "        list.append('double_quotes')\n",
    "    if pattern[4]:\n",
    "        list.append('single_quotes')\n",
    "    if pattern[5]:\n",
    "        list.append('upper_case')\n",
    "    if pattern[6]:\n",
    "        list.append('upper_camel_case')\n",
    "    if pattern[7]:\n",
    "        list.append(pattern[7])\n",
    "    if pattern[8]:\n",
    "        list.append('list_paragraph')\n",
    "    if pattern[9]:\n",
    "        list.append('normal_following_list_paragraph')\n",
    "    if pattern[10]:\n",
    "        list.append('Bullet1_Following_Bullet2')\n",
    "    if pattern[11]:\n",
    "        list.append('bullet_list')\n",
    "    return list\n",
    "    "
   ]
  },
  {
   "cell_type": "code",
   "execution_count": null,
   "metadata": {
    "collapsed": true
   },
   "outputs": [],
   "source": [
    "# # Abhay\n",
    "# '''\n",
    "# Open the output file in append mode and pull related language from the files in the input folder\n",
    "# '''\n",
    "\n",
    "# ########################################################################\n",
    "# out_filepath = 'Output/'\n",
    "# out_filename = 'Output_search.csv'\n",
    "# out_path = out_filepath + out_filename\n",
    "# ########################################################################\n",
    "\n",
    "\n",
    "# header = ['File Name', 'Keywords', 'Change of Control'] # Column names in output file \n",
    "\n",
    "# with open(out_path, 'wb') as f:\n",
    "#     wr = csv.writer(f)\n",
    "#     wr.writerow(header)\n",
    "\n",
    "# with open(out_path, 'ab') as f:\n",
    "#     # Input folder path\n",
    "#     directory_path = 'input' \n",
    "    \n",
    "#     # Parse through each file in the input folder path\n",
    "#     for fileName in os.listdir(directory_path):\n",
    "#         print fileName\n",
    "        \n",
    "#         # Create a Document object of each of the files\n",
    "#         #document = Document(directory_path + \"/\" +fileName)\n",
    "#         document = Document('input/upper_camel_case+underline+after_list_paragraph.docx')\n",
    "        \n",
    "        \n",
    "#         # A list to add all the paragraphs in the document\n",
    "#         paras = []\n",
    "        \n",
    "#         '''\n",
    "#         The following for loop is used to add all the paragraphs in the document to the paras list object\n",
    "#         '''\n",
    "#         for p in document.paragraphs:        \n",
    "#             paras.append(p)\n",
    "            \n",
    "#         paras_number = len(paras) # Find the number of paragraphs in the document\n",
    "        \n",
    "#         paras_toPrint = [] # A list to add all the paragraphs relevant to 'Change of Control' language in this case\n",
    "        \n",
    "#         keyword = \"Change of Control\"\n",
    "#         keywordindex = search(paras, keyword)\n",
    "        \n",
    "#         print('keywordIndex:', keywordindex)\n",
    "        \n",
    "#         results = []\n",
    "#         result = \"\"\n",
    "#         for index in keywordindex:\n",
    "#             print 'Target Para', paras[index].text\n",
    "#             target = find_patterns(paras, index, keyword)\n",
    "            \n",
    "#             if index == paras_number - 1:\n",
    "#                 result = paras[index]\n",
    "#             else:\n",
    "#                 result = match(paras, target, index)\n",
    "            \n",
    "#             results.append(result)\n",
    "\n",
    "#         wr = csv.writer(f)\n",
    "#         wr.writerow([fileName, keyword, results])\n",
    "        \n",
    "# print(\"end\")\n",
    "# f.close()"
   ]
  },
  {
   "cell_type": "code",
   "execution_count": null,
   "metadata": {
    "scrolled": true
   },
   "outputs": [
    {
     "name": "stdout",
     "output_type": "stream",
     "text": [
      "Keyword: Change of Control\n",
      "\n",
      "-------------------------------------------------------------------------\n",
      "File name: change_in_control_2_Mylan.docx\n",
      "\n",
      "\tTarget Paragraph: [9]\n",
      "\t\t          1.2 “Cause” means (a) for purposes of a termination of employment (other than during the Change in Control Protection Period): (i) the failure by the Eligible Employee to substantially perform the Eligible Employee’s duties (other than any such failure resulting from the Eligible Employee’s incapacity due to physical or mental illness), (ii) the continued failure by the Eligible Employee to perform his duties at a satisfactory level of performance after written notification from his or her manager or supervisor of such failure and after having been provided with a reasonable opportunity to cure such failure, or (iii) the engaging by the Eligible Employee in conduct which is injurious to the Company, monetarily or otherwise; and (b) for purposes of a termination during the Change in Control Protection Period: (x) the willful and continued failure by the Eligible Employee to substantially perform the Eligible Employee’s duties (other than any such failure resulting from the Eligible Employee’s incapacity due to physical or mental illness) or (y) the willful engaging by the Eligible Employee in conduct which is injurious to the Company, monetarily or otherwise. For purposes of clause (b) above, no act, or failure to act, on the Eligible Employee’s part shall be deemed “willful” unless done, or omitted to be done, by the Eligible Employee not in good faith or without reasonable belief that the Eligible Employee’s act, or failure to act, was in the best interests of the Company.\n",
      "\n",
      "\tTarget Paragraph: [10]\n",
      "\t\t          1.3 A “Change in Control” shall be deemed to have occurred if the event set forth in any one of the following paragraphs shall have occurred:\n",
      "\n",
      "\tTarget Patterns: ['underline', 'double_quotes', 'upper_camel_case', 'Bullet1_Following_Bullet2', 'bullet_list']\n",
      "\n",
      "\tNext Paragraph:\t['upper_camel_case']\n",
      "\n",
      "\t\t     (1) The acquisition by any individual, entity or group (within the meaning of Section 13(d)(3) or 14(d)(2) of the Exchange Act) (a “Person”) of beneficial ownership (within the meaning of Rule 13d-3 promulgated under the Exchange Act or any successor provision) of 20% or more of either (A) the then-outstanding shares of common stock of the Company (the “Outstanding Company Common Stock”) or (B) the combined voting power of the then-outstanding voting securities of the Company entitled to vote generally in the election of directors (the “Outstanding Company Voting Securities”); provided, however, that, for purposes of this Section 1.4(1), the following acquisitions shall not constitute a Change in Control: (i) any acquisition directly from the Company or any of its subsidiaries, (ii) any acquisition by the Company or any of its subsidiaries, (iii) any acquisition by any employee benefit plan (or related trust) sponsored or maintained by the Company or any subsidiary, (iv) any acquisition by a Person that is permitted to, and actually does, report its beneficial ownership on Schedule 13G (or any successor schedule); provided that, if such Person subsequently becomes required to or does report its beneficial ownership on Schedule 13D (or any successor schedule), then, for purposes of this paragraph, such Person shall be deemed to have first acquired, on the first date on which such Person becomes required to or does so report, beneficial ownership of all of the Outstanding Company Common Stock and Outstanding Company Voting Securities beneficially owned by it on such date or (v) any acquisition pursuant to a transaction that complies with Section 1.3 (3)(A), (3)(B) and (3)(C); or\n",
      "\n",
      "\tNext Paragraph:\t['upper_camel_case']\n",
      "\n",
      "\t\t     (2) Individuals who, as of the Effective Date, constitute the Board (the “Incumbent Board”) cease for any reason to constitute at least a majority of the Board; provided, however, that any individual becoming a director subsequent to the Effective Date whose election, or nomination for election by the Company’s shareholders, was approved by a vote of at least two-thirds of the directors then comprising the Incumbent Board shall be considered as though such individual were a member of the Incumbent Board; provided, however, the term “Incumbent Board” as used in this Plan shall not include any such individual whose initial assumption of office as a director occurs as a result of an actual or threatened election contest with respect to the election or removal of directors or other actual or threatened solicitation of proxies or consents by or on behalf of a Person other than the Board; or\n",
      "\n",
      "\tNext Paragraph:\t['upper_camel_case']\n",
      "\n",
      "\t\t     (3) Consummation of a reorganization, merger, statutory share exchange or consolidation or similar corporate transaction involving the Company or any of its subsidiaries, a sale or other disposition of all or substantially all of the assets of the Company, or the acquisition of assets or stock of another entity by the Company or any of its subsidiaries (each, a “Business Combination”), in each case unless, following such Business Combination, (A) the Outstanding Company Common Stock and the Outstanding Company Voting Securities immediately prior to such Business Combination continue to represent (either by remaining outstanding or being converted into voting securities of the resulting or surviving entity or any parent thereof) more than 50% of the then-outstanding shares of common stock and the combined voting power of the then-outstanding voting securities entitled to vote generally in the election of directors, as the case may be, of the corporation resulting from such Business Combination (including, without limitation, a corporation that, as a result of such transaction, owns the Company or all or substantially all of the Company’s assets either directly or through one or more subsidiaries), (B) no Person (excluding any employee benefit plan (or related trust) of the Company or such corporation resulting from such Business Combination) beneficially owns, directly or indirectly, 20% or more of, respectively, the then-outstanding shares of common stock of the corporation resulting from such Business Combination or the combined voting power of the then-outstanding voting securities of such corporation, except to the extent that such ownership existed prior to the Business Combination, and (C) individuals who comprise the Incumbent Board immediately prior to such Business Combination constitute at least a majority of the members of the board of directors of the corporation resulting from such Business Combination (including, without limitation, a corporation that, as a result of such transaction, owns the Company or all or substantially of the Company’s assets either directly or through one or more subsidiaries); or\n",
      "\n",
      "\tNext Paragraph:\t['upper_camel_case', 'Bullet1_Following_Bullet2']\n",
      "\n",
      "\t\t     (4) Approval by the shareholders of the Company of a complete liquidation or dissolution of the Company.\n",
      "\n",
      "\tNext Paragraph:\t['underline', 'double_quotes', 'upper_camel_case', 'Bullet1_Following_Bullet2', 'bullet_list']\n",
      "\n",
      "\t\t          1.4 “Change in Control Protection Period” shall mean the period commencing on the date a Change in Control occurs and ending on the 2nd anniversary of such date.\n",
      "Bingo Bingo Bingo Bingo\n",
      "\tTarget Paragraph: [15]\n",
      "\t\t          1.4 “Change in Control Protection Period” shall mean the period commencing on the date a Change in Control occurs and ending on the 2nd anniversary of such date.\n",
      "\n",
      "\tTarget Patterns: ['underline', 'double_quotes', 'upper_camel_case', 'Bullet1_Following_Bullet2', 'bullet_list']\n",
      "\n",
      "\tNext Paragraph:\t['underline', 'double_quotes', 'upper_camel_case', 'Bullet1_Following_Bullet2', 'bullet_list']\n",
      "\n",
      "\t\t          1.5 “COBRA” means the Consolidated Omnibus Budget Reconciliation Act of 1985, as from time to time amended.\n",
      "Bingo Bingo Bingo Bingo\n",
      "\tTarget Paragraph: [21]\n",
      "\t\t          1.10 “Eligible Employee” means, (i) for purposes of terminations of employment (other than during the Change in Control Protection Period), any full-time employee of the Company or any subsidiary thereof who has completed at least two (2) Years of Service with the Company or any subsidiary prior to his or her Severance Date and (ii) for purposes of terminations of employment during the Change in Control Protection Period, any full-time employee of the Company or any subsidiary thereof; provided, however, that Eligible Employees shall not include (1) any employees in respect of whom the Company has entered into a collective bargaining agreement, (2) any individual who is a party to a written employment agreement or is eligible under any other plan, policy or arrangement sponsored or maintained by the Company or any subsidiary (including but not limited to an entity that may become a subsidiary after the Effective Date) thereof (other than a Transition and Succession Agreement) that provides for severance payment and benefits upon termination of employment, unless such individual elects to waive all severance payments and benefits under such agreement, plan, policy or arrangement in connection with such individual’s termination of employment or (3) any individual who is actually entitled (i.e., not just eligible) to receive severance payments and benefits pursuant to a Transition and Succession Agreement with the Company.\n",
      "\n",
      "\tTarget Paragraph: [25]\n",
      "\t\t          1.14 “Good Reason” for a Tier I Employee or a Tier II Employee means (i) a material adverse alteration in the nature or status of the employee’s responsibilities with the Company or any subsidiary thereof from those in effect immediately prior to the Change in Control, (ii) a reduction in the employee’s annual salary or target bonus opportunity from those in effect immediately prior to the Change in Control, or (iii) a relocation of the employee’s principal place of employment that causes the employee’s commute from his or her principal residence to the new work location to increase by 30 miles or more. “Good Reason” for any other Eligible Employee means (x) a reduction in the employee’s annual base salary or (y) a relocation of the employee’s principal place of employment that causes the employee’s commute from his or her principal residence to the new work location to increase by 30 miles or more.\n",
      "\n",
      "\tTarget Paragraph: [28]\n",
      "\t\t          1.17 A “Potential Change in Control” shall be deemed to have occurred if the event set forth in any one of the following paragraphs shall have occurred:\n",
      "\n",
      "\tTarget Patterns: ['underline', 'double_quotes', 'upper_camel_case', 'Bullet1_Following_Bullet2', 'bullet_list']\n",
      "\n",
      "\tNext Paragraph:\t['upper_camel_case']\n",
      "\n",
      "\t\t     (1) The Company enters into a definitive agreement, the consummation of which would result in the occurrence of a Change in Control;\n",
      "\n",
      "\tNext Paragraph:\t['upper_camel_case']\n",
      "\n",
      "\t\t     (2) Any Person (other than the Company or any of its subsidiaries) commences (within the meaning of Regulation 14D promulgated under the Exchange Act or any successor regulation) a tender or exchange offer which, if consummated, would result in a Change in Control;\n",
      "\n",
      "\tNext Paragraph:\t['upper_camel_case']\n",
      "\n",
      "\t\t     (3) Any Person (other than the Company or any of its subsidiaries) files with the Securities and Exchange Commission a preliminary or definitive proxy statement relating to an election contest with respect to the election or removal of directors of the Company which solicitation, if successful, would result in a Change in Control;\n"
     ]
    }
   ],
   "source": [
    "\n",
    "'''\n",
    "Main Function.\n",
    "'''\n",
    "\n",
    "########################################################################\n",
    "out_filepath = 'test_3/output/'\n",
    "out_filename = 'Output_search.csv'\n",
    "out_path = out_filepath + out_filename\n",
    "########################################################################\n",
    "\n",
    "\n",
    "header = ['File Name', 'Keywords', 'Content'] # Column names in output file \n",
    "\n",
    "with open(out_path, 'wb') as f:\n",
    "    wr = csv.writer(f)\n",
    "    wr.writerow(header)\n",
    "    \n",
    "with open(out_path, 'ab') as f:\n",
    "    # Input folder path\n",
    "    directory_path = 'test_3/input/' \n",
    "    \n",
    "    stop_set = read_stop_words('res/stop_words.txt')    \n",
    "    \n",
    "    # Parse through each file in the input folder path\n",
    "    print 'Keyword: ' + 'Change of Control' + '\\n'\n",
    "    for fileName in os.listdir(directory_path):\n",
    "        if fileName == '.DS_Store':\n",
    "            continue\n",
    "        if fileName.startswith('~$'):\n",
    "            continue\n",
    "        print '-------------------------------------------------------------------------'\n",
    "        print 'File name: ' + fileName + '\\n'\n",
    "        \n",
    "        # Create a Document object of each of the files\n",
    "        document = Document(directory_path + \"/\" +fileName)\n",
    "        # document = Document('/upper_camel_case+underline+after_list_paragraph.docx')\n",
    "        \n",
    "        \n",
    "        # A list to add all the paragraphs in the document\n",
    "        paras = []\n",
    "        \n",
    "        '''\n",
    "        The following for loop is used to add all the paragraphs in the document to the paras list object\n",
    "        '''\n",
    "        for p in document.paragraphs:        \n",
    "            paras.append(p)\n",
    "            \n",
    "        paras_number = len(paras) # Find the number of paragraphs in the document\n",
    "        \n",
    "        paras_toPrint = [] # A list to add all the paragraphs relevant to 'Change of Control' language in this case\n",
    "        \n",
    "        keyword = \"Change in Control\"\n",
    "#         keywordindex = search(paras, keyword)\n",
    "        keywordindex = search_2(paras, keyword, stop_set)\n",
    "        \n",
    "#         print '\\tkeywordIndex: ' + str(keywordindex)\n",
    "#         print\n",
    "        \n",
    "        results = []\n",
    "        result = \"\"\n",
    "        endindex = -1\n",
    "        for index in keywordindex:\n",
    "            if index <= endindex:\n",
    "                continue\n",
    "            if not keyword.lower() in paras[index].text[:100].lower():\n",
    "                results.append(paras[index])\n",
    "                endindex = index\n",
    "                print '\\tTarget Paragraph: [{0}]\\n\\t\\t{1}\\n'.format(index, paras[index].text.encode(\"utf-8\"))\n",
    "                continue\n",
    "            print '\\tTarget Paragraph: [{0}]\\n\\t\\t{1}\\n'.format(index, paras[index].text.encode(\"utf-8\"))\n",
    "            target = find_patterns(paras, index, keyword, stop_set)\n",
    "            \n",
    "\n",
    "            if index == paras_number - 1:\n",
    "                result = paras[index]\n",
    "            else:\n",
    "                result, endindex = match(paras, target, index)\n",
    "            \n",
    "            results.append(result)\n",
    "\n",
    "        wr = csv.writer(f)\n",
    "        # Created a single list of all instances of 'Change of Control'\n",
    "        # Ignored unrecognized ascii characters that throw an encoding error. Need improvement\n",
    "        for result in results:\n",
    "            if hasattr(result, '__iter__'):\n",
    "                text =  [paras.text.encode('ascii','ignore') for paras in result]\n",
    "                res = \"\\n\".join(text)\n",
    "            else:\n",
    "                res = result.text.encode('ascii','ignore')\n",
    "            \n",
    "            wr.writerow([fileName, keyword, res])\n",
    "        \n",
    "        print '\\n'\n",
    "print(\"end\")\n",
    "f.close()"
   ]
  },
  {
   "cell_type": "code",
   "execution_count": null,
   "metadata": {
    "collapsed": true
   },
   "outputs": [],
   "source": []
  },
  {
   "cell_type": "code",
   "execution_count": null,
   "metadata": {
    "collapsed": true
   },
   "outputs": [],
   "source": [
    "os.getcwd()"
   ]
  },
  {
   "cell_type": "code",
   "execution_count": null,
   "metadata": {
    "collapsed": true
   },
   "outputs": [],
   "source": []
  },
  {
   "cell_type": "code",
   "execution_count": null,
   "metadata": {
    "collapsed": true
   },
   "outputs": [],
   "source": []
  },
  {
   "cell_type": "code",
   "execution_count": null,
   "metadata": {
    "collapsed": true
   },
   "outputs": [],
   "source": []
  },
  {
   "cell_type": "code",
   "execution_count": null,
   "metadata": {
    "collapsed": true
   },
   "outputs": [],
   "source": []
  },
  {
   "cell_type": "code",
   "execution_count": null,
   "metadata": {
    "collapsed": true
   },
   "outputs": [],
   "source": []
  }
 ],
 "metadata": {
  "kernelspec": {
   "display_name": "Python 2",
   "language": "python",
   "name": "python2"
  },
  "language_info": {
   "codemirror_mode": {
    "name": "ipython",
    "version": 2
   },
   "file_extension": ".py",
   "mimetype": "text/x-python",
   "name": "python",
   "nbconvert_exporter": "python",
   "pygments_lexer": "ipython2",
   "version": "2.7.14"
  }
 },
 "nbformat": 4,
 "nbformat_minor": 1
}
