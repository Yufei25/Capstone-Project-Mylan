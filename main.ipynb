{
 "cells": [
  {
   "cell_type": "code",
   "execution_count": null,
   "metadata": {
    "collapsed": true
   },
   "outputs": [],
   "source": [
    "from docx import Document\n",
    "import pandas as pd\n",
    "import os\n",
    "import re\n",
    "import csv"
   ]
  },
  {
   "cell_type": "code",
   "execution_count": null,
   "metadata": {
    "collapsed": true
   },
   "outputs": [],
   "source": [
    "def search(paras, keyword):\n",
    "    index = []\n",
    "    i = 0\n",
    "    while (i<len(paras)):\n",
    "    #for p in paras:    # Traversing through each of the paragraphs\n",
    "    p = paras[i]\n",
    "    if keyword.lower() in p.text.lower():\n",
    "        index.append(i)\n",
    "    i = i+1\n",
    "    return index\n",
    "    \n",
    "    "
   ]
  },
  {
   "cell_type": "code",
   "execution_count": 1,
   "metadata": {
    "collapsed": true
   },
   "outputs": [],
   "source": [
    "def find_patterns(paras, keyword):\n",
    "    patterns = []\n",
    "    patterns.append(is_bold(paras, keyword))\n",
    "    patterns.append(is_italic(paras, keyword))\n",
    "    patterns.append(is_underline(paras, keyword))\n",
    "    patterns.append(is_double_quotes(paras, keyword))\n",
    "    patterns.append(is_single_quotes(paras, keyword))\n",
    "    patterns.append(is_upper_case(paras, keyword))\n",
    "    patterns.append(is_camel_upper_case(paras, keyword))\n",
    "    patterns.append(indent(paras))\n",
    "    return patterns"
   ]
  },
  {
   "cell_type": "code",
   "execution_count": null,
   "metadata": {
    "collapsed": true
   },
   "outputs": [],
   "source": [
    "def indent(paras):\n",
    "    return paras.paragraph_format.first_line_indent\n",
    "        "
   ]
  },
  {
   "cell_type": "code",
   "execution_count": null,
   "metadata": {
    "collapsed": true
   },
   "outputs": [],
   "source": [
    "def is_indent(paras, indent):\n",
    "    if paras.paragraph_format.first_line_indent == indent:\n",
    "        return True\n",
    "    else:\n",
    "        return False"
   ]
  },
  {
   "cell_type": "code",
   "execution_count": null,
   "metadata": {
    "collapsed": true
   },
   "outputs": [],
   "source": [
    "def uppercase(paras, keyword):\n",
    "    if keyword.upper() in p.text:\n",
    "        return True\n",
    "    else:\n",
    "        return False\n",
    "    "
   ]
  },
  {
   "cell_type": "code",
   "execution_count": null,
   "metadata": {
    "collapsed": true
   },
   "outputs": [],
   "source": [
    " def is_uppercase(para):\n",
    "    words = re.split(\" \",para.text)\n",
    "    first_word = words[0]\n",
    "    if re.match('^[0-9A-Z]+$',first_word):\n",
    "        return True\n",
    "    else:\n",
    "        return False"
   ]
  },
  {
   "cell_type": "code",
   "execution_count": null,
   "metadata": {
    "collapsed": true
   },
   "outputs": [],
   "source": [
    "# pattern : [bold, italic, underline, double_quotes, single_quotes, upper case, camel upper case, indent]\n",
    "# indent is a number, others are bool\n",
    "def match(pattern, start):\n",
    "    i = start\n",
    "    while (i<len(paras)):\n",
    "        p = paras[i]\n",
    "        result = []\n",
    "        if pattern[0]:\n",
    "            result.append(is_bold(p))\n",
    "        else:\n",
    "            result.append(False)\n",
    "        if pattern[1]:\n",
    "            result.append(is_italic(p))\n",
    "        else:\n",
    "            result.append(False)\n",
    "        if pattern[2]:\n",
    "            result.append(is_underline(p))\n",
    "        else:\n",
    "            result.append(False)\n",
    "        if pattern[3]:\n",
    "            result.append(is_double_quotes(p))\n",
    "        else:\n",
    "            result.append(False)\n",
    "        if pattern[4]:\n",
    "            result.append(is_single_quotes(p))\n",
    "        else:\n",
    "            result.append(False)\n",
    "        if pattern[5]:\n",
    "            result.append(is_upper_case(p))\n",
    "        else:\n",
    "            result.append(False)\n",
    "        if pattern[6]:\n",
    "            result.append(is_camel_upper_case(p))\n",
    "        else:\n",
    "            result.append(False)\n",
    "        \n",
    "        result.append(is_indent(p, pattern[7]))\n",
    "        \n",
    "        # decide whether continue to match\n",
    "        \n",
    "        i = i + 1\n",
    "    return i\n",
    "    \n",
    "    "
   ]
  },
  {
   "cell_type": "code",
   "execution_count": null,
   "metadata": {
    "collapsed": true
   },
   "outputs": [],
   "source": [
    "'''\n",
    "Set output file path\n",
    "'''\n",
    "########################################################################\n",
    "out_filepath = 'Output Search files\\\\'\n",
    "out_filename = 'Output_search.csv'\n",
    "out_path = out_filepath + out_filename\n",
    "########################################################################\n",
    "\n",
    "\n",
    "header = ['File Name', 'Change of Control'] # Column names in output file \n",
    "\n",
    "'''\n",
    "Open the file  and set the header of columns in the output file\n",
    "'''\n",
    "with open (out_path, 'wb') as f:    \n",
    "    wr = csv.writer(f)\n",
    "    wr.writerow(header)\n",
    "\n",
    "'''\n",
    "Open the output file in append mode and pull related language from the files in the input folder\n",
    "'''\n",
    "with open(out_path, 'ab') as f:\n",
    "    \n",
    "    # Input folder path\n",
    "    directory_path = 'Input Search files' \n",
    "    \n",
    "    \n",
    "    # Parse through each file in the input folder path\n",
    "    for files in os.listdir(directory_path):\n",
    "        print files\n",
    "        \n",
    "        # Create a Document object of each of the files\n",
    "        document = Document(directory_path + \"\\\\\" +files)\n",
    "        \n",
    "        # A list to add all the paragraphs in the document\n",
    "        paras = []\n",
    "        \n",
    "        '''\n",
    "        The following for loop is used to add all the paragraphs in the document to the paras list object\n",
    "        '''\n",
    "        for p in document.paragraphs:        \n",
    "            paras.append(p)\n",
    "            \n",
    "            \n",
    "        indexs = search(paras, 'change of control')   \n",
    "            \n",
    "        \n",
    "        wr = csv.writer(f)\n",
    "        \n",
    "        # Created a single list of all instances of 'Change of Control'\n",
    "        # Ignored unrecognized ascii characters that throw an encoding error. Need improvement\n",
    "        text =  [paras.text.encode('ascii','ignore') for paras in paras_toPrint]\n",
    "        res = \"\".join(text)\n",
    "        \n",
    "        # write to file\n",
    "        wr.writerow([files,res])\n",
    "f.close()"
   ]
  }
 ],
 "metadata": {
  "kernelspec": {
   "display_name": "Python 2",
   "language": "python",
   "name": "python2"
  },
  "language_info": {
   "codemirror_mode": {
    "name": "ipython",
    "version": 2
   },
   "file_extension": ".py",
   "mimetype": "text/x-python",
   "name": "python",
   "nbconvert_exporter": "python",
   "pygments_lexer": "ipython2",
   "version": "2.7.14"
  }
 },
 "nbformat": 4,
 "nbformat_minor": 2
}
