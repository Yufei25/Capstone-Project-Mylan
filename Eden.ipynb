{
 "cells": [
  {
   "cell_type": "code",
   "execution_count": 57,
   "metadata": {
    "collapsed": true
   },
   "outputs": [],
   "source": [
    "from docx import Document\n",
    "import pandas as pd\n",
    "import os\n",
    "import re\n",
    "import csv"
   ]
  },
  {
   "cell_type": "code",
   "execution_count": 58,
   "metadata": {
    "collapsed": true
   },
   "outputs": [],
   "source": [
    "'''\n",
    "Set output file path\n",
    "'''\n",
    "########################################################################\n",
    "out_filepath = '/Users/yangyi/Documents/CMU-S18/capstone/untitled folder/'\n",
    "out_filename = 'Output_search.csv'\n",
    "out_path = out_filepath + out_filename\n",
    "########################################################################\n",
    "\n",
    "\n",
    "header = ['File Name', 'Keywords', 'Change of Control'] # Column names in output file \n",
    "\n",
    "'''\n",
    "Open the file  and set the header of columns in the output file\n",
    "'''\n",
    "with open (out_path, 'wb') as f:    \n",
    "    wr = csv.writer(f)\n",
    "    wr.writerow(header)\n"
   ]
  },
  {
   "cell_type": "code",
   "execution_count": 59,
   "metadata": {
    "collapsed": true
   },
   "outputs": [],
   "source": [
    "def contains_sliding_window(text, terms, win_len):\n",
    "    target_words = re.split('[\\s]', terms)\n",
    "    probe = target_words[0]\n",
    "    #print probe\n",
    "    \n",
    "    words = re.split('[\\s]', text)\n",
    "    flag = False\n",
    "    for i in range(len(words)):\n",
    "        word = words[i]\n",
    "        if word.lower() != probe:\n",
    "            continue\n",
    "        l_pointer = max(0,i - win_len)\n",
    "        r_pointer = min(len(words),i + win_len)\n",
    "        for target_word in target_words:\n",
    "            flag = False\n",
    "            for pointer in range(l_pointer, r_pointer):\n",
    "                if words[pointer] == target_word:\n",
    "                    flag = True\n",
    "            if not flag:\n",
    "                break\n",
    "        if flag:\n",
    "            #print True\n",
    "            return True\n",
    "    #print False\n",
    "    return False\n",
    "        "
   ]
  },
  {
   "cell_type": "code",
   "execution_count": null,
   "metadata": {
    "collapsed": true
   },
   "outputs": [],
   "source": [
    "def search(paras, keyword):\n",
    "    output = []\n",
    "    for p in paras:  \n",
    "        if contains_sliding_window(p.text.lower(), 'change control', 4):\n",
    "            output.append(p)    \n",
    "    return output"
   ]
  },
  {
   "cell_type": "code",
   "execution_count": 60,
   "metadata": {
    "collapsed": true
   },
   "outputs": [],
   "source": [
    "# pattern : [bold, italic, underline, double_quotes, single_quotes, upper case, camel upper case, indent]\n",
    "# indent is a number, others are bool\n",
    "def match(pattern, start):\n",
    "    i = start\n",
    "    while (i<len(paras)):\n",
    "        p = paras[i]\n",
    "        result = []\n",
    "        if pattern[0]:\n",
    "            result.append(is_bold(p))\n",
    "        else:\n",
    "            result.append(True)\n",
    "        if pattern[1]:\n",
    "            result.append(is_italic(p))\n",
    "        else:\n",
    "            result.append(True)\n",
    "        if pattern[2]:\n",
    "            result.append(is_underline(p))\n",
    "        else:\n",
    "            result.append(True)\n",
    "        if pattern[3]:\n",
    "            result.append(is_double_quotes(p))\n",
    "        else:\n",
    "            result.append(True)\n",
    "        if pattern[4]:\n",
    "            result.append(is_single_quotes(p))\n",
    "        else:\n",
    "            result.append(True)\n",
    "        if pattern[5]:\n",
    "            result.append(is_upper_case(p))\n",
    "        else:\n",
    "            result.append(True)\n",
    "        if pattern[6]:\n",
    "            result.append(is_camel_upper_case(p))\n",
    "        else:\n",
    "            result.append(True)\n",
    "        \n",
    "        result.append(is_indent(p, pattern[7]))\n",
    "        \n",
    "        \n",
    "        if False in result:\n",
    "            i = i + 1\n",
    "        else: #get the same pattern means the end of the block of keyword\n",
    "            break\n",
    "        \n",
    "    return i"
   ]
  },
  {
   "cell_type": "code",
   "execution_count": 62,
   "metadata": {},
   "outputs": [
    {
     "name": "stdout",
     "output_type": "stream",
     "text": [
      "Law Insider Contract 1oEdosIJEShqS79ujBWrpr.docx\n",
      "2004\n",
      "Law Insider Contract 39EVgZSlGahp2hBqZP8iXh.docx\n",
      "3202\n",
      "Law Insider Contract 5bhKmzEzgSf1XDXqsjd8wD.docx\n",
      "1265\n",
      "Law Insider Contract 6TabeU9bZWiWnaGtnjt8t6.docx\n",
      "2199\n",
      "Law Insider Contract rwfrbXnWOknr8FTAFaGzd.docx\n",
      "48\n",
      "Law Insider Contract z8Pmm0xF8ppq74uAwl83W.docx\n",
      "313\n"
     ]
    }
   ],
   "source": [
    "def bullet_pattern(paras):\n",
    "    pattern = None\n",
    "    flag1 = re.match(\"\\([A-Z]+\\)\", paras.text[:40].lstrip())\n",
    "    flag2 = re.match(\"\\([a-z]+\\)\", paras.text[:40].lstrip())\n",
    "    flag3 = re.match(\"\\([0-9]+\\)\", paras.text[:40].lstrip())\n",
    "              \n",
    "    if flag1:\n",
    "        pattern = \"\\([A-Z]+\\)\"\n",
    "    elif flag2:\n",
    "        pattern = \"\\([a-z]+\\)\"\n",
    "    elif flag3:\n",
    "        pattern = \"\\([0-9]+\\)\"\n",
    "    else:\n",
    "        pattern = None\n",
    "    return pattern"
   ]
  },
  {
   "cell_type": "code",
   "execution_count": 61,
   "metadata": {
    "collapsed": true
   },
   "outputs": [],
   "source": [
    "def is_bullet_pattern(paras, pattern):\n",
    "    if not pattern:\n",
    "        return True\n",
    "    \n",
    "    if re.match(pattern, paras.text[:40].lstrip()):\n",
    "        return True\n",
    "    else\n",
    "        return False                                "
   ]
  },
  {
   "cell_type": "code",
   "execution_count": null,
   "metadata": {
    "collapsed": true
   },
   "outputs": [],
   "source": []
  },
  {
   "cell_type": "code",
   "execution_count": null,
   "metadata": {
    "collapsed": true
   },
   "outputs": [],
   "source": []
  }
 ],
 "metadata": {
  "kernelspec": {
   "display_name": "Python 2",
   "language": "python",
   "name": "python2"
  },
  "language_info": {
   "codemirror_mode": {
    "name": "ipython",
    "version": 2
   },
   "file_extension": ".py",
   "mimetype": "text/x-python",
   "name": "python",
   "nbconvert_exporter": "python",
   "pygments_lexer": "ipython2",
   "version": "2.7.14"
  }
 },
 "nbformat": 4,
 "nbformat_minor": 1
}
