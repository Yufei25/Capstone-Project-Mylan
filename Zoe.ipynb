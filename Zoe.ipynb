{
 "cells": [
  {
   "cell_type": "code",
   "execution_count": 53,
   "metadata": {
    "collapsed": true
   },
   "outputs": [],
   "source": [
    "from docx import Document\n",
    "import pandas as pd\n",
    "import os\n",
    "import re\n",
    "import csv"
   ]
  },
  {
   "cell_type": "code",
   "execution_count": 59,
   "metadata": {},
   "outputs": [],
   "source": [
    "def double_quotes(paragraph):\n",
    "    words = re.findall(r'(\\\".+?\\\")', paragraph)\n",
    "    if paragraph.startswith(words[0]):\n",
    "        return True       \n",
    "    else:\n",
    "        return False"
   ]
  },
  {
   "cell_type": "code",
   "execution_count": 62,
   "metadata": {
    "collapsed": true
   },
   "outputs": [],
   "source": [
    "def is_double_quotes(paragraph, keyword):\n",
    "    words = re.findall(r'\\\"(.+?)\\\"', paragraph)\n",
    "    if paragraph.startswith(\"\\\"\" + words[0] + \"\\\"\") and words[0].lower() == keyword.lower():\n",
    "        return True       \n",
    "    else:\n",
    "        return False"
   ]
  },
  {
   "cell_type": "code",
   "execution_count": 64,
   "metadata": {
    "collapsed": true
   },
   "outputs": [],
   "source": [
    "def single_quotes(paragraph):\n",
    "    words = re.findall(r'(\\'.+?\\')\\s',paragraph)\n",
    "    if paragraph.startswith(words[0]):\n",
    "        return True\n",
    "    else:\n",
    "        return False"
   ]
  },
  {
   "cell_type": "code",
   "execution_count": 65,
   "metadata": {
    "collapsed": true
   },
   "outputs": [],
   "source": [
    "def is_single_quotes(paragraph, keyword):\n",
    "    words = re.findall(r'\\'(.+?)\\'\\s',paragraph)\n",
    "    if paragraph.startswith(\"\\'\"+ words[0] + \"\\'\") and words[0].lower() == keyword.lower():\n",
    "        return True\n",
    "    else:\n",
    "        return False"
   ]
  },
  {
   "cell_type": "code",
   "execution_count": 68,
   "metadata": {
    "collapsed": true
   },
   "outputs": [],
   "source": [
    "def upper_case(paragraph):\n",
    "    words = re.findall(r'([A-Z]+?)\\s',paragraph)\n",
    "    if paragraph.startswith(words[0]):\n",
    "        return True\n",
    "    else:\n",
    "        return False"
   ]
  },
  {
   "cell_type": "code",
   "execution_count": 69,
   "metadata": {
    "collapsed": true
   },
   "outputs": [],
   "source": [
    "def is_upper_case(paragraph, keyword):\n",
    "    words = re.findall(r'([A-Z]+?)\\s',paragraph)\n",
    "    if paragraph.startswith(words[0]) and words[0].lower() == keyword.lower():\n",
    "        return True\n",
    "    else:\n",
    "        return False"
   ]
  },
  {
   "cell_type": "code",
   "execution_count": null,
   "metadata": {
    "collapsed": true
   },
   "outputs": [],
   "source": [
    "from nltk.corpus import stopwords\n",
    "def remove_stopwords(text):\n",
    "    word_list = re.split(r'\\s',text)\n",
    "    filtered_words = [word for word in word_list if word not in stopwords.words('english')]\n",
    "    words = \" \".join(filtered_words)\n",
    "    return words"
   ]
  },
  {
   "cell_type": "code",
   "execution_count": 98,
   "metadata": {
    "collapsed": true
   },
   "outputs": [],
   "source": [
    "def upper_camel_case(paragraph):\n",
    "    words_list = re.split(\" \", paragraph)\n",
    "    new_paragraph = remove_stopwords(paragraph)\n",
    "    new_paragraph_list = re.split(\" \", new_paragraph)\n",
    "    new_words_list = re.findall(r'([A-Z][a-z0-9\\']+)[^A-Z]?\\s', new_paragraph)\n",
    "    last_word = \"\"\n",
    "    for i in range(len(new_words_list)):\n",
    "        if new_words_list[i] == new_paragraph_list[i]:\n",
    "            last_word = new_words_list[i]\n",
    "        else:\n",
    "            break\n",
    "    result = []\n",
    "    for j in range(len(words_list)):\n",
    "        if last_word == words_list[j]:\n",
    "            result.append(last_word)\n",
    "            break\n",
    "        else:\n",
    "            result.append(words_list[j])\n",
    "    if len(result) > 1:\n",
    "        return True\n",
    "    else:\n",
    "        return False"
   ]
  },
  {
   "cell_type": "code",
   "execution_count": 96,
   "metadata": {},
   "outputs": [],
   "source": [
    "def is_upper_camel_case(paragraph, keyword):\n",
    "    words_list = re.split(\" \", paragraph)\n",
    "    new_paragraph = remove_stopwords(paragraph)\n",
    "    new_paragraph_list = re.split(\" \", new_paragraph)\n",
    "    new_words_list = re.findall(r'([A-Z][a-z0-9\\']+)[^A-Z]?\\s', new_paragraph)\n",
    "    last_word = \"\"\n",
    "    for i in range(len(new_words_list)):\n",
    "        if new_words_list[i] == new_paragraph_list[i]:\n",
    "            string.append(new_words_list[i])\n",
    "            last_word = new_words_list[i]\n",
    "        else:\n",
    "            break\n",
    "    result = []\n",
    "    for j in range(len(words_list)):\n",
    "        if last_word == words_list[j]:\n",
    "            result.append(last_word)\n",
    "            break\n",
    "        else:\n",
    "            result.append(words_list[j])\n",
    "    results = \" \".join(result)\n",
    "    if results.lower() == keyword:\n",
    "        return True\n",
    "    else:\n",
    "        return False"
   ]
  }
 ],
 "metadata": {
  "kernelspec": {
   "display_name": "Python 2",
   "language": "python",
   "name": "python2"
  },
  "language_info": {
   "codemirror_mode": {
    "name": "ipython",
    "version": 2
   },
   "file_extension": ".py",
   "mimetype": "text/x-python",
   "name": "python",
   "nbconvert_exporter": "python",
   "pygments_lexer": "ipython2",
   "version": "2.7.14"
  }
 },
 "nbformat": 4,
 "nbformat_minor": 1
}
